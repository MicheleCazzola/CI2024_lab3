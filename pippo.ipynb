{
 "cells": [
  {
   "cell_type": "markdown",
   "metadata": {
    "vscode": {
     "languageId": "plaintext"
    }
   },
   "source": [
    "# Lab 03 (n-Puzzle)"
   ]
  },
  {
   "cell_type": "code",
   "execution_count": 1,
   "metadata": {},
   "outputs": [],
   "source": [
    "from random import choice\n",
    "import numpy as np\n",
    "import heapq\n",
    "from time import time"
   ]
  },
  {
   "cell_type": "code",
   "execution_count": 2,
   "metadata": {},
   "outputs": [],
   "source": [
    "class Action:\n",
    "    def __init__(self, pos1: tuple, pos2: tuple) -> None:\n",
    "        self.pos1 = pos1\n",
    "        self.pos2 = pos2"
   ]
  },
  {
   "cell_type": "code",
   "execution_count": 3,
   "metadata": {},
   "outputs": [],
   "source": [
    "def available_actions(state: np.ndarray) -> list[Action]:\n",
    "    x, y = [int(_[0]) for _ in np.where(state == 0)]\n",
    "    actions = list()\n",
    "    if x > 0:\n",
    "        actions.append(Action((x, y), (x - 1, y)))\n",
    "    if x < len(state) - 1:\n",
    "        actions.append(Action((x, y), (x + 1, y)))\n",
    "    if y > 0:\n",
    "        actions.append(Action((x, y), (x, y - 1)))\n",
    "    if y < len(state) - 1:\n",
    "        actions.append(Action((x, y), (x, y + 1)))\n",
    "    return actions\n",
    "\n",
    "\n",
    "\n",
    "def do_action(state: np.ndarray, action: Action) -> np.ndarray:\n",
    "    new_state = state.copy()\n",
    "    new_state[action.pos1], new_state[action.pos2] = new_state[action.pos2], new_state[action.pos1]\n",
    "    return new_state\n",
    "\n",
    "\n",
    "def create_random_problem(puzzle_dim: int, RANDOMIZE_STEPS=100_000) -> np.ndarray:\n",
    "    state = np.array([i for i in range(1, puzzle_dim**2)] + [0]).reshape((puzzle_dim, puzzle_dim))\n",
    "    for _ in range(RANDOMIZE_STEPS):\n",
    "        state = do_action(state, choice(available_actions(state)))\n",
    "    return state\n",
    "\n",
    "\n",
    "def heuristic(state: np.ndarray) -> int:\n",
    "    \"\"\"Calculates the total Manhattan distance for a given puzzle state with a penalty for linear conflict.\"\"\"\n",
    "    n = len(state)\n",
    "    manhattan_dist = 0\n",
    "    linear_conflict_penalty = 0\n",
    "    \n",
    "    for (i, j), tile in np.ndenumerate(state):\n",
    "        if tile == 0:\n",
    "            continue  # Skip the empty tile\n",
    "        \n",
    "        # Compute Manhattan distance        \n",
    "        goal_i, goal_j = divmod(tile - 1, n)\n",
    "        manhattan_dist += abs(i - goal_i) + abs(j - goal_j)\n",
    "        \n",
    "        # Check for linear conflicts in the same row\n",
    "        if i == goal_i:  # Tile is in the correct row\n",
    "            for k in range(j + 1, n):\n",
    "                other_tile = state[i][k]\n",
    "                if other_tile != tile and other_tile != 0:\n",
    "                    other_goal_i = (other_tile - 1) // n\n",
    "                    if other_goal_i == i and tile > other_tile:  # Both tiles are in their goal row, but out of order\n",
    "                        linear_conflict_penalty += 2\n",
    "\n",
    "        # Check for linear conflicts in the same row\n",
    "        if j == goal_j:  # Tile is in the correct col\n",
    "            for k in range(i + 1, n):\n",
    "                other_tile = state[k][j]\n",
    "                if other_tile != tile and other_tile != 0:\n",
    "                    other_goal_j = (other_tile - 1) % n\n",
    "                    if other_goal_j == j and tile > other_tile:  # Both tiles are in their goal col, but out of order\n",
    "                        linear_conflict_penalty += 2\n",
    "\n",
    "    return manhattan_dist + linear_conflict_penalty\n"
   ]
  },
  {
   "cell_type": "markdown",
   "metadata": {},
   "source": [
    "## Search Strategies"
   ]
  },
  {
   "cell_type": "markdown",
   "metadata": {},
   "source": [
    "### Node class"
   ]
  },
  {
   "cell_type": "code",
   "execution_count": 4,
   "metadata": {},
   "outputs": [],
   "source": [
    "class Node:\n",
    "    def __init__(self, position: np.ndarray, g: int, parent: \"Node\") -> None:\n",
    "        self.position = position\n",
    "        self.g = g  # Cost from start to this node\n",
    "        self.h = heuristic(position)  # Heuristic estimate to goal\n",
    "        self.f = self.g + self.h\n",
    "        self.parent = parent  # Parent node for path reconstruction\n",
    "\n",
    "    def __hash__(self) -> int:\n",
    "        return hash(tuple(self.position.reshape(-1)))\n",
    "    \n",
    "    def __eq__(self, value: \"Node\") -> bool:\n",
    "        return np.array_equal(self.position, value.position)\n",
    "    \n",
    "    def __lt__(self, other: \"Node\") -> bool:\n",
    "        return (self.f, self.g) < (other.f, other.g)"
   ]
  },
  {
   "cell_type": "markdown",
   "metadata": {},
   "source": [
    "### A star"
   ]
  },
  {
   "cell_type": "code",
   "execution_count": 5,
   "metadata": {},
   "outputs": [],
   "source": [
    "def a_star(state: np.ndarray) -> list[np.ndarray]:\n",
    "    open_set = []\n",
    "    heapq.heappush(open_set, Node(state, 0, None))\n",
    "    \n",
    "    closed_set = set()\n",
    "\n",
    "    while open_set:\n",
    "        current_node = heapq.heappop(open_set)\n",
    "        \n",
    "        # Goal reached\n",
    "        if current_node.h == 0:\n",
    "            path = []\n",
    "            while current_node:\n",
    "                path.append(current_node.position)\n",
    "                current_node = current_node.parent\n",
    "            return path[::-1]  # Return reversed path from start to goal\n",
    "        \n",
    "        closed_set.add(current_node)\n",
    "        \n",
    "        # Explore neighbors\n",
    "        for a in available_actions(current_node.position):\n",
    "            neighbor_node = Node(do_action(current_node.position, a), current_node.g + 1, current_node)\n",
    "\n",
    "            # Skip if neighbor is already explored\n",
    "            if neighbor_node not in closed_set:\n",
    "                # Add neighbor to priority queue if not visited or found a shorter path\n",
    "                for node in open_set:\n",
    "                    if node == neighbor_node:\n",
    "                        if neighbor_node.g < node.g:\n",
    "                            open_set.remove(node)\n",
    "                            heapq.heapify(open_set)\n",
    "                            heapq.heappush(open_set, neighbor_node)\n",
    "                        break\n",
    "                else:\n",
    "                    heapq.heappush(open_set, neighbor_node)\n",
    "\n",
    "    return []  # No path found"
   ]
  },
  {
   "cell_type": "markdown",
   "metadata": {},
   "source": [
    "### Greedy Best First Search"
   ]
  },
  {
   "cell_type": "code",
   "execution_count": 6,
   "metadata": {},
   "outputs": [],
   "source": [
    "def greedy_best_first(state: np.ndarray) -> list[np.ndarray]:\n",
    "    visited = set()\n",
    "    stack = []\n",
    "    heapq.heappush(stack, Node(state, 0, None))\n",
    "\n",
    "    while stack:\n",
    "        current = heapq.heappop(stack)\n",
    "        visited.add(current)\n",
    "\n",
    "        if current.h == 0:\n",
    "            path = []\n",
    "            while current:\n",
    "                path.append(current.position)\n",
    "                current = current.parent\n",
    "            return path[::-1]  # Return reversed path from start to goal\n",
    "        \n",
    "        for a in available_actions(current.position):\n",
    "            neighbor = Node(do_action(current.position, a), 0, current)\n",
    "            if neighbor not in visited:\n",
    "                heapq.heappush(stack, neighbor)\n",
    "\n",
    "    return None  # No solution found"
   ]
  },
  {
   "cell_type": "markdown",
   "metadata": {},
   "source": [
    "## Solve"
   ]
  },
  {
   "cell_type": "markdown",
   "metadata": {},
   "source": [
    "### Results"
   ]
  },
  {
   "cell_type": "code",
   "execution_count": 8,
   "metadata": {},
   "outputs": [
    {
     "ename": "KeyboardInterrupt",
     "evalue": "",
     "output_type": "error",
     "traceback": [
      "\u001b[1;31m---------------------------------------------------------------------------\u001b[0m",
      "\u001b[1;31mKeyboardInterrupt\u001b[0m                         Traceback (most recent call last)",
      "Cell \u001b[1;32mIn[8], line 2\u001b[0m\n\u001b[0;32m      1\u001b[0m prob \u001b[38;5;241m=\u001b[39m np\u001b[38;5;241m.\u001b[39marray([\u001b[38;5;241m7\u001b[39m,\u001b[38;5;241m8\u001b[39m,\u001b[38;5;241m3\u001b[39m,\u001b[38;5;241m4\u001b[39m,\u001b[38;5;241m6\u001b[39m,\u001b[38;5;241m0\u001b[39m,\u001b[38;5;241m1\u001b[39m,\u001b[38;5;241m2\u001b[39m,\u001b[38;5;241m5\u001b[39m])\u001b[38;5;241m.\u001b[39mreshape((\u001b[38;5;241m3\u001b[39m, \u001b[38;5;241m3\u001b[39m))\n\u001b[1;32m----> 2\u001b[0m sol \u001b[38;5;241m=\u001b[39m \u001b[43ma_star\u001b[49m\u001b[43m(\u001b[49m\u001b[43mprob\u001b[49m\u001b[43m)\u001b[49m\n\u001b[0;32m      3\u001b[0m end \u001b[38;5;241m=\u001b[39m time()\n",
      "Cell \u001b[1;32mIn[5], line 28\u001b[0m, in \u001b[0;36ma_star\u001b[1;34m(state)\u001b[0m\n\u001b[0;32m     25\u001b[0m \u001b[38;5;28;01mif\u001b[39;00m neighbor_node \u001b[38;5;129;01mnot\u001b[39;00m \u001b[38;5;129;01min\u001b[39;00m closed_set:\n\u001b[0;32m     26\u001b[0m     \u001b[38;5;66;03m# Add neighbor to priority queue if not visited or found a shorter path\u001b[39;00m\n\u001b[0;32m     27\u001b[0m     \u001b[38;5;28;01mfor\u001b[39;00m node \u001b[38;5;129;01min\u001b[39;00m open_set:\n\u001b[1;32m---> 28\u001b[0m         \u001b[38;5;28;01mif\u001b[39;00m \u001b[43mnode\u001b[49m\u001b[43m \u001b[49m\u001b[38;5;241;43m==\u001b[39;49m\u001b[43m \u001b[49m\u001b[43mneighbor_node\u001b[49m:\n\u001b[0;32m     29\u001b[0m             \u001b[38;5;28;01mif\u001b[39;00m neighbor_node\u001b[38;5;241m.\u001b[39mg \u001b[38;5;241m<\u001b[39m node\u001b[38;5;241m.\u001b[39mg:\n\u001b[0;32m     30\u001b[0m                 open_set\u001b[38;5;241m.\u001b[39mremove(node)\n",
      "Cell \u001b[1;32mIn[4], line 13\u001b[0m, in \u001b[0;36mNode.__eq__\u001b[1;34m(self, value)\u001b[0m\n\u001b[0;32m     12\u001b[0m \u001b[38;5;28;01mdef\u001b[39;00m \u001b[38;5;21m__eq__\u001b[39m(\u001b[38;5;28mself\u001b[39m, value: \u001b[38;5;124m\"\u001b[39m\u001b[38;5;124mNode\u001b[39m\u001b[38;5;124m\"\u001b[39m) \u001b[38;5;241m-\u001b[39m\u001b[38;5;241m>\u001b[39m \u001b[38;5;28mbool\u001b[39m:\n\u001b[1;32m---> 13\u001b[0m     \u001b[38;5;28;01mreturn\u001b[39;00m \u001b[43mnp\u001b[49m\u001b[38;5;241;43m.\u001b[39;49m\u001b[43marray_equal\u001b[49m\u001b[43m(\u001b[49m\u001b[38;5;28;43mself\u001b[39;49m\u001b[38;5;241;43m.\u001b[39;49m\u001b[43mposition\u001b[49m\u001b[43m,\u001b[49m\u001b[43m \u001b[49m\u001b[43mvalue\u001b[49m\u001b[38;5;241;43m.\u001b[39;49m\u001b[43mposition\u001b[49m\u001b[43m)\u001b[49m\n",
      "File \u001b[1;32mc:\\michele\\uni\\polito\\quinto_anno\\primo_semestre\\computational_intelligence\\labs\\venv\\Lib\\site-packages\\numpy\\_core\\numeric.py:2557\u001b[0m, in \u001b[0;36marray_equal\u001b[1;34m(a1, a2, equal_nan)\u001b[0m\n\u001b[0;32m   2555\u001b[0m     \u001b[38;5;28;01mreturn\u001b[39;00m \u001b[38;5;28;01mFalse\u001b[39;00m\n\u001b[0;32m   2556\u001b[0m \u001b[38;5;28;01mif\u001b[39;00m \u001b[38;5;129;01mnot\u001b[39;00m equal_nan:\n\u001b[1;32m-> 2557\u001b[0m     \u001b[38;5;28;01mreturn\u001b[39;00m builtins\u001b[38;5;241m.\u001b[39mbool((asanyarray(a1 \u001b[38;5;241m==\u001b[39m a2))\u001b[38;5;241m.\u001b[39mall())\n\u001b[0;32m   2559\u001b[0m \u001b[38;5;28;01mif\u001b[39;00m a1 \u001b[38;5;129;01mis\u001b[39;00m a2:\n\u001b[0;32m   2560\u001b[0m     \u001b[38;5;66;03m# nan will compare equal so an array will compare equal to itself.\u001b[39;00m\n\u001b[0;32m   2561\u001b[0m     \u001b[38;5;28;01mreturn\u001b[39;00m \u001b[38;5;28;01mTrue\u001b[39;00m\n",
      "\u001b[1;31mKeyboardInterrupt\u001b[0m: "
     ]
    }
   ],
   "source": [
    "prob = np.array([7,8,3,4,6,0,1,2,5]).reshape((3, 3))\n",
    "sol = a_star(prob)\n",
    "end = time()"
   ]
  },
  {
   "cell_type": "code",
   "execution_count": 7,
   "metadata": {},
   "outputs": [
    {
     "name": "stdout",
     "output_type": "stream",
     "text": [
      "Dimensions: 2x2 -> Steps: 0 (0.000s) (Optimal #steps: 0)\n",
      "Dimensions: 3x3 -> Steps: 32 (0.009s) (Optimal #steps: 18)\n",
      "Dimensions: 4x4 -> Steps: 70 (0.051s)\n",
      "Dimensions: 5x5 -> Steps: 274 (0.414s)\n",
      "Dimensions: 6x6 -> Steps: 642 (7.392s)\n",
      "Dimensions: 7x7 -> "
     ]
    },
    {
     "ename": "KeyboardInterrupt",
     "evalue": "",
     "output_type": "error",
     "traceback": [
      "\u001b[1;31m---------------------------------------------------------------------------\u001b[0m",
      "\u001b[1;31mKeyboardInterrupt\u001b[0m                         Traceback (most recent call last)",
      "Cell \u001b[1;32mIn[7], line 5\u001b[0m\n\u001b[0;32m      3\u001b[0m prob \u001b[38;5;241m=\u001b[39m create_random_problem(PUZZLE_DIM)\n\u001b[0;32m      4\u001b[0m start \u001b[38;5;241m=\u001b[39m time()\n\u001b[1;32m----> 5\u001b[0m sol \u001b[38;5;241m=\u001b[39m \u001b[43mgreedy_best_first\u001b[49m\u001b[43m(\u001b[49m\u001b[43mprob\u001b[49m\u001b[43m)\u001b[49m\n\u001b[0;32m      6\u001b[0m end \u001b[38;5;241m=\u001b[39m time()\n\u001b[0;32m      7\u001b[0m \u001b[38;5;28mprint\u001b[39m(\u001b[38;5;124mf\u001b[39m\u001b[38;5;124m\"\u001b[39m\u001b[38;5;124mSteps: \u001b[39m\u001b[38;5;132;01m{\u001b[39;00m\u001b[38;5;28mlen\u001b[39m(sol)\u001b[38;5;250m \u001b[39m\u001b[38;5;241m-\u001b[39m\u001b[38;5;250m \u001b[39m\u001b[38;5;241m1\u001b[39m\u001b[38;5;132;01m}\u001b[39;00m\u001b[38;5;124m (\u001b[39m\u001b[38;5;132;01m{\u001b[39;00m(end\u001b[38;5;250m \u001b[39m\u001b[38;5;241m-\u001b[39m\u001b[38;5;250m \u001b[39mstart)\u001b[38;5;132;01m:\u001b[39;00m\u001b[38;5;124m.3f\u001b[39m\u001b[38;5;132;01m}\u001b[39;00m\u001b[38;5;124ms)\u001b[39m\u001b[38;5;124m\"\u001b[39m, end\u001b[38;5;241m=\u001b[39m\u001b[38;5;124m\"\u001b[39m\u001b[38;5;124m\"\u001b[39m)\n",
      "Cell \u001b[1;32mIn[6], line 18\u001b[0m, in \u001b[0;36mgreedy_best_first\u001b[1;34m(state)\u001b[0m\n\u001b[0;32m     15\u001b[0m     \u001b[38;5;28;01mreturn\u001b[39;00m path[::\u001b[38;5;241m-\u001b[39m\u001b[38;5;241m1\u001b[39m]  \u001b[38;5;66;03m# Return reversed path from start to goal\u001b[39;00m\n\u001b[0;32m     17\u001b[0m \u001b[38;5;28;01mfor\u001b[39;00m a \u001b[38;5;129;01min\u001b[39;00m available_actions(current\u001b[38;5;241m.\u001b[39mposition):\n\u001b[1;32m---> 18\u001b[0m     neighbor \u001b[38;5;241m=\u001b[39m \u001b[43mNode\u001b[49m\u001b[43m(\u001b[49m\u001b[43mdo_action\u001b[49m\u001b[43m(\u001b[49m\u001b[43mcurrent\u001b[49m\u001b[38;5;241;43m.\u001b[39;49m\u001b[43mposition\u001b[49m\u001b[43m,\u001b[49m\u001b[43m \u001b[49m\u001b[43ma\u001b[49m\u001b[43m)\u001b[49m\u001b[43m,\u001b[49m\u001b[43m \u001b[49m\u001b[38;5;241;43m0\u001b[39;49m\u001b[43m,\u001b[49m\u001b[43m \u001b[49m\u001b[43mcurrent\u001b[49m\u001b[43m)\u001b[49m\n\u001b[0;32m     19\u001b[0m     \u001b[38;5;28;01mif\u001b[39;00m neighbor \u001b[38;5;129;01mnot\u001b[39;00m \u001b[38;5;129;01min\u001b[39;00m visited:\n\u001b[0;32m     20\u001b[0m         heapq\u001b[38;5;241m.\u001b[39mheappush(stack, neighbor)\n",
      "Cell \u001b[1;32mIn[4], line 5\u001b[0m, in \u001b[0;36mNode.__init__\u001b[1;34m(self, position, g, parent)\u001b[0m\n\u001b[0;32m      3\u001b[0m \u001b[38;5;28mself\u001b[39m\u001b[38;5;241m.\u001b[39mposition \u001b[38;5;241m=\u001b[39m position\n\u001b[0;32m      4\u001b[0m \u001b[38;5;28mself\u001b[39m\u001b[38;5;241m.\u001b[39mg \u001b[38;5;241m=\u001b[39m g  \u001b[38;5;66;03m# Cost from start to this node\u001b[39;00m\n\u001b[1;32m----> 5\u001b[0m \u001b[38;5;28mself\u001b[39m\u001b[38;5;241m.\u001b[39mh \u001b[38;5;241m=\u001b[39m \u001b[43mheuristic\u001b[49m\u001b[43m(\u001b[49m\u001b[43mposition\u001b[49m\u001b[43m)\u001b[49m  \u001b[38;5;66;03m# Heuristic estimate to goal\u001b[39;00m\n\u001b[0;32m      6\u001b[0m \u001b[38;5;28mself\u001b[39m\u001b[38;5;241m.\u001b[39mf \u001b[38;5;241m=\u001b[39m \u001b[38;5;28mself\u001b[39m\u001b[38;5;241m.\u001b[39mg \u001b[38;5;241m+\u001b[39m \u001b[38;5;28mself\u001b[39m\u001b[38;5;241m.\u001b[39mh\n\u001b[0;32m      7\u001b[0m \u001b[38;5;28mself\u001b[39m\u001b[38;5;241m.\u001b[39mparent \u001b[38;5;241m=\u001b[39m parent\n",
      "Cell \u001b[1;32mIn[3]\u001b[0m, in \u001b[0;36mheuristic\u001b[1;34m(state)\u001b[0m\n\u001b[0;32m      0\u001b[0m <Error retrieving source code with stack_data see ipython/ipython#13598>\n",
      "\u001b[1;31mKeyboardInterrupt\u001b[0m: "
     ]
    }
   ],
   "source": [
    "for PUZZLE_DIM in range(2, 8):\n",
    "    print(f\"Dimensions: {PUZZLE_DIM}x{PUZZLE_DIM} -> \", end=\"\")\n",
    "    prob = create_random_problem(PUZZLE_DIM)\n",
    "    start = time()\n",
    "    sol = greedy_best_first(prob)\n",
    "    end = time()\n",
    "    print(f\"Steps: {len(sol) - 1} ({(end - start):.3f}s)\", end=\"\")\n",
    "    if PUZZLE_DIM < 4:\n",
    "        sol = a_star(prob)\n",
    "        print(f\" (Optimal #steps: {len(sol) - 1})\", end=\"\")\n",
    "    print()"
   ]
  },
  {
   "cell_type": "markdown",
   "metadata": {},
   "source": [
    "### Test yourself!"
   ]
  },
  {
   "cell_type": "code",
   "execution_count": null,
   "metadata": {},
   "outputs": [
    {
     "name": "stdout",
     "output_type": "stream",
     "text": [
      "Problem:\n",
      "[[8 5 3]\n",
      " [4 0 1]\n",
      " [6 2 7]]\n",
      "Optimal solution!\n",
      "Steps: 24\n",
      "Path:\n",
      "[[[8 5 3]\n",
      "  [4 0 1]\n",
      "  [6 2 7]]\n",
      "\n",
      " [[8 5 3]\n",
      "  [4 2 1]\n",
      "  [6 0 7]]\n",
      "\n",
      " [[8 5 3]\n",
      "  [4 2 1]\n",
      "  [0 6 7]]\n",
      "\n",
      " [[8 5 3]\n",
      "  [0 2 1]\n",
      "  [4 6 7]]\n",
      "\n",
      " [[0 5 3]\n",
      "  [8 2 1]\n",
      "  [4 6 7]]\n",
      "\n",
      " [[5 0 3]\n",
      "  [8 2 1]\n",
      "  [4 6 7]]\n",
      "\n",
      " [[5 2 3]\n",
      "  [8 0 1]\n",
      "  [4 6 7]]\n",
      "\n",
      " [[5 2 3]\n",
      "  [8 1 0]\n",
      "  [4 6 7]]\n",
      "\n",
      " [[5 2 0]\n",
      "  [8 1 3]\n",
      "  [4 6 7]]\n",
      "\n",
      " [[5 0 2]\n",
      "  [8 1 3]\n",
      "  [4 6 7]]\n",
      "\n",
      " [[5 1 2]\n",
      "  [8 0 3]\n",
      "  [4 6 7]]\n",
      "\n",
      " [[5 1 2]\n",
      "  [0 8 3]\n",
      "  [4 6 7]]\n",
      "\n",
      " [[0 1 2]\n",
      "  [5 8 3]\n",
      "  [4 6 7]]\n",
      "\n",
      " [[1 0 2]\n",
      "  [5 8 3]\n",
      "  [4 6 7]]\n",
      "\n",
      " [[1 2 0]\n",
      "  [5 8 3]\n",
      "  [4 6 7]]\n",
      "\n",
      " [[1 2 3]\n",
      "  [5 8 0]\n",
      "  [4 6 7]]\n",
      "\n",
      " [[1 2 3]\n",
      "  [5 0 8]\n",
      "  [4 6 7]]\n",
      "\n",
      " [[1 2 3]\n",
      "  [5 6 8]\n",
      "  [4 0 7]]\n",
      "\n",
      " [[1 2 3]\n",
      "  [5 6 8]\n",
      "  [4 7 0]]\n",
      "\n",
      " [[1 2 3]\n",
      "  [5 6 0]\n",
      "  [4 7 8]]\n",
      "\n",
      " [[1 2 3]\n",
      "  [5 0 6]\n",
      "  [4 7 8]]\n",
      "\n",
      " [[1 2 3]\n",
      "  [0 5 6]\n",
      "  [4 7 8]]\n",
      "\n",
      " [[1 2 3]\n",
      "  [4 5 6]\n",
      "  [0 7 8]]\n",
      "\n",
      " [[1 2 3]\n",
      "  [4 5 6]\n",
      "  [7 0 8]]\n",
      "\n",
      " [[1 2 3]\n",
      "  [4 5 6]\n",
      "  [7 8 0]]]\n"
     ]
    }
   ],
   "source": [
    "PUZZLE_DIM = 3\n",
    "prob = create_random_problem(PUZZLE_DIM)\n",
    "print(f\"Problem:\\n{prob}\")\n",
    "\n",
    "if PUZZLE_DIM < 2:\n",
    "    print(\"Empty problem!\")\n",
    "elif PUZZLE_DIM < 4:\n",
    "    print(\"Optimal solution!\")\n",
    "    sol = a_star(prob)\n",
    "    print(f\"Steps: {len(sol) - 1}\\nPath:\")\n",
    "    print(np.array(sol))\n",
    "else:\n",
    "    print(f\"Approximated solution{' (this mat take a while...)' if PUZZLE_DIM > 7 else ''}!\")\n",
    "    sol = greedy_best_first(prob)\n",
    "    print(f\"Steps: {len(sol) - 1}\\nPath:\")\n",
    "    print(np.array(sol))\n"
   ]
  }
 ],
 "metadata": {
  "kernelspec": {
   "display_name": "venv",
   "language": "python",
   "name": "python3"
  },
  "language_info": {
   "codemirror_mode": {
    "name": "ipython",
    "version": 3
   },
   "file_extension": ".py",
   "mimetype": "text/x-python",
   "name": "python",
   "nbconvert_exporter": "python",
   "pygments_lexer": "ipython3",
   "version": "3.11.8"
  }
 },
 "nbformat": 4,
 "nbformat_minor": 2
}
