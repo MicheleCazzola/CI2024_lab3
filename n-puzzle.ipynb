{
 "cells": [
  {
   "cell_type": "markdown",
   "metadata": {
    "vscode": {
     "languageId": "plaintext"
    }
   },
   "source": [
    "Copyright **`(c)`** 2024 Giovanni Squillero `<giovanni.squillero@polito.it>`  \n",
    "[`https://github.com/squillero/computational-intelligence`](https://github.com/squillero/computational-intelligence)  \n",
    "Free under certain conditions — see the [`license`](https://github.com/squillero/computational-intelligence/blob/master/LICENSE.md) for details.  "
   ]
  },
  {
   "cell_type": "code",
   "execution_count": 365,
   "metadata": {},
   "outputs": [],
   "source": [
    "from collections import namedtuple\n",
    "from random import choice\n",
    "from tqdm.auto import tqdm\n",
    "import numpy as np\n",
    "from heapq import heappush, heappop, heapify\n",
    "import functools"
   ]
  },
  {
   "cell_type": "code",
   "execution_count": 366,
   "metadata": {},
   "outputs": [],
   "source": [
    "PUZZLE_DIM = 3\n",
    "action = namedtuple('Action', ['pos1', 'pos2'])"
   ]
  },
  {
   "cell_type": "code",
   "execution_count": 367,
   "metadata": {},
   "outputs": [],
   "source": [
    "class State:\n",
    "    def __init__(self, content: np.ndarray):\n",
    "        self.content: np.ndarray = content\n",
    "        self.hash: int = hash(content.tobytes())\n",
    "        \n",
    "    def __hash__(self):\n",
    "        return self.hash\n",
    "\n",
    "    def __eq__(self, other):\n",
    "        return self.hash == other.hash\n",
    "    \n",
    "    def __lt__(self, other):\n",
    "        return self.hash < other.hash"
   ]
  },
  {
   "cell_type": "code",
   "execution_count": 368,
   "metadata": {},
   "outputs": [],
   "source": [
    "def available_actions(state: np.ndarray) -> list['Action']:\n",
    "    x, y = [int(i[0]) for i in np.where(state == 0)]\n",
    "    actions = list()\n",
    "    if x > 0:\n",
    "        actions.append(action((x, y), (x - 1, y)))\n",
    "    if x < PUZZLE_DIM - 1:\n",
    "        actions.append(action((x, y), (x + 1, y)))\n",
    "    if y > 0:\n",
    "        actions.append(action((x, y), (x, y - 1)))\n",
    "    if y < PUZZLE_DIM - 1:\n",
    "        actions.append(action((x, y), (x, y + 1)))\n",
    "    return actions\n",
    "\n",
    "def counter(fn):\n",
    "\n",
    "    @functools.wraps(fn)\n",
    "    def helper(*args, **kargs):\n",
    "        helper.calls += 1\n",
    "        return fn(*args, **kargs)\n",
    "\n",
    "    helper.calls = 0\n",
    "    return helper\n",
    "\n",
    "@counter\n",
    "def do_action(state: np.ndarray, action: 'Action') -> np.ndarray:\n",
    "    new_state = state.copy()\n",
    "    new_state[action.pos1], new_state[action.pos2] = new_state[action.pos2], new_state[action.pos1]\n",
    "    return new_state"
   ]
  },
  {
   "cell_type": "markdown",
   "metadata": {},
   "source": [
    "## A* algorithm "
   ]
  },
  {
   "cell_type": "code",
   "execution_count": null,
   "metadata": {},
   "outputs": [],
   "source": [
    "def get_pos(state_content: np.ndarray, n: int) -> tuple[int, int]:\n",
    "    x, y = np.argwhere(state_content== n)[0]\n",
    "    return x, y\n",
    "\n",
    "def manhattan_distance(state: np.ndarray, goal: np.ndarray, n: int) -> int:\n",
    "\tx1, y1 = get_pos(state, n)\n",
    "\tx2, y2 = get_pos(goal, n)\n",
    "\treturn abs(x1 - x2) + abs(y1 - y2)\n",
    "\n",
    "def heuristic(state: np.ndarray, goal: np.ndarray) -> int:\n",
    "    return sum([manhattan_distance(state, goal, n) for n in range(1, PUZZLE_DIM**2)]) // 2\n",
    "\n",
    "def quality(solution: list[int]) -> int:\n",
    "    return len(solution)\n",
    "\n",
    "def astar(state: np.ndarray, goal: np.ndarray) -> float:\n",
    "    \n",
    "\tstate, goal = map(State, [state, goal])\n",
    "\topen_set = []\n",
    "\tclosed_set = set()\n",
    "\tparents = {}\n",
    "\tpast_len = {state.hash: 0}\n",
    " \n",
    "\theappush(open_set, (0, state, []))\n",
    "\tclosed_set.add(state.hash)\n",
    "\n",
    "\tcurrent = state\n",
    "\twhile open_set:\n",
    "\t\t_, current, curr_path = heappop(open_set)\n",
    "\n",
    "\t\tif current.hash == goal.hash:\n",
    "\t\t\treturn True, curr_path\n",
    "\n",
    "\t\tfor action in available_actions(current.content):\n",
    "\t\t\tneighbor = State(do_action(current.content, action))\n",
    "\n",
    "\t\t\tif neighbor.hash not in closed_set or past_len[current.hash] + 1 < past_len[neighbor.hash]:\n",
    "\t\t\t\tparents[neighbor.hash] = current.hash\n",
    "\t\t\t\tpast_len[neighbor.hash] = quality(curr_path) + 1\n",
    "\t\t\t\tcost = past_len[neighbor.hash] + heuristic(neighbor.content, goal.content)\n",
    "\t\t\t\theappush(open_set, (cost, neighbor, curr_path + [action]))\n",
    "\t\t\t\tclosed_set.add(neighbor.hash)\n",
    "    \n",
    "\treturn False, []"
   ]
  },
  {
   "cell_type": "code",
   "execution_count": 370,
   "metadata": {},
   "outputs": [],
   "source": [
    "solver = astar"
   ]
  },
  {
   "cell_type": "code",
   "execution_count": 371,
   "metadata": {},
   "outputs": [
    {
     "name": "stdout",
     "output_type": "stream",
     "text": [
      "[[7 8 3]\n",
      " [4 6 0]\n",
      " [1 2 5]]\n",
      "False 0 483840\n"
     ]
    },
    {
     "data": {
      "text/plain": [
       "[]"
      ]
     },
     "execution_count": 371,
     "metadata": {},
     "output_type": "execute_result"
    }
   ],
   "source": [
    "content = np.random.choice(range(PUZZLE_DIM**2), (PUZZLE_DIM, PUZZLE_DIM), replace=False)\n",
    "goal = np.array([i for i in range(1, PUZZLE_DIM**2)] + [0]).reshape((PUZZLE_DIM, PUZZLE_DIM))\n",
    "\n",
    "print(content)\n",
    "\n",
    "success, path = solver(content, goal)\n",
    "quality, cost = quality(path), do_action.calls\n",
    "print(success, quality, cost)\n",
    "path"
   ]
  }
 ],
 "metadata": {
  "kernelspec": {
   "display_name": "venv",
   "language": "python",
   "name": "python3"
  },
  "language_info": {
   "codemirror_mode": {
    "name": "ipython",
    "version": 3
   },
   "file_extension": ".py",
   "mimetype": "text/x-python",
   "name": "python",
   "nbconvert_exporter": "python",
   "pygments_lexer": "ipython3",
   "version": "3.11.8"
  }
 },
 "nbformat": 4,
 "nbformat_minor": 2
}
