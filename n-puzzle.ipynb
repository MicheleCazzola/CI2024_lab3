{
 "cells": [
  {
   "cell_type": "markdown",
   "metadata": {
    "vscode": {
     "languageId": "plaintext"
    }
   },
   "source": [
    "Copyright **`(c)`** 2024 Giovanni Squillero `<giovanni.squillero@polito.it>`  \n",
    "[`https://github.com/squillero/computational-intelligence`](https://github.com/squillero/computational-intelligence)  \n",
    "Free under certain conditions — see the [`license`](https://github.com/squillero/computational-intelligence/blob/master/LICENSE.md) for details.  "
   ]
  },
  {
   "cell_type": "code",
   "execution_count": 218,
   "metadata": {},
   "outputs": [],
   "source": [
    "from collections import namedtuple\n",
    "from random import choice\n",
    "from tqdm.auto import tqdm\n",
    "import numpy as np\n",
    "from heapq import heappush, heappop\n",
    "import functools\n",
    "import matplotlib.pyplot as plt\n",
    "from time import time"
   ]
  },
  {
   "cell_type": "code",
   "execution_count": 219,
   "metadata": {},
   "outputs": [],
   "source": [
    "np.random.seed(42)"
   ]
  },
  {
   "cell_type": "code",
   "execution_count": 220,
   "metadata": {},
   "outputs": [],
   "source": [
    "PUZZLE_DIM = 4\n",
    "RANDOMIZE_STEPS = 10_000\n",
    "STEP_SIZE = 1000\n",
    "TEMPERATURE = 10\n",
    "MIN_PUZZLE_DIM = 8\n",
    "MAX_PUZZLE_DIM = 9\n",
    "TRIES_BASE = 10\n",
    "\n",
    "action = namedtuple('Action', ['pos1', 'pos2'])"
   ]
  },
  {
   "cell_type": "code",
   "execution_count": 221,
   "metadata": {},
   "outputs": [],
   "source": [
    "class State:\n",
    "    def __init__(self, content: np.ndarray):\n",
    "        self.content: np.ndarray = content\n",
    "        self.hash: int = hash(content.tobytes())\n",
    "        \n",
    "    def __hash__(self):\n",
    "        return self.hash\n",
    "\n",
    "    def __eq__(self, other):\n",
    "        return self.hash == other.hash\n",
    "    \n",
    "    def __lt__(self, other):\n",
    "        return self.hash < other.hash"
   ]
  },
  {
   "cell_type": "code",
   "execution_count": 222,
   "metadata": {},
   "outputs": [],
   "source": [
    "def available_actions(state: np.ndarray) -> list['Action']:\n",
    "    puzzle_dim = state.shape[0]\n",
    "    x, y = [int(i[0]) for i in np.where(state == 0)]\n",
    "    actions = list()\n",
    "    if x > 0:\n",
    "        actions.append(action((x, y), (x - 1, y)))\n",
    "    if x < puzzle_dim - 1:\n",
    "        actions.append(action((x, y), (x + 1, y)))\n",
    "    if y > 0:\n",
    "        actions.append(action((x, y), (x, y - 1)))\n",
    "    if y < puzzle_dim - 1:\n",
    "        actions.append(action((x, y), (x, y + 1)))\n",
    "    return actions\n",
    "\n",
    "def counter(fn):\n",
    "\n",
    "    @functools.wraps(fn)\n",
    "    def helper(*args, **kargs):\n",
    "        helper.calls += 1\n",
    "        return fn(*args, **kargs)\n",
    "\n",
    "    helper.calls = 0\n",
    "    return helper\n",
    "\n",
    "@counter\n",
    "def do_action(state: np.ndarray, action: 'Action') -> np.ndarray:\n",
    "    new_state = state.copy()\n",
    "    #print(action)\n",
    "    new_state[action.pos1], new_state[action.pos2] = new_state[action.pos2], new_state[action.pos1]\n",
    "    return new_state"
   ]
  },
  {
   "cell_type": "markdown",
   "metadata": {},
   "source": [
    "## A* algorithm "
   ]
  },
  {
   "cell_type": "code",
   "execution_count": 223,
   "metadata": {},
   "outputs": [],
   "source": [
    "def get_pos(state_content: np.ndarray, n: int) -> tuple[int, int]:\n",
    "    x, y = np.argwhere(state_content== n)[0]\n",
    "    return x, y\n",
    "\n",
    "def manhattan_distance(state: np.ndarray, goal: np.ndarray, n: int) -> int:\n",
    "\tx1, y1 = get_pos(state, n)\n",
    "\tx2, y2 = get_pos(goal, n)\n",
    "\treturn abs(x1 - x2) + abs(y1 - y2)\n",
    " \n",
    "def fixed_heuristic(state: np.ndarray, goal: np.ndarray, step: int = None, exp: float = None) -> int:\n",
    "    puzzle_dim = state.shape[0]\n",
    "    return sum([manhattan_distance(state, goal, n) for n in range(1, puzzle_dim**2)]) ** exp\n",
    "\n",
    "def step_scheduling_heuristic(state: np.ndarray, goal: np.ndarray, step: int = TEMPERATURE * STEP_SIZE, exp: float = None) -> int:\n",
    "    puzzle_dim = state.shape[0]\n",
    "    return sum([manhattan_distance(state, goal, n) for n in range(1, puzzle_dim**2)]) ** (min(1 + (step // STEP_SIZE) / TEMPERATURE, 2))\n",
    "\n",
    "def arctan_scheduling_heuristic(state: np.ndarray, goal: np.ndarray, step: int = TEMPERATURE * STEP_SIZE, exp: float = None) -> int:\n",
    "\tpuzzle_dim = state.shape[0]\n",
    "\treturn sum([manhattan_distance(state, goal, n) for n in range(1, puzzle_dim**2)]) ** (np.arctan(step / STEP_SIZE) + 1)\n",
    "\n",
    "def quality(solution: list[int]) -> int:\n",
    "    return -len(solution)\n",
    "\n",
    "def astar(state: np.ndarray, goal: np.ndarray, heuristic, exp = None) -> tuple[bool, list['Action']]:\n",
    "    \n",
    "\tpath_len = lambda x: -quality(x)\n",
    "\n",
    "\tstate, goal = map(State, [state, goal])\n",
    "\topen_set = []\n",
    "\tclosed_set = set()\n",
    "\tparents = {}\n",
    "\tpast_len = {state: 0}\n",
    " \n",
    "\theappush(open_set, (0, state, []))\n",
    "\tclosed_set.add(state)\n",
    "\n",
    "\tsteps = 0\n",
    "\twhile open_set:\n",
    "\t\t_, current, curr_path = heappop(open_set)\n",
    "\n",
    "\t\tif current == goal:\n",
    "\t\t\treturn True, curr_path\n",
    "\n",
    "\t\tfor action in available_actions(current.content):\n",
    "\t\t\tneighbor = State(do_action(current.content, action))\n",
    "\n",
    "\t\t\tif neighbor not in closed_set or past_len[current] + 1 < past_len[neighbor]:\n",
    "\t\t\t\tparents[neighbor] = current\n",
    "\t\t\t\tpast_len[neighbor] = path_len(curr_path) + 1\n",
    "\t\t\t\tcost = past_len[neighbor] + heuristic(neighbor.content, goal.content, step=steps, exp=exp)\n",
    "\t\t\t\theappush(open_set, (cost, neighbor, curr_path + [action]))\n",
    "\t\t\t\tclosed_set.add(neighbor)\n",
    "\n",
    "\t\tsteps += 1\n",
    "    \n",
    "\treturn False, []"
   ]
  },
  {
   "cell_type": "code",
   "execution_count": 224,
   "metadata": {},
   "outputs": [],
   "source": [
    "strategies = [\"fixed\", \"step scheduling\", \"arctan scheduling\"]\n",
    "functions = [fixed_heuristic, step_scheduling_heuristic, arctan_scheduling_heuristic]\n",
    "heuristics = dict(zip(strategies, functions))"
   ]
  },
  {
   "cell_type": "code",
   "execution_count": 225,
   "metadata": {},
   "outputs": [],
   "source": [
    "def is_solvable(state: np.ndarray) -> bool:\n",
    "\tstate = state.flatten()\n",
    "\tinversions = 0\n",
    "\tfor i in range(PUZZLE_DIM - 1):\n",
    "\t\tfor j in range(i + 1, PUZZLE_DIM):\n",
    "\t\t\tif state[i] and state[j] and state[i] > state[j]:\n",
    "\t\t\t\tinversions += 1\n",
    "\treturn inversions % 2 == 0"
   ]
  },
  {
   "cell_type": "code",
   "execution_count": 226,
   "metadata": {},
   "outputs": [],
   "source": [
    "def init_state(goal: np.ndarray, puzzle_dim: int = PUZZLE_DIM, randomize_steps=RANDOMIZE_STEPS) -> np.ndarray:\n",
    "    state = goal.copy()\n",
    "    np.random.shuffle(state.flatten())\n",
    "    for _ in range(randomize_steps):\n",
    "        state = do_action(state, choice(available_actions(state)))\n",
    "    return state.reshape(puzzle_dim, puzzle_dim)\n",
    "\n",
    "def set_goal(puzzle_dim: int) -> np.ndarray:\n",
    "    goal = np.array([n for n in range(1, puzzle_dim**2)] + [0])\n",
    "    return goal.reshape((puzzle_dim, puzzle_dim)) "
   ]
  },
  {
   "cell_type": "code",
   "execution_count": 227,
   "metadata": {},
   "outputs": [],
   "source": [
    "def statistics(results_values):\n",
    "    quality_sol, cost_sol, elapsed = tuple(zip(*(results_values)))\n",
    "    avg_quality, avg_cost, avg_elapsed = map(lambda x: np.mean(np.array(x)), [quality_sol, cost_sol, elapsed])\n",
    "    return avg_quality, avg_cost, avg_elapsed"
   ]
  },
  {
   "cell_type": "markdown",
   "metadata": {},
   "source": [
    "## Solution"
   ]
  },
  {
   "cell_type": "code",
   "execution_count": 228,
   "metadata": {},
   "outputs": [],
   "source": [
    "def solve_instance(puzzle_dim: int, heuristic, exp=None) -> np.ndarray:\n",
    "    goal = set_goal(puzzle_dim)\n",
    "    content = init_state(goal, puzzle_dim, randomize_steps=1400)\n",
    "    do_action.calls = 0\n",
    "    \n",
    "    converged, path = astar(content, goal, heuristic, exp=exp)\n",
    "    \n",
    "    assert converged\n",
    "\n",
    "    return quality(path), do_action.calls\n",
    "\n",
    "\n",
    "def solve_size(puzzle_dim: int, heuristic, tries: int = TRIES_BASE, exp=None):\n",
    "    \n",
    "    qualities, costs = [], []\n",
    "    for t in range(tries):\n",
    "        print(f\"Instance {t}\")\n",
    "        sol_quality, sol_cost = solve_instance(puzzle_dim, heuristic, exp=exp)\n",
    "        qualities.append(sol_quality)\n",
    "        costs.append(sol_cost)\n",
    "    \n",
    "    tot_quality, tot_cost = map(lambda x: np.array(x).mean(), [qualities, costs])\n",
    "    \n",
    "    return tot_quality, tot_cost, tot_quality / tot_cost\n",
    "\n",
    "\n",
    "def solve(min_puz_dim, max_puz_dim, heuristics: dict, exp: dict = None, tries: dict = None):\n",
    "    \n",
    "    names = [\"quality\", \"cost\", \"efficiency\"]\n",
    "    results = dict()\n",
    "    for puzzle_dim in range(min_puz_dim, max_puz_dim+1):\n",
    "        print(f\"Solving for size {puzzle_dim}\")\n",
    "        sol_quality, sol_cost, sol_efficiency = solve_size(puzzle_dim, heuristics[puzzle_dim], tries[puzzle_dim], exp=exp[puzzle_dim])\n",
    "        \n",
    "        results[puzzle_dim] = dict(zip(names, [sol_quality, sol_cost, sol_efficiency]))\n",
    "        \n",
    "    return results"
   ]
  },
  {
   "cell_type": "code",
   "execution_count": 229,
   "metadata": {},
   "outputs": [],
   "source": [
    "HEURISTICS_PER_SIZE = {\n",
    "    2: fixed_heuristic,\n",
    "    3: fixed_heuristic,\n",
    "    4: fixed_heuristic,\n",
    "    5: fixed_heuristic,\n",
    "    6: fixed_heuristic,\n",
    "    7: fixed_heuristic,\n",
    "    8: fixed_heuristic,\n",
    "    9: fixed_heuristic\n",
    "}\n",
    "EXP_PER_SIZE = {\n",
    "    puzzle_dim: 1 if puzzle_dim <= 3 else 1.8 for puzzle_dim in range(MIN_PUZZLE_DIM, MAX_PUZZLE_DIM+1)\n",
    "}\n",
    "TRIES_PER_SIZE = {\n",
    "    2: TRIES_BASE,\n",
    "    3: TRIES_BASE,\n",
    "    4: TRIES_BASE,\n",
    "    5: TRIES_BASE // 2,\n",
    "    6: TRIES_BASE // 4,\n",
    "    7: TRIES_BASE // 8,\n",
    "    8: TRIES_BASE // 8,\n",
    "    9: TRIES_BASE // 8\n",
    "}"
   ]
  },
  {
   "cell_type": "code",
   "execution_count": 230,
   "metadata": {},
   "outputs": [],
   "source": [
    "def print_results(results):\n",
    "    for (puzzle_dim, result) in results.items():\n",
    "        print(f\"Puzzle dimension: {puzzle_dim}\")\n",
    "        avg_quality, avg_cost, avg_efficiency = map(result.get, list(result.keys()))\n",
    "        print(f\"Quality: {avg_quality:.3f}\")\n",
    "        print(f\"Cost: {avg_cost:.3f}\")\n",
    "        print(f\"Efficiency: {avg_efficiency:.5f}\")\n",
    "        print()"
   ]
  },
  {
   "cell_type": "code",
   "execution_count": 231,
   "metadata": {},
   "outputs": [],
   "source": [
    "def save_results(results: dict, index=0):\n",
    "    import json\n",
    "    OUTFILE =f\"results89.json\"\n",
    "    file = open(OUTFILE, mode=\"w\", encoding=\"utf-8\")\n",
    "    json.dump(results, file)"
   ]
  },
  {
   "cell_type": "code",
   "execution_count": 232,
   "metadata": {},
   "outputs": [],
   "source": [
    "def plot_results(results):\n",
    "    puz_dimensions, qualities, costs, efficiencies = [], [], [], []\n",
    "    for (puzzle_dim, result) in results.items():\n",
    "        avg_quality, avg_cost, avg_efficiency = map(result.get, list(result.keys()))\n",
    "        \n",
    "        puz_dimensions.append(puzzle_dim)\n",
    "        qualities.append(avg_quality)\n",
    "        costs.append(avg_cost)\n",
    "        efficiencies.append(avg_efficiency)\n",
    "    \n",
    "    th = max(efficiencies)\n",
    "    \n",
    "    plt.figure(\"efficiency\")\n",
    "    \n",
    "    plt.plot(puz_dimensions, efficiencies, label=\"Efficiency\")\n",
    "    plt.yscale(\"symlog\", linthresh=-0.1*th)\n",
    "    plt.title(\"Efficiency\")\n",
    "    plt.xlabel(\"Puzzle dimension\")\n",
    "    plt.ylabel(\"Efficiency\")\n",
    "    plt.grid()\n",
    "    \n",
    "    \n",
    "    plt.show()"
   ]
  },
  {
   "cell_type": "code",
   "execution_count": null,
   "metadata": {},
   "outputs": [
    {
     "name": "stdout",
     "output_type": "stream",
     "text": [
      "Solving for size 8\n",
      "Instance 0\n"
     ]
    }
   ],
   "source": [
    "results = solve(MIN_PUZZLE_DIM, MAX_PUZZLE_DIM, HEURISTICS_PER_SIZE, EXP_PER_SIZE, TRIES_PER_SIZE)"
   ]
  },
  {
   "cell_type": "code",
   "execution_count": null,
   "metadata": {},
   "outputs": [
    {
     "ename": "NameError",
     "evalue": "name 'results' is not defined",
     "output_type": "error",
     "traceback": [
      "\u001b[1;31m---------------------------------------------------------------------------\u001b[0m",
      "\u001b[1;31mNameError\u001b[0m                                 Traceback (most recent call last)",
      "Cell \u001b[1;32mIn[1], line 1\u001b[0m\n\u001b[1;32m----> 1\u001b[0m \u001b[43mresults\u001b[49m\n",
      "\u001b[1;31mNameError\u001b[0m: name 'results' is not defined"
     ]
    }
   ],
   "source": [
    "results"
   ]
  },
  {
   "cell_type": "code",
   "execution_count": null,
   "metadata": {},
   "outputs": [],
   "source": [
    "save_results(results)"
   ]
  },
  {
   "cell_type": "code",
   "execution_count": null,
   "metadata": {},
   "outputs": [
    {
     "name": "stdout",
     "output_type": "stream",
     "text": [
      "Puzzle dimension: 2\n",
      "Quality: -3.400\n",
      "Cost: 7.600\n",
      "Efficiency: -0.44737\n",
      "\n",
      "Puzzle dimension: 3\n",
      "Quality: -21.000\n",
      "Cost: 3197.800\n",
      "Efficiency: -0.00657\n",
      "\n",
      "Puzzle dimension: 4\n",
      "Quality: -120.400\n",
      "Cost: 13452.000\n",
      "Efficiency: -0.00895\n",
      "\n",
      "Puzzle dimension: 5\n",
      "Quality: -274.400\n",
      "Cost: 253725.200\n",
      "Efficiency: -0.00108\n",
      "\n",
      "Puzzle dimension: 6\n",
      "Quality: -387.000\n",
      "Cost: 433519.500\n",
      "Efficiency: -0.00089\n",
      "\n",
      "Puzzle dimension: 7\n",
      "Quality: -554.000\n",
      "Cost: 548205.000\n",
      "Efficiency: -0.00101\n",
      "\n"
     ]
    }
   ],
   "source": [
    "print_results(results)"
   ]
  },
  {
   "cell_type": "code",
   "execution_count": null,
   "metadata": {},
   "outputs": [
    {
     "data": {
      "image/png": "[encoded data removed]",
      "text/plain": [
       "<Figure size 640x480 with 1 Axes>"
      ]
     },
     "metadata": {},
     "output_type": "display_data"
    }
   ],
   "source": [
    "plot_results(results)"
   ]
  },
  {
   "cell_type": "markdown",
   "metadata": {},
   "source": [
    "## Experiments"
   ]
  },
  {
   "cell_type": "code",
   "execution_count": null,
   "metadata": {},
   "outputs": [],
   "source": [
    "def solve(name, strategy, content, goal, exp=None):\n",
    "\tstart = time()\n",
    "\n",
    "\tdo_action.calls = 0\n",
    "\tsuccess, path = astar(content, goal, strategy, exp=exp)\n",
    "\telapsed = time() - start\n",
    "\n",
    "\tquality_sol, cost_sol = quality(path), do_action.calls\n",
    "\tprint(f\"{name}, {exp}: {success}, {quality_sol}, {cost_sol}, time: {elapsed:.2f} s\")\n",
    "\t\n",
    "\treturn ((name, exp), (quality_sol, cost_sol, elapsed))\n",
    "\n",
    "\n",
    "def solve_instance(content, goal, results, heuristics=heuristics, exp_values=[2,3]):\n",
    "\tfor (name, strategy) in heuristics.items():\n",
    "\t\tif name == \"fixed\":\n",
    "\t\t\tfor exp in exp_values:\n",
    "\t\t\t\talgorithm, result = solve(name, strategy, content, goal, exp=exp)\n",
    "\t\t\t\tcurrent = results.get(algorithm, [])\n",
    "\t\t\t\tcurrent.append(result)\n",
    "\t\t\t\tresults[algorithm] = current\n",
    "\t\telse:\n",
    "\t\t\talgorithm, result = solve(name, strategy, content, goal)\n",
    "\t\t\tcurrent = results.get(algorithm, [])\n",
    "\t\t\tcurrent.append(result)\n",
    "\t\t\tresults[algorithm] = current"
   ]
  },
  {
   "cell_type": "markdown",
   "metadata": {},
   "source": [
    "### Heuristic modification\n",
    "Admissible heuristics are sometimes too slow at converging. The following part aims to find a non-admissible heuristic which can represent a good trade-off between optimality of the final solution and convergence time, which is related to the total cost of the problem (number of explored states)."
   ]
  },
  {
   "cell_type": "code",
   "execution_count": null,
   "metadata": {},
   "outputs": [],
   "source": [
    "results = dict()\t\n",
    "\n",
    "TRIES = 15\n",
    "for i in range(TRIES):\n",
    "\tgoal = np.array([n for n in range(1, PUZZLE_DIM**2)] + [0]).reshape((PUZZLE_DIM, PUZZLE_DIM))\n",
    "\tcontent = init_state(goal)\n",
    "\tprint(f\"Instance {i}\")\n",
    "\tprint(content)\n",
    "\tsolve_instance(content, goal, results)\n",
    "\n",
    "for (algorithm, result) in results.items():\n",
    "    avg_results = statistics(result)\n",
    "    print(algorithm, avg_results)\n",
    "\n",
    "\n",
    "# ('fixed', 2) (np.float64(133.08), np.float64(14753.52), np.float64(3.022707920074463))\n",
    "# ('fixed', 3) (np.float64(159.32), np.float64(15408.64), np.float64(3.0712509107589723))\n",
    "# ('step scheduling', None) (np.float64(106.88), np.float64(53037.26), np.float64(11.076385221481324))\n",
    "# ('arctan scheduling', None) (np.float64(137.04), np.float64(26842.06), np.float64(5.3187418460845945))"
   ]
  },
  {
   "cell_type": "markdown",
   "metadata": {},
   "source": [
    "### Test for randomizer step\n",
    "This experiment focuses on understanding how could the number of initial randomize steps influence the final solution, in terms of quality and cost"
   ]
  },
  {
   "cell_type": "code",
   "execution_count": null,
   "metadata": {},
   "outputs": [],
   "source": [
    "qualities, costs, elapseds = [], [], []\n",
    "\n",
    "TRIES = 15\n",
    "values = list(map(int, np.logspace(1, 7, num=TRIES).tolist()))\n",
    "for (i, rand_steps) in enumerate(values):\n",
    "\tgoal = np.array([n for n in range(1, PUZZLE_DIM**2)] + [0]).reshape((PUZZLE_DIM, PUZZLE_DIM))\n",
    "\t\n",
    "\tprint(f\"{i}: {rand_steps}\")\n",
    " \n",
    "\t_TRIES = 10\n",
    "\t_qualities, _costs, _elapseds = map(np.zeros, [_TRIES] * 3)\n",
    "\tfor _try in tqdm(range(_TRIES)):\n",
    "\t\tcontent = init_state(goal, randomize_steps=rand_steps)\n",
    "\t\t_, (sol_quality, sol_cost, sol_elapsed) = solve(\"fixed\", fixed_heuristic, content, goal, exp=2)\n",
    "\t\t_qualities[_try] = sol_quality\n",
    "\t\t_costs[_try] = sol_cost\n",
    "\t\t_elapseds[_try] = sol_elapsed\n",
    "\t\n",
    "\tsol_quality = _qualities.mean()\n",
    "\tsol_cost = _costs.mean()\n",
    "\tsol_elapsed = _elapseds.mean()\n",
    "\t\n",
    "\tqualities.append(sol_quality)\n",
    "\tcosts.append(sol_cost)\n",
    "\telapseds.append(sol_elapsed)"
   ]
  },
  {
   "cell_type": "code",
   "execution_count": null,
   "metadata": {},
   "outputs": [],
   "source": [
    "np.array(qualities), np.array(costs)"
   ]
  },
  {
   "cell_type": "markdown",
   "metadata": {},
   "source": [
    "**Note**: the fist plot is scaled"
   ]
  },
  {
   "cell_type": "code",
   "execution_count": null,
   "metadata": {},
   "outputs": [],
   "source": [
    "values = list(map(int, np.logspace(1, 7, num=15).tolist()))\n",
    "mean = np.array(qualities).mean()\n",
    "std = np.array(qualities).std()\n",
    "\n",
    "plt.figure(\"quality\", figsize=(14,8))\n",
    "plt.semilogx(values, 10_000 * (np.array(qualities)) / std, color=\"blue\", label=\"quality\")\n",
    "plt.semilogx(values, costs, color=\"red\", label=\"cost\")\n",
    "plt.title(\"Quality vs Cost\")\n",
    "\n",
    "plt.legend()\n",
    "plt.figure(\"elapsed\", figsize=(14,8))\n",
    "plt.semilogx(values, elapseds)\n",
    "plt.title(\"Elapsed time (s)\")\n",
    "plt.figure(\"scatter\", figsize=(14,8))\n",
    "plt.scatter(costs, qualities)\n",
    "plt.title(\"Quality vs. cost scatterplot\")\n",
    "plt.xlabel(\"Cost\")\n",
    "plt.ylabel(\"Quality\")\n",
    "for (i, (c, q)) in enumerate(zip(costs, qualities)):\n",
    "    plt.annotate(f\"{int(values[i]):2d}\", (c,q))\n",
    "\n",
    "plt.show()"
   ]
  },
  {
   "cell_type": "code",
   "execution_count": null,
   "metadata": {},
   "outputs": [],
   "source": [
    "eff = ((np.array(qualities[2:]) / np.array(costs[2:]))).tolist()\n",
    "plt.figure(\"efficiency\", figsize=(14,8))\n",
    "plt.semilogx(values[2:], eff, label=rand_steps)\n",
    "plt.title(\"Efficiency vs. Random steps\")\n",
    "plt.xlabel(\"Random steps\")\n",
    "plt.ylabel(\"Efficiency\")\n",
    "plt.legend(title=\"Rand. steps\")\n",
    "plt.show()"
   ]
  },
  {
   "cell_type": "markdown",
   "metadata": {},
   "source": [
    "#### Results\n",
    "For n > 200, the scatter points are always in the same region.\n",
    "Hence, it is expected the algorithm behave in the same way across different instances, given n greater than some constant N.\n",
    "\n",
    "To have some safety margin N >= 1000 is chosen."
   ]
  },
  {
   "cell_type": "markdown",
   "metadata": {},
   "source": [
    "### Fine-grained fixed exponent\n",
    "Fixed exponent is chosen, since it balances quality vs cost better than others.\n",
    "\n",
    "**Note**: the second best could be arctan scheduling, with lower quality (25% estimated) but higher cost (3.5x).\n",
    "\n",
    "The value of the exponent is tweaked around 2, in a small range"
   ]
  },
  {
   "cell_type": "code",
   "execution_count": null,
   "metadata": {},
   "outputs": [],
   "source": [
    "results = dict()\n",
    "\n",
    "fixed_heur = dict(zip([strategies[0]], [functions[0]]))\n",
    "exp_values = np.linspace(1.5, 2.2, num=8).tolist()[::-1]      # 0.1 step, starting from fastest\n",
    "\n",
    "rand_steps_values = [1000, 1400, 200_000]         # 1000 original value, others are maximums in the cost plot, not 1e6 due to high cost\n",
    "for rand_steps in rand_steps_values:\n",
    "    TRIES = 10\n",
    "    for i in range(TRIES):\n",
    "        goal = np.array([n for n in range(1, PUZZLE_DIM**2)] + [0]).reshape((PUZZLE_DIM, PUZZLE_DIM))\n",
    "        content = init_state(goal, randomize_steps=rand_steps)\n",
    "        print(f\"Instance {i}\")\n",
    "        print(content)\n",
    "        results[rand_steps] = dict()\n",
    "        solve_instance(content, goal, results[rand_steps], heuristics=fixed_heur, exp_values=exp_values)\n",
    "\n",
    "results\n"
   ]
  },
  {
   "cell_type": "code",
   "execution_count": null,
   "metadata": {},
   "outputs": [],
   "source": [
    "avg_results = dict()\n",
    "keys = [\"quality\", \"cost\", \"elapsed\"]\n",
    "\n",
    "for (rand_steps, results_rand_steps) in results.items():\n",
    "    avg_results[rand_steps] = dict()\n",
    "    for ((_, exp), result) in results_rand_steps.items():\n",
    "        avg_result = statistics(result)\n",
    "        values = list(map(float, avg_result))\n",
    "        avg_results[rand_steps][exp] = dict(zip(keys, values))\n",
    "\n",
    "avg_results"
   ]
  },
  {
   "cell_type": "code",
   "execution_count": null,
   "metadata": {},
   "outputs": [],
   "source": [
    "efficiencies = {rand_steps: [val[\"quality\"]/val[\"cost\"] for val in avg_results_steps.values()] for (rand_steps, avg_results_steps) in avg_results.items()}\n",
    "efficiencies"
   ]
  },
  {
   "cell_type": "code",
   "execution_count": null,
   "metadata": {},
   "outputs": [],
   "source": [
    "costs = {rand_steps: [val[\"cost\"] for val in avg_results_steps.values()] for (rand_steps, avg_results_steps) in avg_results.items()}\n",
    "costs"
   ]
  },
  {
   "cell_type": "code",
   "execution_count": null,
   "metadata": {},
   "outputs": [],
   "source": [
    "plt.figure(\"eff vs. exp\", figsize=(14,8))\n",
    "colors = [\"b\", \"r\", \"orange\"]\n",
    "for ((rand_steps, efficiencies_steps), (_, cost_steps), color) in zip(efficiencies.items(), costs.items(), colors):\n",
    "    plt.plot(exp_values, efficiencies_steps, label=f\"{rand_steps}\", color=color)\n",
    "plt.legend(title=\"Rand. steps\")\n",
    "plt.title(\"Efficiency vs Exponent\")\n",
    "plt.xlabel(\"Exponent\")\n",
    "plt.ylabel(\"Efficiency\")\n",
    "\n",
    "plt.show()"
   ]
  },
  {
   "cell_type": "code",
   "execution_count": null,
   "metadata": {},
   "outputs": [],
   "source": [
    "plt.figure(\"cost vs. exp\", figsize=(14,8))\n",
    "colors = [\"b\", \"r\", \"orange\"]\n",
    "#plt.plot(list(avg_results.keys()), [val[\"quality\"] for val in avg_results.values()])\n",
    "for ((rand_steps, cost_steps), color) in zip(costs.items(), colors):\n",
    "    #print(rand_steps, efficiencies_steps, color)\n",
    "    plt.plot(exp_values, cost_steps, label=f\"{rand_steps}\", color=color)\n",
    "plt.legend(title=\"Rand. steps\")\n",
    "plt.title(\"Cost vs Exponent\")\n",
    "plt.xlabel(\"Exponent\")\n",
    "plt.ylabel(\"Cost\")\n",
    "\n",
    "plt.show()"
   ]
  },
  {
   "cell_type": "code",
   "execution_count": null,
   "metadata": {},
   "outputs": [],
   "source": [
    "elaps = {rand_steps: [val[\"elapsed\"] for val in avg_results_steps.values()] for (rand_steps, avg_results_steps) in avg_results.items()} "
   ]
  },
  {
   "cell_type": "code",
   "execution_count": null,
   "metadata": {},
   "outputs": [],
   "source": [
    "plt.figure(\"eff vs. exp\", figsize=(14,8))\n",
    "colors = [\"b\", \"r\", \"orange\"]\n",
    "#plt.plot(list(avg_results.keys()), [val[\"quality\"] for val in avg_results.values()])\n",
    "for ((rand_steps, elapsed_steps), color) in zip(elaps.items(), colors):\n",
    "    plt.plot(exp_values, elapsed_steps, label=f\"{rand_steps}\", color=color)\n",
    "plt.legend(title=\"Rand. steps\")\n",
    "plt.title(\"Elapsed time vs Exponent\")\n",
    "plt.xlabel(\"Exponent\")\n",
    "plt.ylabel(\"Elapsed time\")\n",
    "\n",
    "plt.show()"
   ]
  },
  {
   "cell_type": "markdown",
   "metadata": {},
   "source": [
    "#### Results\n",
    "To avoid higher costs in larger problems, a low cost is preferred: by putting a threshold on 2 seconds, following setups are considered:\n",
    "- rand steps = 1400, 1.7 <= exp <= 1.9\n",
    "- rand_steps = 200_000, all possible exponents.\n",
    "\n",
    "Efficiency is then considered:\n",
    "- rand_steps = 1400, in general better on the given interval, faster initialization\n",
    "- rand_steps = 200_000, slightly more efficient in 1.8, but in general worse -> The good efficiency value could be a sort of glitch or coincidence, caused by the limited number of tries\n",
    "\n",
    "In conclusion:\n",
    "- rand_steps = 1400, due to better general behavior\n",
    "- exp = 1.8, due to lower cost in the region\n",
    "  \n",
    "could be a good solution. "
   ]
  }
 ],
 "metadata": {
  "kernelspec": {
   "display_name": "venv",
   "language": "python",
   "name": "python3"
  },
  "language_info": {
   "codemirror_mode": {
    "name": "ipython",
    "version": 3
   },
   "file_extension": ".py",
   "mimetype": "text/x-python",
   "name": "python",
   "nbconvert_exporter": "python",
   "pygments_lexer": "ipython3",
   "version": "3.11.8"
  }
 },
 "nbformat": 4,
 "nbformat_minor": 2
}
