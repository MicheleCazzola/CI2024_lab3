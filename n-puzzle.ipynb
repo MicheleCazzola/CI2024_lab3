{
 "cells": [
  {
   "cell_type": "markdown",
   "metadata": {
    "vscode": {
     "languageId": "plaintext"
    }
   },
   "source": [
    "Copyright **`(c)`** 2024 Giovanni Squillero `<giovanni.squillero@polito.it>`  \n",
    "[`https://github.com/squillero/computational-intelligence`](https://github.com/squillero/computational-intelligence)  \n",
    "Free under certain conditions — see the [`license`](https://github.com/squillero/computational-intelligence/blob/master/LICENSE.md) for details.  "
   ]
  },
  {
   "cell_type": "code",
   "execution_count": 34,
   "metadata": {},
   "outputs": [],
   "source": [
    "from collections import namedtuple\n",
    "from random import choice\n",
    "from tqdm.auto import tqdm\n",
    "import numpy as np\n",
    "from heapq import heappush, heappop\n",
    "import functools\n",
    "import matplotlib.pyplot as plt"
   ]
  },
  {
   "cell_type": "code",
   "execution_count": 35,
   "metadata": {},
   "outputs": [],
   "source": [
    "np.random.seed(42)"
   ]
  },
  {
   "cell_type": "code",
   "execution_count": 36,
   "metadata": {},
   "outputs": [],
   "source": [
    "PUZZLE_DIM = 4\n",
    "RANDOMIZE_STEPS = 10_000\n",
    "STEP_SIZE = 1000\n",
    "TEMPERATURE = 10\n",
    "action = namedtuple('Action', ['pos1', 'pos2'])"
   ]
  },
  {
   "cell_type": "code",
   "execution_count": 37,
   "metadata": {},
   "outputs": [],
   "source": [
    "class State:\n",
    "    def __init__(self, content: np.ndarray):\n",
    "        self.content: np.ndarray = content\n",
    "        self.hash: int = hash(content.tobytes())\n",
    "        \n",
    "    def __hash__(self):\n",
    "        return self.hash\n",
    "\n",
    "    def __eq__(self, other):\n",
    "        return self.hash == other.hash\n",
    "    \n",
    "    def __lt__(self, other):\n",
    "        return self.hash < other.hash"
   ]
  },
  {
   "cell_type": "code",
   "execution_count": 38,
   "metadata": {},
   "outputs": [],
   "source": [
    "def available_actions(state: np.ndarray) -> list['Action']:\n",
    "    x, y = [int(i[0]) for i in np.where(state == 0)]\n",
    "    actions = list()\n",
    "    if x > 0:\n",
    "        actions.append(action((x, y), (x - 1, y)))\n",
    "    if x < PUZZLE_DIM - 1:\n",
    "        actions.append(action((x, y), (x + 1, y)))\n",
    "    if y > 0:\n",
    "        actions.append(action((x, y), (x, y - 1)))\n",
    "    if y < PUZZLE_DIM - 1:\n",
    "        actions.append(action((x, y), (x, y + 1)))\n",
    "    return actions\n",
    "\n",
    "def counter(fn):\n",
    "\n",
    "    @functools.wraps(fn)\n",
    "    def helper(*args, **kargs):\n",
    "        helper.calls += 1\n",
    "        return fn(*args, **kargs)\n",
    "\n",
    "    helper.calls = 0\n",
    "    return helper\n",
    "\n",
    "@counter\n",
    "def do_action(state: np.ndarray, action: 'Action') -> np.ndarray:\n",
    "    new_state = state.copy()\n",
    "    new_state[action.pos1], new_state[action.pos2] = new_state[action.pos2], new_state[action.pos1]\n",
    "    return new_state"
   ]
  },
  {
   "cell_type": "markdown",
   "metadata": {},
   "source": [
    "## A* algorithm "
   ]
  },
  {
   "cell_type": "code",
   "execution_count": 39,
   "metadata": {},
   "outputs": [],
   "source": [
    "def get_pos(state_content: np.ndarray, n: int) -> tuple[int, int]:\n",
    "    x, y = np.argwhere(state_content== n)[0]\n",
    "    return x, y\n",
    "\n",
    "def manhattan_distance(state: np.ndarray, goal: np.ndarray, n: int) -> int:\n",
    "\tx1, y1 = get_pos(state, n)\n",
    "\tx2, y2 = get_pos(goal, n)\n",
    "\treturn abs(x1 - x2) + abs(y1 - y2)\n",
    " \n",
    "def fixed_heuristic(state: np.ndarray, goal: np.ndarray, step: int = None, exp: float = None) -> int:\n",
    "    return sum([manhattan_distance(state, goal, n) for n in range(1, PUZZLE_DIM**2)]) ** exp\n",
    "\n",
    "def step_scheduling_heuristic(state: np.ndarray, goal: np.ndarray, step: int = TEMPERATURE * STEP_SIZE, exp: float = None) -> int:\n",
    "    return sum([manhattan_distance(state, goal, n) for n in range(1, PUZZLE_DIM**2)]) ** (min(1 + (step // STEP_SIZE) / TEMPERATURE, 2))\n",
    "\n",
    "def arctan_scheduling_heuristic(state: np.ndarray, goal: np.ndarray, step: int = TEMPERATURE * STEP_SIZE, exp: float = None) -> int:\n",
    "\treturn sum([manhattan_distance(state, goal, n) for n in range(1, PUZZLE_DIM**2)]) ** (np.arctan(step / STEP_SIZE) + 1)\n",
    "\n",
    "def quality(solution: list[int]) -> int:\n",
    "    return len(solution)\n",
    "\n",
    "def astar(state: np.ndarray, goal: np.ndarray, heuristic, exp = None) -> float:\n",
    "    \n",
    "\tstate, goal = map(State, [state, goal])\n",
    "\topen_set = []\n",
    "\tclosed_set = set()\n",
    "\tparents = {}\n",
    "\tpast_len = {state: 0}\n",
    " \n",
    "\theappush(open_set, (0, state, []))\n",
    "\tclosed_set.add(state)\n",
    "\n",
    "\tsteps = 0\n",
    "\twhile open_set:\n",
    "\t\t_, current, curr_path = heappop(open_set)\n",
    "\n",
    "\t\tif current == goal:\n",
    "\t\t\treturn True, curr_path\n",
    "\n",
    "\t\tfor action in available_actions(current.content):\n",
    "\t\t\tneighbor = State(do_action(current.content, action))\n",
    "\n",
    "\t\t\tif neighbor not in closed_set or past_len[current] + 1 < past_len[neighbor]:\n",
    "\t\t\t\tparents[neighbor] = current\n",
    "\t\t\t\tpast_len[neighbor] = quality(curr_path) + 1\n",
    "\t\t\t\tcost = past_len[neighbor] + heuristic(neighbor.content, goal.content, step=steps, exp=exp)\n",
    "\t\t\t\theappush(open_set, (cost, neighbor, curr_path + [action]))\n",
    "\t\t\t\tclosed_set.add(neighbor)\n",
    "\n",
    "\t\tsteps += 1\n",
    "    \n",
    "\treturn False, []"
   ]
  },
  {
   "cell_type": "code",
   "execution_count": 40,
   "metadata": {},
   "outputs": [],
   "source": [
    "strategies = [\"fixed\", \"step scheduling\", \"arctan scheduling\"]\n",
    "functions = [fixed_heuristic, step_scheduling_heuristic, arctan_scheduling_heuristic]\n",
    "heuristics = dict(zip(strategies, functions))"
   ]
  },
  {
   "cell_type": "code",
   "execution_count": 41,
   "metadata": {},
   "outputs": [],
   "source": [
    "def is_solvable(state: np.ndarray) -> bool:\n",
    "\tstate = state.flatten()\n",
    "\tinversions = 0\n",
    "\tfor i in range(PUZZLE_DIM - 1):\n",
    "\t\tfor j in range(i + 1, PUZZLE_DIM):\n",
    "\t\t\tif state[i] and state[j] and state[i] > state[j]:\n",
    "\t\t\t\tinversions += 1\n",
    "\treturn inversions % 2 == 0"
   ]
  },
  {
   "cell_type": "code",
   "execution_count": 42,
   "metadata": {},
   "outputs": [],
   "source": [
    "def init_state(goal: np.ndarray, randomize_steps=RANDOMIZE_STEPS) -> np.ndarray:\n",
    "    state = goal.copy()\n",
    "    np.random.shuffle(state.flatten())\n",
    "    for _ in tqdm(range(randomize_steps), desc='Randomizing'):\n",
    "        state = do_action(state, choice(available_actions(state)))\n",
    "    return state.reshape(PUZZLE_DIM, PUZZLE_DIM)"
   ]
  },
  {
   "cell_type": "code",
   "execution_count": 61,
   "metadata": {},
   "outputs": [],
   "source": [
    "from time import time\n",
    "\n",
    "def solve(name, strategy, content, goal, exp=None):\n",
    "\tstart = time()\n",
    "\n",
    "\tdo_action.calls = 0\n",
    "\tsuccess, path = astar(content, goal, strategy, exp=exp)\n",
    "\telapsed = time() - start\n",
    "\n",
    "\tquality_sol, cost_sol = quality(path), do_action.calls\n",
    "\tprint(f\"{name}, {exp}: {success}, {quality_sol}, {cost_sol}, time: {elapsed:.2f} s\")\n",
    "\t\n",
    "\treturn ((name, exp), (quality_sol, cost_sol, elapsed))\n",
    "\n",
    "\n",
    "def solve_instance(content, goal, results, heuristics=heuristics, exp_values=[2,3]):\n",
    "\tfor (name, strategy) in heuristics.items():\n",
    "\t\tif name == \"fixed\":\n",
    "\t\t\tfor exp in exp_values:\n",
    "\t\t\t\talgorithm, result = solve(name, strategy, content, goal, exp=exp)\n",
    "\t\t\t\tcurrent = results.get(algorithm, [])\n",
    "\t\t\t\tcurrent.append(result)\n",
    "\t\t\t\tresults[algorithm] = current\n",
    "\t\telse:\n",
    "\t\t\talgorithm, result = solve(name, strategy, content, goal)\n",
    "\t\t\tcurrent = results.get(algorithm, [])\n",
    "\t\t\tcurrent.append(result)\n",
    "\t\t\tresults[algorithm] = current\n",
    "\n",
    "def statistics(results_values):\n",
    "    quality_sol, cost_sol, elapsed = tuple(zip(*(results_values)))\n",
    "    avg_quality, avg_cost, avg_elapsed = map(lambda x: np.mean(np.array(x)), [quality_sol, cost_sol, elapsed])\n",
    "    return avg_quality, avg_cost, avg_elapsed\n",
    "\t\n"
   ]
  },
  {
   "cell_type": "code",
   "execution_count": 33,
   "metadata": {},
   "outputs": [
    {
     "data": {
      "application/vnd.jupyter.widget-view+json": {
       "model_id": "423714afb5d847a0a74b5c854905e980",
       "version_major": 2,
       "version_minor": 0
      },
      "text/plain": [
       "Randomizing:   0%|          | 0/10000 [00:00<?, ?it/s]"
      ]
     },
     "metadata": {},
     "output_type": "display_data"
    },
    {
     "name": "stdout",
     "output_type": "stream",
     "text": [
      "Instance 0\n",
      "[[ 5  7 14  3]\n",
      " [ 8  9 13  0]\n",
      " [10  1  6 11]\n",
      " [ 2 15 12  4]]\n"
     ]
    },
    {
     "ename": "KeyboardInterrupt",
     "evalue": "",
     "output_type": "error",
     "traceback": [
      "\u001b[1;31m---------------------------------------------------------------------------\u001b[0m",
      "\u001b[1;31mKeyboardInterrupt\u001b[0m                         Traceback (most recent call last)",
      "Cell \u001b[1;32mIn[33], line 9\u001b[0m\n\u001b[0;32m      7\u001b[0m \t\u001b[38;5;28mprint\u001b[39m(\u001b[38;5;124mf\u001b[39m\u001b[38;5;124m\"\u001b[39m\u001b[38;5;124mInstance \u001b[39m\u001b[38;5;132;01m{\u001b[39;00mi\u001b[38;5;132;01m}\u001b[39;00m\u001b[38;5;124m\"\u001b[39m)\n\u001b[0;32m      8\u001b[0m \t\u001b[38;5;28mprint\u001b[39m(content)\n\u001b[1;32m----> 9\u001b[0m \t\u001b[43msolve_instance\u001b[49m\u001b[43m(\u001b[49m\u001b[43mcontent\u001b[49m\u001b[43m,\u001b[49m\u001b[43m \u001b[49m\u001b[43mgoal\u001b[49m\u001b[43m,\u001b[49m\u001b[43m \u001b[49m\u001b[43mresults\u001b[49m\u001b[43m)\u001b[49m\n\u001b[0;32m     11\u001b[0m \u001b[38;5;28;01mfor\u001b[39;00m (algorithm, result) \u001b[38;5;129;01min\u001b[39;00m results\u001b[38;5;241m.\u001b[39mitems():\n\u001b[0;32m     12\u001b[0m     avg_results \u001b[38;5;241m=\u001b[39m statistics(result)\n",
      "Cell \u001b[1;32mIn[32], line 25\u001b[0m, in \u001b[0;36msolve_instance\u001b[1;34m(content, goal, results)\u001b[0m\n\u001b[0;32m     23\u001b[0m \u001b[38;5;28;01mif\u001b[39;00m name \u001b[38;5;241m==\u001b[39m \u001b[38;5;124m\"\u001b[39m\u001b[38;5;124mfixed\u001b[39m\u001b[38;5;124m\"\u001b[39m:\n\u001b[0;32m     24\u001b[0m \t\u001b[38;5;28;01mfor\u001b[39;00m exp \u001b[38;5;129;01min\u001b[39;00m [\u001b[38;5;241m2\u001b[39m,\u001b[38;5;241m3\u001b[39m]:\n\u001b[1;32m---> 25\u001b[0m \t\talgorithm, result \u001b[38;5;241m=\u001b[39m \u001b[43msolve\u001b[49m\u001b[43m(\u001b[49m\u001b[43mname\u001b[49m\u001b[43m,\u001b[49m\u001b[43m \u001b[49m\u001b[43mstrategy\u001b[49m\u001b[43m,\u001b[49m\u001b[43m \u001b[49m\u001b[43mcontent\u001b[49m\u001b[43m,\u001b[49m\u001b[43m \u001b[49m\u001b[43mgoal\u001b[49m\u001b[43m,\u001b[49m\u001b[43m \u001b[49m\u001b[43mexp\u001b[49m\u001b[38;5;241;43m=\u001b[39;49m\u001b[43mexp\u001b[49m\u001b[43m)\u001b[49m\n\u001b[0;32m     26\u001b[0m \t\tcurrent \u001b[38;5;241m=\u001b[39m results\u001b[38;5;241m.\u001b[39mget(algorithm, [])\n\u001b[0;32m     27\u001b[0m \t\tcurrent\u001b[38;5;241m.\u001b[39mappend(result)\n",
      "Cell \u001b[1;32mIn[32], line 12\u001b[0m, in \u001b[0;36msolve\u001b[1;34m(name, strategy, content, goal, exp)\u001b[0m\n\u001b[0;32m      9\u001b[0m start \u001b[38;5;241m=\u001b[39m time()\n\u001b[0;32m     11\u001b[0m do_action\u001b[38;5;241m.\u001b[39mcalls \u001b[38;5;241m=\u001b[39m \u001b[38;5;241m0\u001b[39m\n\u001b[1;32m---> 12\u001b[0m success, path \u001b[38;5;241m=\u001b[39m \u001b[43mastar\u001b[49m\u001b[43m(\u001b[49m\u001b[43mcontent\u001b[49m\u001b[43m,\u001b[49m\u001b[43m \u001b[49m\u001b[43mgoal\u001b[49m\u001b[43m,\u001b[49m\u001b[43m \u001b[49m\u001b[43mstrategy\u001b[49m\u001b[43m,\u001b[49m\u001b[43m \u001b[49m\u001b[43mexp\u001b[49m\u001b[38;5;241;43m=\u001b[39;49m\u001b[43mexp\u001b[49m\u001b[43m)\u001b[49m\n\u001b[0;32m     13\u001b[0m elapsed \u001b[38;5;241m=\u001b[39m time() \u001b[38;5;241m-\u001b[39m start\n\u001b[0;32m     15\u001b[0m quality_sol, cost_sol \u001b[38;5;241m=\u001b[39m quality(path), do_action\u001b[38;5;241m.\u001b[39mcalls\n",
      "Cell \u001b[1;32mIn[28], line 46\u001b[0m, in \u001b[0;36mastar\u001b[1;34m(state, goal, heuristic, exp)\u001b[0m\n\u001b[0;32m     44\u001b[0m parents[neighbor] \u001b[38;5;241m=\u001b[39m current\n\u001b[0;32m     45\u001b[0m past_len[neighbor] \u001b[38;5;241m=\u001b[39m quality(curr_path) \u001b[38;5;241m+\u001b[39m \u001b[38;5;241m1\u001b[39m\n\u001b[1;32m---> 46\u001b[0m cost \u001b[38;5;241m=\u001b[39m past_len[neighbor] \u001b[38;5;241m+\u001b[39m \u001b[43mheuristic\u001b[49m\u001b[43m(\u001b[49m\u001b[43mneighbor\u001b[49m\u001b[38;5;241;43m.\u001b[39;49m\u001b[43mcontent\u001b[49m\u001b[43m,\u001b[49m\u001b[43m \u001b[49m\u001b[43mgoal\u001b[49m\u001b[38;5;241;43m.\u001b[39;49m\u001b[43mcontent\u001b[49m\u001b[43m,\u001b[49m\u001b[43m \u001b[49m\u001b[43mstep\u001b[49m\u001b[38;5;241;43m=\u001b[39;49m\u001b[43msteps\u001b[49m\u001b[43m,\u001b[49m\u001b[43m \u001b[49m\u001b[43mexp\u001b[49m\u001b[38;5;241;43m=\u001b[39;49m\u001b[43mexp\u001b[49m\u001b[43m)\u001b[49m\n\u001b[0;32m     47\u001b[0m heappush(open_set, (cost, neighbor, curr_path \u001b[38;5;241m+\u001b[39m [action]))\n\u001b[0;32m     48\u001b[0m closed_set\u001b[38;5;241m.\u001b[39madd(neighbor)\n",
      "Cell \u001b[1;32mIn[28], line 11\u001b[0m, in \u001b[0;36mfixed_heuristic\u001b[1;34m(state, goal, step, exp)\u001b[0m\n\u001b[0;32m     10\u001b[0m \u001b[38;5;28;01mdef\u001b[39;00m \u001b[38;5;21mfixed_heuristic\u001b[39m(state: np\u001b[38;5;241m.\u001b[39mndarray, goal: np\u001b[38;5;241m.\u001b[39mndarray, step: \u001b[38;5;28mint\u001b[39m \u001b[38;5;241m=\u001b[39m \u001b[38;5;28;01mNone\u001b[39;00m, exp: \u001b[38;5;28mfloat\u001b[39m \u001b[38;5;241m=\u001b[39m \u001b[38;5;28;01mNone\u001b[39;00m) \u001b[38;5;241m-\u001b[39m\u001b[38;5;241m>\u001b[39m \u001b[38;5;28mint\u001b[39m:\n\u001b[1;32m---> 11\u001b[0m     \u001b[38;5;28;01mreturn\u001b[39;00m \u001b[38;5;28msum\u001b[39m(\u001b[43m[\u001b[49m\u001b[43mmanhattan_distance\u001b[49m\u001b[43m(\u001b[49m\u001b[43mstate\u001b[49m\u001b[43m,\u001b[49m\u001b[43m \u001b[49m\u001b[43mgoal\u001b[49m\u001b[43m,\u001b[49m\u001b[43m \u001b[49m\u001b[43mn\u001b[49m\u001b[43m)\u001b[49m\u001b[43m \u001b[49m\u001b[38;5;28;43;01mfor\u001b[39;49;00m\u001b[43m \u001b[49m\u001b[43mn\u001b[49m\u001b[43m \u001b[49m\u001b[38;5;129;43;01min\u001b[39;49;00m\u001b[43m \u001b[49m\u001b[38;5;28;43mrange\u001b[39;49m\u001b[43m(\u001b[49m\u001b[38;5;241;43m1\u001b[39;49m\u001b[43m,\u001b[49m\u001b[43m \u001b[49m\u001b[43mPUZZLE_DIM\u001b[49m\u001b[38;5;241;43m*\u001b[39;49m\u001b[38;5;241;43m*\u001b[39;49m\u001b[38;5;241;43m2\u001b[39;49m\u001b[43m)\u001b[49m\u001b[43m]\u001b[49m) \u001b[38;5;241m*\u001b[39m\u001b[38;5;241m*\u001b[39m exp\n",
      "Cell \u001b[1;32mIn[28], line 11\u001b[0m, in \u001b[0;36m<listcomp>\u001b[1;34m(.0)\u001b[0m\n\u001b[0;32m     10\u001b[0m \u001b[38;5;28;01mdef\u001b[39;00m \u001b[38;5;21mfixed_heuristic\u001b[39m(state: np\u001b[38;5;241m.\u001b[39mndarray, goal: np\u001b[38;5;241m.\u001b[39mndarray, step: \u001b[38;5;28mint\u001b[39m \u001b[38;5;241m=\u001b[39m \u001b[38;5;28;01mNone\u001b[39;00m, exp: \u001b[38;5;28mfloat\u001b[39m \u001b[38;5;241m=\u001b[39m \u001b[38;5;28;01mNone\u001b[39;00m) \u001b[38;5;241m-\u001b[39m\u001b[38;5;241m>\u001b[39m \u001b[38;5;28mint\u001b[39m:\n\u001b[1;32m---> 11\u001b[0m     \u001b[38;5;28;01mreturn\u001b[39;00m \u001b[38;5;28msum\u001b[39m([\u001b[43mmanhattan_distance\u001b[49m\u001b[43m(\u001b[49m\u001b[43mstate\u001b[49m\u001b[43m,\u001b[49m\u001b[43m \u001b[49m\u001b[43mgoal\u001b[49m\u001b[43m,\u001b[49m\u001b[43m \u001b[49m\u001b[43mn\u001b[49m\u001b[43m)\u001b[49m \u001b[38;5;28;01mfor\u001b[39;00m n \u001b[38;5;129;01min\u001b[39;00m \u001b[38;5;28mrange\u001b[39m(\u001b[38;5;241m1\u001b[39m, PUZZLE_DIM\u001b[38;5;241m*\u001b[39m\u001b[38;5;241m*\u001b[39m\u001b[38;5;241m2\u001b[39m)]) \u001b[38;5;241m*\u001b[39m\u001b[38;5;241m*\u001b[39m exp\n",
      "Cell \u001b[1;32mIn[28], line 6\u001b[0m, in \u001b[0;36mmanhattan_distance\u001b[1;34m(state, goal, n)\u001b[0m\n\u001b[0;32m      5\u001b[0m \u001b[38;5;28;01mdef\u001b[39;00m \u001b[38;5;21mmanhattan_distance\u001b[39m(state: np\u001b[38;5;241m.\u001b[39mndarray, goal: np\u001b[38;5;241m.\u001b[39mndarray, n: \u001b[38;5;28mint\u001b[39m) \u001b[38;5;241m-\u001b[39m\u001b[38;5;241m>\u001b[39m \u001b[38;5;28mint\u001b[39m:\n\u001b[1;32m----> 6\u001b[0m \tx1, y1 \u001b[38;5;241m=\u001b[39m \u001b[43mget_pos\u001b[49m\u001b[43m(\u001b[49m\u001b[43mstate\u001b[49m\u001b[43m,\u001b[49m\u001b[43m \u001b[49m\u001b[43mn\u001b[49m\u001b[43m)\u001b[49m\n\u001b[0;32m      7\u001b[0m \tx2, y2 \u001b[38;5;241m=\u001b[39m get_pos(goal, n)\n\u001b[0;32m      8\u001b[0m \t\u001b[38;5;28;01mreturn\u001b[39;00m \u001b[38;5;28mabs\u001b[39m(x1 \u001b[38;5;241m-\u001b[39m x2) \u001b[38;5;241m+\u001b[39m \u001b[38;5;28mabs\u001b[39m(y1 \u001b[38;5;241m-\u001b[39m y2)\n",
      "Cell \u001b[1;32mIn[28], line 2\u001b[0m, in \u001b[0;36mget_pos\u001b[1;34m(state_content, n)\u001b[0m\n\u001b[0;32m      1\u001b[0m \u001b[38;5;28;01mdef\u001b[39;00m \u001b[38;5;21mget_pos\u001b[39m(state_content: np\u001b[38;5;241m.\u001b[39mndarray, n: \u001b[38;5;28mint\u001b[39m) \u001b[38;5;241m-\u001b[39m\u001b[38;5;241m>\u001b[39m \u001b[38;5;28mtuple\u001b[39m[\u001b[38;5;28mint\u001b[39m, \u001b[38;5;28mint\u001b[39m]:\n\u001b[1;32m----> 2\u001b[0m     x, y \u001b[38;5;241m=\u001b[39m \u001b[43mnp\u001b[49m\u001b[38;5;241;43m.\u001b[39;49m\u001b[43margwhere\u001b[49m\u001b[43m(\u001b[49m\u001b[43mstate_content\u001b[49m\u001b[38;5;241;43m==\u001b[39;49m\u001b[43m \u001b[49m\u001b[43mn\u001b[49m\u001b[43m)\u001b[49m[\u001b[38;5;241m0\u001b[39m]\n\u001b[0;32m      3\u001b[0m     \u001b[38;5;28;01mreturn\u001b[39;00m x, y\n",
      "File \u001b[1;32mc:\\michele\\uni\\polito\\quinto_anno\\primo_semestre\\computational_intelligence\\labs\\venv\\Lib\\site-packages\\numpy\\_core\\numeric.py:659\u001b[0m, in \u001b[0;36margwhere\u001b[1;34m(a)\u001b[0m\n\u001b[0;32m    657\u001b[0m     \u001b[38;5;66;03m# then remove the added dimension\u001b[39;00m\n\u001b[0;32m    658\u001b[0m     \u001b[38;5;28;01mreturn\u001b[39;00m argwhere(a)[:, :\u001b[38;5;241m0\u001b[39m]\n\u001b[1;32m--> 659\u001b[0m \u001b[38;5;28;01mreturn\u001b[39;00m \u001b[43mtranspose\u001b[49m\u001b[43m(\u001b[49m\u001b[43mnonzero\u001b[49m\u001b[43m(\u001b[49m\u001b[43ma\u001b[49m\u001b[43m)\u001b[49m\u001b[43m)\u001b[49m\n",
      "File \u001b[1;32mc:\\michele\\uni\\polito\\quinto_anno\\primo_semestre\\computational_intelligence\\labs\\venv\\Lib\\site-packages\\numpy\\_core\\fromnumeric.py:703\u001b[0m, in \u001b[0;36mtranspose\u001b[1;34m(a, axes)\u001b[0m\n\u001b[0;32m    635\u001b[0m \u001b[38;5;129m@array_function_dispatch\u001b[39m(_transpose_dispatcher)\n\u001b[0;32m    636\u001b[0m \u001b[38;5;28;01mdef\u001b[39;00m \u001b[38;5;21mtranspose\u001b[39m(a, axes\u001b[38;5;241m=\u001b[39m\u001b[38;5;28;01mNone\u001b[39;00m):\n\u001b[0;32m    637\u001b[0m \u001b[38;5;250m    \u001b[39m\u001b[38;5;124;03m\"\"\"\u001b[39;00m\n\u001b[0;32m    638\u001b[0m \u001b[38;5;124;03m    Returns an array with axes transposed.\u001b[39;00m\n\u001b[0;32m    639\u001b[0m \n\u001b[1;32m   (...)\u001b[0m\n\u001b[0;32m    701\u001b[0m \n\u001b[0;32m    702\u001b[0m \u001b[38;5;124;03m    \"\"\"\u001b[39;00m\n\u001b[1;32m--> 703\u001b[0m     \u001b[38;5;28;01mreturn\u001b[39;00m \u001b[43m_wrapfunc\u001b[49m\u001b[43m(\u001b[49m\u001b[43ma\u001b[49m\u001b[43m,\u001b[49m\u001b[43m \u001b[49m\u001b[38;5;124;43m'\u001b[39;49m\u001b[38;5;124;43mtranspose\u001b[39;49m\u001b[38;5;124;43m'\u001b[39;49m\u001b[43m,\u001b[49m\u001b[43m \u001b[49m\u001b[43maxes\u001b[49m\u001b[43m)\u001b[49m\n",
      "File \u001b[1;32mc:\\michele\\uni\\polito\\quinto_anno\\primo_semestre\\computational_intelligence\\labs\\venv\\Lib\\site-packages\\numpy\\_core\\fromnumeric.py:54\u001b[0m, in \u001b[0;36m_wrapfunc\u001b[1;34m(obj, method, *args, **kwds)\u001b[0m\n\u001b[0;32m     52\u001b[0m bound \u001b[38;5;241m=\u001b[39m \u001b[38;5;28mgetattr\u001b[39m(obj, method, \u001b[38;5;28;01mNone\u001b[39;00m)\n\u001b[0;32m     53\u001b[0m \u001b[38;5;28;01mif\u001b[39;00m bound \u001b[38;5;129;01mis\u001b[39;00m \u001b[38;5;28;01mNone\u001b[39;00m:\n\u001b[1;32m---> 54\u001b[0m     \u001b[38;5;28;01mreturn\u001b[39;00m \u001b[43m_wrapit\u001b[49m\u001b[43m(\u001b[49m\u001b[43mobj\u001b[49m\u001b[43m,\u001b[49m\u001b[43m \u001b[49m\u001b[43mmethod\u001b[49m\u001b[43m,\u001b[49m\u001b[43m \u001b[49m\u001b[38;5;241;43m*\u001b[39;49m\u001b[43margs\u001b[49m\u001b[43m,\u001b[49m\u001b[43m \u001b[49m\u001b[38;5;241;43m*\u001b[39;49m\u001b[38;5;241;43m*\u001b[39;49m\u001b[43mkwds\u001b[49m\u001b[43m)\u001b[49m\n\u001b[0;32m     56\u001b[0m \u001b[38;5;28;01mtry\u001b[39;00m:\n\u001b[0;32m     57\u001b[0m     \u001b[38;5;28;01mreturn\u001b[39;00m bound(\u001b[38;5;241m*\u001b[39margs, \u001b[38;5;241m*\u001b[39m\u001b[38;5;241m*\u001b[39mkwds)\n",
      "File \u001b[1;32mc:\\michele\\uni\\polito\\quinto_anno\\primo_semestre\\computational_intelligence\\labs\\venv\\Lib\\site-packages\\numpy\\_core\\fromnumeric.py:45\u001b[0m, in \u001b[0;36m_wrapit\u001b[1;34m(obj, method, *args, **kwds)\u001b[0m\n\u001b[0;32m     42\u001b[0m conv \u001b[38;5;241m=\u001b[39m _array_converter(obj)\n\u001b[0;32m     43\u001b[0m \u001b[38;5;66;03m# As this already tried the method, subok is maybe quite reasonable here\u001b[39;00m\n\u001b[0;32m     44\u001b[0m \u001b[38;5;66;03m# but this follows what was done before. TODO: revisit this.\u001b[39;00m\n\u001b[1;32m---> 45\u001b[0m arr, \u001b[38;5;241m=\u001b[39m \u001b[43mconv\u001b[49m\u001b[38;5;241;43m.\u001b[39;49m\u001b[43mas_arrays\u001b[49m\u001b[43m(\u001b[49m\u001b[43msubok\u001b[49m\u001b[38;5;241;43m=\u001b[39;49m\u001b[38;5;28;43;01mFalse\u001b[39;49;00m\u001b[43m)\u001b[49m\n\u001b[0;32m     46\u001b[0m result \u001b[38;5;241m=\u001b[39m \u001b[38;5;28mgetattr\u001b[39m(arr, method)(\u001b[38;5;241m*\u001b[39margs, \u001b[38;5;241m*\u001b[39m\u001b[38;5;241m*\u001b[39mkwds)\n\u001b[0;32m     48\u001b[0m \u001b[38;5;28;01mreturn\u001b[39;00m conv\u001b[38;5;241m.\u001b[39mwrap(result, to_scalar\u001b[38;5;241m=\u001b[39m\u001b[38;5;28;01mFalse\u001b[39;00m)\n",
      "\u001b[1;31mKeyboardInterrupt\u001b[0m: "
     ]
    }
   ],
   "source": [
    "results = dict()\t\n",
    "\n",
    "TRIES = 50\n",
    "for i in range(TRIES):\n",
    "\tgoal = np.array([n for n in range(1, PUZZLE_DIM**2)] + [0]).reshape((PUZZLE_DIM, PUZZLE_DIM))\n",
    "\tcontent = init_state(goal)\n",
    "\tprint(f\"Instance {i}\")\n",
    "\tprint(content)\n",
    "\tsolve_instance(content, goal, results)\n",
    "\n",
    "for (algorithm, result) in results.items():\n",
    "    avg_results = statistics(result)\n",
    "    print(algorithm, avg_results)\n",
    "\n",
    "\n",
    "# ('fixed', 2) (np.float64(133.08), np.float64(14753.52), np.float64(3.022707920074463))\n",
    "# ('fixed', 3) (np.float64(159.32), np.float64(15408.64), np.float64(3.0712509107589723))\n",
    "# ('step scheduling', None) (np.float64(106.88), np.float64(53037.26), np.float64(11.076385221481324))\n",
    "# ('arctan scheduling', None) (np.float64(137.04), np.float64(26842.06), np.float64(5.3187418460845945))"
   ]
  },
  {
   "cell_type": "markdown",
   "metadata": {},
   "source": [
    "### Test for randomizer step"
   ]
  },
  {
   "cell_type": "code",
   "execution_count": null,
   "metadata": {},
   "outputs": [],
   "source": [
    "qualities, costs, elapseds = [], [], []\n",
    "\n",
    "TRIES = 15\n",
    "values = list(map(int, np.logspace(1, 7, num=TRIES).tolist()))\n",
    "for (i, rand_steps) in enumerate(values):\n",
    "\tgoal = np.array([n for n in range(1, PUZZLE_DIM**2)] + [0]).reshape((PUZZLE_DIM, PUZZLE_DIM))\n",
    "\t\n",
    "\tprint(f\"{i}: {rand_steps}\")\n",
    " \n",
    "\t_TRIES = 10\n",
    "\t_qualities, _costs, _elapseds = map(np.zeros, [_TRIES] * 3)\n",
    "\tfor _try in tqdm(range(_TRIES)):\n",
    "\t\tcontent = init_state(goal, randomize_steps=rand_steps)\n",
    "\t\t_, (sol_quality, sol_cost, sol_elapsed) = solve(\"fixed\", fixed_heuristic, content, goal, exp=2)\n",
    "\t\t_qualities[_try] = sol_quality\n",
    "\t\t_costs[_try] = sol_cost\n",
    "\t\t_elapseds[_try] = sol_elapsed\n",
    "\t\n",
    "\tsol_quality = _qualities.mean()\n",
    "\tsol_cost = _costs.mean()\n",
    "\tsol_elapsed = _elapseds.mean()\n",
    "\t\n",
    "\tqualities.append(sol_quality)\n",
    "\tcosts.append(sol_cost)\n",
    "\telapseds.append(sol_elapsed)"
   ]
  },
  {
   "cell_type": "code",
   "execution_count": 114,
   "metadata": {},
   "outputs": [
    {
     "data": {
      "text/plain": [
       "(array([  4.8,  14.4,  45.4,  95.4, 130.4, 135.6, 124.2, 123.4, 144.8,\n",
       "        130.2, 124.2, 129. , 130. , 129.6, 136.4]),\n",
       " array([1.64000e+01, 2.01000e+02, 9.16990e+03, 1.21705e+04, 2.02384e+04,\n",
       "        1.36449e+04, 1.04372e+04, 9.52950e+03, 1.79956e+04, 1.80833e+04,\n",
       "        7.26100e+03, 1.41445e+04, 1.48619e+04, 8.81650e+03, 1.60296e+04]))"
      ]
     },
     "execution_count": 114,
     "metadata": {},
     "output_type": "execute_result"
    }
   ],
   "source": [
    "np.array(qualities), np.array(costs)"
   ]
  },
  {
   "cell_type": "code",
   "execution_count": null,
   "metadata": {},
   "outputs": [
    {
     "data": {
      "image/png": "[encoded data removed]",
      "text/plain": [
       "<Figure size 1400x800 with 1 Axes>"
      ]
     },
     "metadata": {},
     "output_type": "display_data"
    },
    {
     "data": {
      "image/png": "[encoded data removed]",
      "text/plain": [
       "<Figure size 1400x800 with 1 Axes>"
      ]
     },
     "metadata": {},
     "output_type": "display_data"
    },
    {
     "data": {
      "image/png": "[encoded data removed]",
      "text/plain": [
       "<Figure size 1400x800 with 1 Axes>"
      ]
     },
     "metadata": {},
     "output_type": "display_data"
    },
    {
     "data": {
      "image/png": "[encoded data removed]",
      "text/plain": [
       "<Figure size 640x480 with 1 Axes>"
      ]
     },
     "metadata": {},
     "output_type": "display_data"
    }
   ],
   "source": [
    "values = list(map(int, np.logspace(1, 7, num=15).tolist()))\n",
    "plt.figure(\"quality\", figsize=(14,8))\n",
    "plt.loglog(values, qualities, color=\"blue\")\n",
    "plt.title(\"Quality vs Cost\")\n",
    "plt.semilogx(values, costs, color=\"red\")\n",
    "plt.figure(\"elapsed\", figsize=(14,8))\n",
    "plt.semilogx(values, elapseds)\n",
    "plt.title(\"Elapsed time (s)\")\n",
    "plt.figure(\"scatter\", figsize=(14,8))\n",
    "plt.scatter(costs, qualities, )\n",
    "plt.title(\"Scatterplot\")\n",
    "plt.xlabel(\"Cost\")\n",
    "plt.ylabel(\"Quality\")\n",
    "for (i, (c, q)) in enumerate(zip(costs, qualities)):\n",
    "    plt.annotate(f\"{int(values[i]):2d}\", (c,q))\n",
    "\n",
    "plt.show()\n",
    "\n"
   ]
  },
  {
   "cell_type": "code",
   "execution_count": 119,
   "metadata": {},
   "outputs": [
    {
     "data": {
      "image/png": "[encoded data removed]",
      "text/plain": [
       "<Figure size 1400x800 with 1 Axes>"
      ]
     },
     "metadata": {},
     "output_type": "display_data"
    }
   ],
   "source": [
    "eff = (1e7 / (np.array(qualities[5:]) * np.array(costs[5:]))).tolist()\n",
    "plt.figure(\"efficiency\", figsize=(14,8))\n",
    "plt.semilogx(values[5:], eff, label=rand_steps)\n",
    "plt.title(\"Efficiency vs. Random steps\")\n",
    "plt.xlabel(\"Random steps\")\n",
    "plt.ylabel(\"Efficiency\")\n",
    "plt.legend(title=\"Rand. steps\")\n",
    "plt.show()"
   ]
  },
  {
   "cell_type": "markdown",
   "metadata": {},
   "source": [
    "#### Results\n",
    "For n > 200, the scatter points are always in the same region.\n",
    "Hence, it is expected the algorithm behave in the same way across different instances, given n greater than some constant N.\n",
    "\n",
    "To have some safety margin N = 1000 is chosen."
   ]
  },
  {
   "cell_type": "markdown",
   "metadata": {},
   "source": [
    "### Fine-grained fixed exponent\n",
    "Fixed exponent is chosen, since it balances quality vs cost better than others.\n",
    "\n",
    "**Note**: the second best could be arctan scheduling, with lower quality (25% estimated) but higher cost (3.5x).\n",
    "\n",
    "The value of the exponent is tweaked around 2, in a small range"
   ]
  },
  {
   "cell_type": "code",
   "execution_count": 121,
   "metadata": {},
   "outputs": [
    {
     "data": {
      "application/vnd.jupyter.widget-view+json": {
       "model_id": "934e00056a7a4c23a5b0ea4acdabbfbb",
       "version_major": 2,
       "version_minor": 0
      },
      "text/plain": [
       "Randomizing:   0%|          | 0/1000 [00:00<?, ?it/s]"
      ]
     },
     "metadata": {},
     "output_type": "display_data"
    },
    {
     "name": "stdout",
     "output_type": "stream",
     "text": [
      "Instance 0\n",
      "[[ 3  5  2 13]\n",
      " [14  1  4  8]\n",
      " [ 0  6 12 10]\n",
      " [ 7 11  9 15]]\n",
      "fixed, 2.2: True, 138, 16353, time: 2.41 s\n",
      "fixed, 2.1: True, 138, 15168, time: 2.31 s\n",
      "fixed, 2.0: True, 138, 13292, time: 1.88 s\n",
      "fixed, 1.9000000000000001: True, 138, 12131, time: 1.71 s\n",
      "fixed, 1.8: True, 108, 14390, time: 2.05 s\n",
      "fixed, 1.7: True, 104, 12715, time: 1.94 s\n",
      "fixed, 1.6: True, 98, 13218, time: 1.84 s\n",
      "fixed, 1.5: True, 92, 6944, time: 0.98 s\n"
     ]
    },
    {
     "data": {
      "application/vnd.jupyter.widget-view+json": {
       "model_id": "05b21bba6a24460c95342e1d5f2c9ba8",
       "version_major": 2,
       "version_minor": 0
      },
      "text/plain": [
       "Randomizing:   0%|          | 0/1000 [00:00<?, ?it/s]"
      ]
     },
     "metadata": {},
     "output_type": "display_data"
    },
    {
     "name": "stdout",
     "output_type": "stream",
     "text": [
      "Instance 1\n",
      "[[ 9 10  8 13]\n",
      " [ 6  2 15  4]\n",
      " [12 14  1 11]\n",
      " [ 7  0  5  3]]\n",
      "fixed, 2.2: True, 140, 14785, time: 2.14 s\n",
      "fixed, 2.1: True, 140, 17861, time: 2.48 s\n",
      "fixed, 2.0: True, 124, 34754, time: 4.88 s\n",
      "fixed, 1.9000000000000001: True, 120, 21904, time: 2.99 s\n",
      "fixed, 1.8: True, 110, 13989, time: 2.06 s\n",
      "fixed, 1.7: True, 108, 21972, time: 3.14 s\n",
      "fixed, 1.6: True, 106, 31886, time: 4.07 s\n",
      "fixed, 1.5: True, 96, 56186, time: 7.43 s\n"
     ]
    },
    {
     "data": {
      "application/vnd.jupyter.widget-view+json": {
       "model_id": "9968440d7e7a45848ed35fbcb726b986",
       "version_major": 2,
       "version_minor": 0
      },
      "text/plain": [
       "Randomizing:   0%|          | 0/1000 [00:00<?, ?it/s]"
      ]
     },
     "metadata": {},
     "output_type": "display_data"
    },
    {
     "name": "stdout",
     "output_type": "stream",
     "text": [
      "Instance 2\n",
      "[[ 9 13  0  2]\n",
      " [12 15  3  6]\n",
      " [ 8  7  1 10]\n",
      " [14 11  4  5]]\n",
      "fixed, 2.2: True, 116, 3014, time: 0.48 s\n",
      "fixed, 2.1: True, 116, 3014, time: 0.44 s\n",
      "fixed, 2.0: True, 116, 3014, time: 0.44 s\n",
      "fixed, 1.9000000000000001: True, 116, 2998, time: 0.42 s\n",
      "fixed, 1.8: True, 116, 2975, time: 0.44 s\n",
      "fixed, 1.7: True, 112, 3985, time: 0.58 s\n",
      "fixed, 1.6: True, 112, 3241, time: 0.46 s\n",
      "fixed, 1.5: True, 106, 33135, time: 4.68 s\n"
     ]
    },
    {
     "data": {
      "application/vnd.jupyter.widget-view+json": {
       "model_id": "1e0c31b981c149f7b2ba4d2531809620",
       "version_major": 2,
       "version_minor": 0
      },
      "text/plain": [
       "Randomizing:   0%|          | 0/1000 [00:00<?, ?it/s]"
      ]
     },
     "metadata": {},
     "output_type": "display_data"
    },
    {
     "name": "stdout",
     "output_type": "stream",
     "text": [
      "Instance 3\n",
      "[[11  3 15  1]\n",
      " [12 10  5  4]\n",
      " [ 0 13  7  2]\n",
      " [ 9 14  6  8]]\n",
      "fixed, 2.2: True, 100, 4689, time: 0.75 s\n",
      "fixed, 2.1: True, 100, 4016, time: 0.58 s\n",
      "fixed, 2.0: True, 100, 3616, time: 0.53 s\n",
      "fixed, 1.9000000000000001: True, 100, 3413, time: 0.50 s\n",
      "fixed, 1.8: True, 110, 15346, time: 2.15 s\n",
      "fixed, 1.7: True, 100, 32652, time: 4.50 s\n",
      "fixed, 1.6: True, 90, 13161, time: 1.99 s\n",
      "fixed, 1.5: True, 90, 6401, time: 0.94 s\n"
     ]
    },
    {
     "data": {
      "application/vnd.jupyter.widget-view+json": {
       "model_id": "7a204e7876f24d5eaec55095933fbbca",
       "version_major": 2,
       "version_minor": 0
      },
      "text/plain": [
       "Randomizing:   0%|          | 0/1000 [00:00<?, ?it/s]"
      ]
     },
     "metadata": {},
     "output_type": "display_data"
    },
    {
     "name": "stdout",
     "output_type": "stream",
     "text": [
      "Instance 4\n",
      "[[ 3 15 14  5]\n",
      " [13 11 10 12]\n",
      " [ 6  7  0  4]\n",
      " [ 2  8  9  1]]\n",
      "fixed, 2.2: True, 170, 37588, time: 5.47 s\n",
      "fixed, 2.1: True, 170, 43376, time: 5.86 s\n",
      "fixed, 2.0: True, 178, 35615, time: 4.93 s\n",
      "fixed, 1.9000000000000001: True, 174, 32184, time: 4.51 s\n",
      "fixed, 1.8: True, 166, 48364, time: 6.81 s\n",
      "fixed, 1.7: True, 158, 23487, time: 3.43 s\n",
      "fixed, 1.6: True, 128, 32264, time: 4.64 s\n",
      "fixed, 1.5: True, 126, 3514, time: 0.51 s\n"
     ]
    },
    {
     "data": {
      "application/vnd.jupyter.widget-view+json": {
       "model_id": "bf68e71df5fa46b2af2b9f1264d263fe",
       "version_major": 2,
       "version_minor": 0
      },
      "text/plain": [
       "Randomizing:   0%|          | 0/1000 [00:00<?, ?it/s]"
      ]
     },
     "metadata": {},
     "output_type": "display_data"
    },
    {
     "name": "stdout",
     "output_type": "stream",
     "text": [
      "Instance 5\n",
      "[[ 4  8 10 12]\n",
      " [ 7  9 11 13]\n",
      " [ 2  6  1 15]\n",
      " [ 3  0 14  5]]\n",
      "fixed, 2.2: True, 148, 25488, time: 3.68 s\n",
      "fixed, 2.1: True, 148, 20199, time: 2.93 s\n",
      "fixed, 2.0: True, 148, 16203, time: 2.31 s\n",
      "fixed, 1.9000000000000001: True, 152, 20690, time: 2.91 s\n",
      "fixed, 1.8: True, 146, 13286, time: 2.01 s\n",
      "fixed, 1.7: True, 136, 21219, time: 3.03 s\n",
      "fixed, 1.6: True, 122, 12702, time: 1.82 s\n",
      "fixed, 1.5: True, 122, 20687, time: 3.17 s\n"
     ]
    },
    {
     "data": {
      "application/vnd.jupyter.widget-view+json": {
       "model_id": "d9839e343e694af699e7d0cb1b0f7764",
       "version_major": 2,
       "version_minor": 0
      },
      "text/plain": [
       "Randomizing:   0%|          | 0/1000 [00:00<?, ?it/s]"
      ]
     },
     "metadata": {},
     "output_type": "display_data"
    },
    {
     "name": "stdout",
     "output_type": "stream",
     "text": [
      "Instance 6\n",
      "[[ 5 13  4 11]\n",
      " [12  9  3  8]\n",
      " [15 14  7  2]\n",
      " [ 6  0  1 10]]\n",
      "fixed, 2.2: True, 196, 18396, time: 2.69 s\n",
      "fixed, 2.1: True, 166, 52794, time: 7.57 s\n",
      "fixed, 2.0: True, 146, 49053, time: 6.62 s\n",
      "fixed, 1.9000000000000001: True, 146, 38149, time: 5.40 s\n",
      "fixed, 1.8: True, 136, 40345, time: 5.63 s\n",
      "fixed, 1.7: True, 132, 68210, time: 9.29 s\n",
      "fixed, 1.6: True, 106, 77642, time: 10.73 s\n",
      "fixed, 1.5: True, 100, 49672, time: 6.73 s\n"
     ]
    },
    {
     "data": {
      "application/vnd.jupyter.widget-view+json": {
       "model_id": "cbb77d0967014341a6dccdb2bf592210",
       "version_major": 2,
       "version_minor": 0
      },
      "text/plain": [
       "Randomizing:   0%|          | 0/1000 [00:00<?, ?it/s]"
      ]
     },
     "metadata": {},
     "output_type": "display_data"
    },
    {
     "name": "stdout",
     "output_type": "stream",
     "text": [
      "Instance 7\n",
      "[[11  1  0  7]\n",
      " [14  4  9 12]\n",
      " [ 5 13  2  6]\n",
      " [15  3  8 10]]\n",
      "fixed, 2.2: True, 114, 3583, time: 0.56 s\n",
      "fixed, 2.1: True, 114, 3286, time: 0.48 s\n",
      "fixed, 2.0: True, 114, 2963, time: 0.44 s\n",
      "fixed, 1.9000000000000001: True, 114, 2730, time: 0.39 s\n",
      "fixed, 1.8: True, 110, 2267, time: 0.38 s\n",
      "fixed, 1.7: True, 94, 2217, time: 0.32 s\n",
      "fixed, 1.6: True, 94, 1649, time: 0.24 s\n",
      "fixed, 1.5: True, 90, 1493, time: 0.23 s\n"
     ]
    },
    {
     "data": {
      "application/vnd.jupyter.widget-view+json": {
       "model_id": "5ad725708e5a44e99dc6dbe69f4c102d",
       "version_major": 2,
       "version_minor": 0
      },
      "text/plain": [
       "Randomizing:   0%|          | 0/1000 [00:00<?, ?it/s]"
      ]
     },
     "metadata": {},
     "output_type": "display_data"
    },
    {
     "name": "stdout",
     "output_type": "stream",
     "text": [
      "Instance 8\n",
      "[[11 10  3  7]\n",
      " [ 6  1  5  0]\n",
      " [ 8 12  4 14]\n",
      " [15  9 13  2]]\n",
      "fixed, 2.2: True, 112, 2062, time: 0.36 s\n",
      "fixed, 2.1: True, 112, 2076, time: 0.31 s\n",
      "fixed, 2.0: True, 112, 2128, time: 0.32 s\n",
      "fixed, 1.9000000000000001: True, 112, 2220, time: 0.32 s\n",
      "fixed, 1.8: True, 104, 2280, time: 0.34 s\n",
      "fixed, 1.7: True, 94, 1832, time: 0.27 s\n",
      "fixed, 1.6: True, 94, 1537, time: 0.23 s\n",
      "fixed, 1.5: True, 94, 1413, time: 0.21 s\n"
     ]
    },
    {
     "data": {
      "application/vnd.jupyter.widget-view+json": {
       "model_id": "2f9caf1b58e148a8b9b9c42c949b82cd",
       "version_major": 2,
       "version_minor": 0
      },
      "text/plain": [
       "Randomizing:   0%|          | 0/1000 [00:00<?, ?it/s]"
      ]
     },
     "metadata": {},
     "output_type": "display_data"
    },
    {
     "name": "stdout",
     "output_type": "stream",
     "text": [
      "Instance 9\n",
      "[[ 3 11 14  2]\n",
      " [10  0 15 12]\n",
      " [ 7  5 13  1]\n",
      " [ 9  8  4  6]]\n",
      "fixed, 2.2: True, 188, 14712, time: 2.34 s\n",
      "fixed, 2.1: True, 188, 14241, time: 2.02 s\n",
      "fixed, 2.0: True, 176, 22340, time: 3.05 s\n",
      "fixed, 1.9000000000000001: True, 158, 32321, time: 4.52 s\n",
      "fixed, 1.8: True, 158, 24476, time: 3.32 s\n",
      "fixed, 1.7: True, 128, 23033, time: 3.13 s\n",
      "fixed, 1.6: True, 100, 9012, time: 1.50 s\n",
      "fixed, 1.5: True, 100, 3268, time: 0.48 s\n"
     ]
    },
    {
     "data": {
      "application/vnd.jupyter.widget-view+json": {
       "model_id": "f85faf754b054b11bf30d7577696e4c4",
       "version_major": 2,
       "version_minor": 0
      },
      "text/plain": [
       "Randomizing:   0%|          | 0/1000 [00:00<?, ?it/s]"
      ]
     },
     "metadata": {},
     "output_type": "display_data"
    },
    {
     "name": "stdout",
     "output_type": "stream",
     "text": [
      "Instance 10\n",
      "[[15 12  0  2]\n",
      " [ 9 11  4  5]\n",
      " [ 3 10  8 13]\n",
      " [ 6  1  7 14]]\n",
      "fixed, 2.2: True, 176, 17920, time: 2.57 s\n",
      "fixed, 2.1: True, 174, 22033, time: 3.06 s\n",
      "fixed, 2.0: True, 164, 21510, time: 3.11 s\n",
      "fixed, 1.9000000000000001: True, 164, 18099, time: 2.63 s\n",
      "fixed, 1.8: True, 138, 8424, time: 1.22 s\n",
      "fixed, 1.7: True, 136, 7671, time: 1.14 s\n",
      "fixed, 1.6: True, 136, 17803, time: 2.55 s\n",
      "fixed, 1.5: True, 110, 7631, time: 1.26 s\n"
     ]
    },
    {
     "data": {
      "application/vnd.jupyter.widget-view+json": {
       "model_id": "141444d925774316b89c9d8fefce685a",
       "version_major": 2,
       "version_minor": 0
      },
      "text/plain": [
       "Randomizing:   0%|          | 0/1000 [00:00<?, ?it/s]"
      ]
     },
     "metadata": {},
     "output_type": "display_data"
    },
    {
     "name": "stdout",
     "output_type": "stream",
     "text": [
      "Instance 11\n",
      "[[12  7 13  3]\n",
      " [ 5  0 14 15]\n",
      " [ 6 10  2 11]\n",
      " [ 4  9  1  8]]\n",
      "fixed, 2.2: True, 140, 24053, time: 3.57 s\n",
      "fixed, 2.1: True, 140, 26578, time: 3.86 s\n",
      "fixed, 2.0: True, 140, 28899, time: 4.53 s\n",
      "fixed, 1.9000000000000001: True, 140, 26599, time: 4.24 s\n",
      "fixed, 1.8: True, 144, 21806, time: 3.15 s\n",
      "fixed, 1.7: True, 126, 16739, time: 2.33 s\n",
      "fixed, 1.6: True, 120, 28638, time: 3.90 s\n",
      "fixed, 1.5: True, 120, 19918, time: 2.90 s\n"
     ]
    },
    {
     "data": {
      "application/vnd.jupyter.widget-view+json": {
       "model_id": "330b60840bc1434d95d7ea0975831166",
       "version_major": 2,
       "version_minor": 0
      },
      "text/plain": [
       "Randomizing:   0%|          | 0/1000 [00:00<?, ?it/s]"
      ]
     },
     "metadata": {},
     "output_type": "display_data"
    },
    {
     "name": "stdout",
     "output_type": "stream",
     "text": [
      "Instance 12\n",
      "[[ 4 15  0  5]\n",
      " [ 9  6 11  3]\n",
      " [ 7 14 10 13]\n",
      " [ 1  8 12  2]]\n",
      "fixed, 2.2: True, 176, 18644, time: 2.74 s\n",
      "fixed, 2.1: True, 176, 17768, time: 2.50 s\n",
      "fixed, 2.0: True, 176, 20841, time: 2.93 s\n",
      "fixed, 1.9000000000000001: True, 132, 10882, time: 1.68 s\n",
      "fixed, 1.8: True, 130, 11288, time: 1.62 s\n",
      "fixed, 1.7: True, 116, 23227, time: 3.19 s\n",
      "fixed, 1.6: True, 116, 10330, time: 1.49 s\n",
      "fixed, 1.5: True, 96, 5059, time: 0.75 s\n"
     ]
    },
    {
     "data": {
      "application/vnd.jupyter.widget-view+json": {
       "model_id": "8dfb29898b40407c8299eff23ffda059",
       "version_major": 2,
       "version_minor": 0
      },
      "text/plain": [
       "Randomizing:   0%|          | 0/1000 [00:00<?, ?it/s]"
      ]
     },
     "metadata": {},
     "output_type": "display_data"
    },
    {
     "name": "stdout",
     "output_type": "stream",
     "text": [
      "Instance 13\n",
      "[[14 12 11  7]\n",
      " [15  0  6 10]\n",
      " [ 4  9  5  8]\n",
      " [ 1 13  2  3]]\n",
      "fixed, 2.2: True, 152, 11808, time: 1.83 s\n",
      "fixed, 2.1: True, 152, 14224, time: 1.96 s\n",
      "fixed, 2.0: True, 142, 13624, time: 1.88 s\n",
      "fixed, 1.9000000000000001: True, 142, 10511, time: 1.51 s\n",
      "fixed, 1.8: True, 142, 11052, time: 1.56 s\n",
      "fixed, 1.7: True, 124, 11780, time: 1.88 s\n",
      "fixed, 1.6: True, 116, 13780, time: 1.96 s\n",
      "fixed, 1.5: True, 96, 8740, time: 1.24 s\n"
     ]
    },
    {
     "data": {
      "application/vnd.jupyter.widget-view+json": {
       "model_id": "fc756ee9b9724f5c81dec7630416c042",
       "version_major": 2,
       "version_minor": 0
      },
      "text/plain": [
       "Randomizing:   0%|          | 0/1000 [00:00<?, ?it/s]"
      ]
     },
     "metadata": {},
     "output_type": "display_data"
    },
    {
     "name": "stdout",
     "output_type": "stream",
     "text": [
      "Instance 14\n",
      "[[14  5  2  8]\n",
      " [12  3 10 11]\n",
      " [ 4 15  6  1]\n",
      " [13  9  7  0]]\n",
      "fixed, 2.2: True, 92, 12721, time: 1.91 s\n",
      "fixed, 2.1: True, 92, 12625, time: 1.79 s\n",
      "fixed, 2.0: True, 92, 11770, time: 1.71 s\n",
      "fixed, 1.9000000000000001: True, 92, 10141, time: 1.56 s\n",
      "fixed, 1.8: True, 92, 8242, time: 1.19 s\n",
      "fixed, 1.7: True, 92, 6251, time: 0.88 s\n",
      "fixed, 1.6: True, 92, 7799, time: 1.12 s\n",
      "fixed, 1.5: True, 92, 6253, time: 0.91 s\n"
     ]
    },
    {
     "data": {
      "application/vnd.jupyter.widget-view+json": {
       "model_id": "d4c8829b6e1a418a9bb94764ffd4716c",
       "version_major": 2,
       "version_minor": 0
      },
      "text/plain": [
       "Randomizing:   0%|          | 0/1000 [00:00<?, ?it/s]"
      ]
     },
     "metadata": {},
     "output_type": "display_data"
    },
    {
     "name": "stdout",
     "output_type": "stream",
     "text": [
      "Instance 15\n",
      "[[ 9  8 15  3]\n",
      " [ 7  0  4 12]\n",
      " [14 10  6  2]\n",
      " [ 1  5 13 11]]\n",
      "fixed, 2.2: True, 122, 7351, time: 1.06 s\n",
      "fixed, 2.1: True, 122, 6742, time: 0.99 s\n",
      "fixed, 2.0: True, 122, 5888, time: 0.84 s\n",
      "fixed, 1.9000000000000001: True, 126, 6596, time: 0.93 s\n",
      "fixed, 1.8: True, 126, 5987, time: 0.86 s\n",
      "fixed, 1.7: True, 108, 17593, time: 2.60 s\n",
      "fixed, 1.6: True, 98, 19630, time: 2.76 s\n",
      "fixed, 1.5: True, 92, 37996, time: 5.39 s\n"
     ]
    },
    {
     "data": {
      "application/vnd.jupyter.widget-view+json": {
       "model_id": "5521ba13a6c9428c9c53e3ae6a2c83b6",
       "version_major": 2,
       "version_minor": 0
      },
      "text/plain": [
       "Randomizing:   0%|          | 0/1000 [00:00<?, ?it/s]"
      ]
     },
     "metadata": {},
     "output_type": "display_data"
    },
    {
     "name": "stdout",
     "output_type": "stream",
     "text": [
      "Instance 16\n",
      "[[13  6 10  4]\n",
      " [ 9 11 12  5]\n",
      " [ 2  7  0 14]\n",
      " [15  3  1  8]]\n",
      "fixed, 2.2: True, 194, 25527, time: 3.71 s\n",
      "fixed, 2.1: True, 194, 23451, time: 3.34 s\n",
      "fixed, 2.0: True, 194, 21514, time: 3.23 s\n",
      "fixed, 1.9000000000000001: True, 194, 23541, time: 3.32 s\n",
      "fixed, 1.8: True, 164, 81565, time: 11.39 s\n",
      "fixed, 1.7: True, 156, 39563, time: 5.64 s\n",
      "fixed, 1.6: True, 122, 12521, time: 1.78 s\n",
      "fixed, 1.5: True, 120, 10623, time: 1.61 s\n"
     ]
    },
    {
     "data": {
      "application/vnd.jupyter.widget-view+json": {
       "model_id": "66a95d3826b34b898780be82509a862e",
       "version_major": 2,
       "version_minor": 0
      },
      "text/plain": [
       "Randomizing:   0%|          | 0/1000 [00:00<?, ?it/s]"
      ]
     },
     "metadata": {},
     "output_type": "display_data"
    },
    {
     "name": "stdout",
     "output_type": "stream",
     "text": [
      "Instance 17\n",
      "[[ 1  8 11  7]\n",
      " [ 6  9 12 10]\n",
      " [13  2 14  5]\n",
      " [15  4  3  0]]\n",
      "fixed, 2.2: True, 132, 4471, time: 0.82 s\n",
      "fixed, 2.1: True, 132, 4459, time: 0.66 s\n",
      "fixed, 2.0: True, 122, 4546, time: 0.67 s\n",
      "fixed, 1.9000000000000001: True, 122, 8019, time: 1.14 s\n",
      "fixed, 1.8: True, 118, 8639, time: 1.24 s\n",
      "fixed, 1.7: True, 114, 7923, time: 1.15 s\n",
      "fixed, 1.6: True, 104, 6120, time: 0.91 s\n",
      "fixed, 1.5: True, 92, 15285, time: 2.16 s\n"
     ]
    },
    {
     "data": {
      "application/vnd.jupyter.widget-view+json": {
       "model_id": "dfc99cd7e33f4b2499782b03d8547ec0",
       "version_major": 2,
       "version_minor": 0
      },
      "text/plain": [
       "Randomizing:   0%|          | 0/1000 [00:00<?, ?it/s]"
      ]
     },
     "metadata": {},
     "output_type": "display_data"
    },
    {
     "name": "stdout",
     "output_type": "stream",
     "text": [
      "Instance 18\n",
      "[[14 15  4 11]\n",
      " [ 9  0  8 13]\n",
      " [ 5  2  1  6]\n",
      " [12 10  7  3]]\n",
      "fixed, 2.2: True, 156, 11329, time: 1.78 s\n",
      "fixed, 2.1: True, 156, 10791, time: 1.53 s\n",
      "fixed, 2.0: True, 156, 9912, time: 1.46 s\n",
      "fixed, 1.9000000000000001: True, 158, 11783, time: 1.69 s\n",
      "fixed, 1.8: True, 124, 17509, time: 2.47 s\n",
      "fixed, 1.7: True, 130, 47201, time: 6.41 s\n",
      "fixed, 1.6: True, 104, 37012, time: 5.01 s\n",
      "fixed, 1.5: True, 100, 7409, time: 1.09 s\n"
     ]
    },
    {
     "data": {
      "application/vnd.jupyter.widget-view+json": {
       "model_id": "88c303123f0442d89869e461da9e5956",
       "version_major": 2,
       "version_minor": 0
      },
      "text/plain": [
       "Randomizing:   0%|          | 0/1000 [00:00<?, ?it/s]"
      ]
     },
     "metadata": {},
     "output_type": "display_data"
    },
    {
     "name": "stdout",
     "output_type": "stream",
     "text": [
      "Instance 19\n",
      "[[ 4 13  9 14]\n",
      " [ 2  3  6 11]\n",
      " [ 7 10  5 12]\n",
      " [15  1  8  0]]\n",
      "fixed, 2.2: True, 148, 22213, time: 3.14 s\n",
      "fixed, 2.1: True, 148, 21653, time: 3.05 s\n",
      "fixed, 2.0: True, 148, 20388, time: 2.96 s\n",
      "fixed, 1.9000000000000001: True, 134, 23165, time: 3.16 s\n",
      "fixed, 1.8: True, 124, 29673, time: 4.06 s\n",
      "fixed, 1.7: True, 106, 32778, time: 4.52 s\n",
      "fixed, 1.6: True, 106, 13619, time: 1.95 s\n",
      "fixed, 1.5: True, 102, 19499, time: 2.93 s\n"
     ]
    },
    {
     "data": {
      "application/vnd.jupyter.widget-view+json": {
       "model_id": "9790f4f945354e65b1afb430a24e0539",
       "version_major": 2,
       "version_minor": 0
      },
      "text/plain": [
       "Randomizing:   0%|          | 0/1000 [00:00<?, ?it/s]"
      ]
     },
     "metadata": {},
     "output_type": "display_data"
    },
    {
     "name": "stdout",
     "output_type": "stream",
     "text": [
      "Instance 20\n",
      "[[12  6 11  4]\n",
      " [ 8 14 15  5]\n",
      " [ 1  7  3  9]\n",
      " [10  0 13  2]]\n",
      "fixed, 2.2: True, 136, 18201, time: 2.54 s\n",
      "fixed, 2.1: True, 136, 13975, time: 1.96 s\n",
      "fixed, 2.0: True, 136, 11403, time: 1.62 s\n",
      "fixed, 1.9000000000000001: True, 136, 9980, time: 1.45 s\n",
      "fixed, 1.8: True, 126, 8970, time: 1.24 s\n",
      "fixed, 1.7: True, 126, 9681, time: 1.50 s\n",
      "fixed, 1.6: True, 118, 58996, time: 8.02 s\n",
      "fixed, 1.5: True, 106, 11469, time: 1.61 s\n"
     ]
    },
    {
     "data": {
      "application/vnd.jupyter.widget-view+json": {
       "model_id": "44c19ee3acfb43a2b0b595e55a47df9e",
       "version_major": 2,
       "version_minor": 0
      },
      "text/plain": [
       "Randomizing:   0%|          | 0/1000 [00:00<?, ?it/s]"
      ]
     },
     "metadata": {},
     "output_type": "display_data"
    },
    {
     "name": "stdout",
     "output_type": "stream",
     "text": [
      "Instance 21\n",
      "[[ 0 15  8  9]\n",
      " [ 2 13  3  7]\n",
      " [12  6  5 10]\n",
      " [ 1 14 11  4]]\n",
      "fixed, 2.2: True, 178, 30278, time: 4.27 s\n",
      "fixed, 2.1: True, 156, 29197, time: 4.13 s\n",
      "fixed, 2.0: True, 130, 21527, time: 2.95 s\n",
      "fixed, 1.9000000000000001: True, 130, 11731, time: 1.63 s\n",
      "fixed, 1.8: True, 120, 16267, time: 2.29 s\n",
      "fixed, 1.7: True, 118, 13120, time: 1.88 s\n",
      "fixed, 1.6: True, 110, 7122, time: 1.15 s\n",
      "fixed, 1.5: True, 108, 22499, time: 3.25 s\n"
     ]
    },
    {
     "data": {
      "application/vnd.jupyter.widget-view+json": {
       "model_id": "67cea5553b0f418cbdb8857215fe986a",
       "version_major": 2,
       "version_minor": 0
      },
      "text/plain": [
       "Randomizing:   0%|          | 0/1000 [00:00<?, ?it/s]"
      ]
     },
     "metadata": {},
     "output_type": "display_data"
    },
    {
     "name": "stdout",
     "output_type": "stream",
     "text": [
      "Instance 22\n",
      "[[ 4 11 14  1]\n",
      " [13  3  5  7]\n",
      " [ 0  8 15 12]\n",
      " [10  9  6  2]]\n",
      "fixed, 2.2: True, 130, 4670, time: 0.71 s\n",
      "fixed, 2.1: True, 130, 4670, time: 0.68 s\n",
      "fixed, 2.0: True, 122, 9193, time: 1.33 s\n",
      "fixed, 1.9000000000000001: True, 122, 8836, time: 1.27 s\n",
      "fixed, 1.8: True, 122, 10529, time: 1.50 s\n",
      "fixed, 1.7: True, 124, 14747, time: 2.24 s\n",
      "fixed, 1.6: True, 112, 8138, time: 1.14 s\n",
      "fixed, 1.5: True, 84, 4089, time: 0.58 s\n"
     ]
    },
    {
     "data": {
      "application/vnd.jupyter.widget-view+json": {
       "model_id": "e458cb45268d46f2bd4698f6ad1be6a8",
       "version_major": 2,
       "version_minor": 0
      },
      "text/plain": [
       "Randomizing:   0%|          | 0/1000 [00:00<?, ?it/s]"
      ]
     },
     "metadata": {},
     "output_type": "display_data"
    },
    {
     "name": "stdout",
     "output_type": "stream",
     "text": [
      "Instance 23\n",
      "[[ 5  8 11 14]\n",
      " [15  7  2  9]\n",
      " [ 0 13  4  3]\n",
      " [12  6  1 10]]\n",
      "fixed, 2.2: True, 150, 12423, time: 1.87 s\n",
      "fixed, 2.1: True, 150, 11049, time: 1.54 s\n",
      "fixed, 2.0: True, 150, 9321, time: 1.34 s\n",
      "fixed, 1.9000000000000001: True, 150, 8364, time: 1.19 s\n",
      "fixed, 1.8: True, 148, 8311, time: 1.40 s\n",
      "fixed, 1.7: True, 140, 27935, time: 3.86 s\n",
      "fixed, 1.6: True, 120, 31880, time: 4.44 s\n",
      "fixed, 1.5: True, 104, 48476, time: 6.83 s\n"
     ]
    },
    {
     "data": {
      "application/vnd.jupyter.widget-view+json": {
       "model_id": "30d11d01a060430fa2728a808446ce8f",
       "version_major": 2,
       "version_minor": 0
      },
      "text/plain": [
       "Randomizing:   0%|          | 0/1000 [00:00<?, ?it/s]"
      ]
     },
     "metadata": {},
     "output_type": "display_data"
    },
    {
     "name": "stdout",
     "output_type": "stream",
     "text": [
      "Instance 24\n",
      "[[ 5  4  0 12]\n",
      " [ 7 15 11  8]\n",
      " [ 6  1 10 13]\n",
      " [ 2 14  9  3]]\n",
      "fixed, 2.2: True, 128, 28901, time: 4.11 s\n",
      "fixed, 2.1: True, 128, 33249, time: 4.37 s\n",
      "fixed, 2.0: True, 136, 27251, time: 3.84 s\n",
      "fixed, 1.9000000000000001: True, 132, 27765, time: 3.77 s\n",
      "fixed, 1.8: True, 122, 37963, time: 5.14 s\n",
      "fixed, 1.7: True, 114, 66027, time: 8.75 s\n",
      "fixed, 1.6: True, 110, 106278, time: 14.11 s\n",
      "fixed, 1.5: True, 96, 21341, time: 3.21 s\n"
     ]
    },
    {
     "data": {
      "application/vnd.jupyter.widget-view+json": {
       "model_id": "e685dc4bf5b84019b629a70d5cad7ebe",
       "version_major": 2,
       "version_minor": 0
      },
      "text/plain": [
       "Randomizing:   0%|          | 0/1000 [00:00<?, ?it/s]"
      ]
     },
     "metadata": {},
     "output_type": "display_data"
    },
    {
     "name": "stdout",
     "output_type": "stream",
     "text": [
      "Instance 25\n",
      "[[14 11  6  2]\n",
      " [ 8  7 12  1]\n",
      " [ 0 13 15  4]\n",
      " [ 5  9  3 10]]\n",
      "fixed, 2.2: True, 138, 31247, time: 4.46 s\n",
      "fixed, 2.1: True, 116, 31854, time: 4.66 s\n",
      "fixed, 2.0: True, 116, 25428, time: 3.50 s\n",
      "fixed, 1.9000000000000001: True, 116, 22093, time: 3.02 s\n",
      "fixed, 1.8: True, 116, 18855, time: 2.67 s\n",
      "fixed, 1.7: True, 120, 29043, time: 4.15 s\n",
      "fixed, 1.6: True, 114, 20904, time: 6.69 s\n",
      "fixed, 1.5: True, 108, 6102, time: 1.96 s\n"
     ]
    },
    {
     "data": {
      "application/vnd.jupyter.widget-view+json": {
       "model_id": "44eb860f06f244f081eaf70880a985fc",
       "version_major": 2,
       "version_minor": 0
      },
      "text/plain": [
       "Randomizing:   0%|          | 0/1000 [00:00<?, ?it/s]"
      ]
     },
     "metadata": {},
     "output_type": "display_data"
    },
    {
     "name": "stdout",
     "output_type": "stream",
     "text": [
      "Instance 26\n",
      "[[ 5  4 10  3]\n",
      " [ 9 14  8  0]\n",
      " [ 6 12  1 13]\n",
      " [ 2 11 15  7]]\n",
      "fixed, 2.2: True, 114, 3063, time: 0.79 s\n",
      "fixed, 2.1: True, 114, 3066, time: 0.69 s\n",
      "fixed, 2.0: True, 114, 3121, time: 0.66 s\n",
      "fixed, 1.9000000000000001: True, 114, 4445, time: 0.97 s\n",
      "fixed, 1.8: True, 114, 4567, time: 1.06 s\n",
      "fixed, 1.7: True, 110, 6421, time: 1.43 s\n",
      "fixed, 1.6: True, 110, 8434, time: 1.88 s\n",
      "fixed, 1.5: True, 84, 11794, time: 2.37 s\n"
     ]
    },
    {
     "data": {
      "application/vnd.jupyter.widget-view+json": {
       "model_id": "1e4557b174a94d07a47e3f4df3459cef",
       "version_major": 2,
       "version_minor": 0
      },
      "text/plain": [
       "Randomizing:   0%|          | 0/1000 [00:00<?, ?it/s]"
      ]
     },
     "metadata": {},
     "output_type": "display_data"
    },
    {
     "name": "stdout",
     "output_type": "stream",
     "text": [
      "Instance 27\n",
      "[[ 4 12 10  6]\n",
      " [15  2  7 14]\n",
      " [ 3  1 11  9]\n",
      " [13  0  5  8]]\n",
      "fixed, 2.2: True, 128, 16475, time: 3.59 s\n",
      "fixed, 2.1: True, 128, 16881, time: 3.71 s\n",
      "fixed, 2.0: True, 124, 15601, time: 3.25 s\n",
      "fixed, 1.9000000000000001: True, 122, 13309, time: 2.77 s\n",
      "fixed, 1.8: True, 122, 13745, time: 2.64 s\n",
      "fixed, 1.7: True, 122, 15650, time: 2.71 s\n",
      "fixed, 1.6: True, 112, 40959, time: 7.81 s\n",
      "fixed, 1.5: True, 100, 11179, time: 2.40 s\n"
     ]
    },
    {
     "data": {
      "application/vnd.jupyter.widget-view+json": {
       "model_id": "bd0b9500c5c84c6c8be8e81e7bed4eb1",
       "version_major": 2,
       "version_minor": 0
      },
      "text/plain": [
       "Randomizing:   0%|          | 0/1000 [00:00<?, ?it/s]"
      ]
     },
     "metadata": {},
     "output_type": "display_data"
    },
    {
     "name": "stdout",
     "output_type": "stream",
     "text": [
      "Instance 28\n",
      "[[ 5 15  2 12]\n",
      " [ 9 11 10  6]\n",
      " [ 1 14  8  7]\n",
      " [13  4  3  0]]\n",
      "fixed, 2.2: True, 122, 12566, time: 2.45 s\n",
      "fixed, 2.1: True, 122, 11758, time: 2.42 s\n",
      "fixed, 2.0: True, 106, 15028, time: 3.27 s\n",
      "fixed, 1.9000000000000001: True, 108, 13740, time: 3.60 s\n",
      "fixed, 1.8: True, 108, 10159, time: 2.44 s\n",
      "fixed, 1.7: True, 98, 15468, time: 3.91 s\n",
      "fixed, 1.6: True, 98, 4802, time: 1.17 s\n",
      "fixed, 1.5: True, 64, 2889, time: 0.71 s\n"
     ]
    },
    {
     "data": {
      "application/vnd.jupyter.widget-view+json": {
       "model_id": "a17b894f980c4c97b3460f327c7c4133",
       "version_major": 2,
       "version_minor": 0
      },
      "text/plain": [
       "Randomizing:   0%|          | 0/1000 [00:00<?, ?it/s]"
      ]
     },
     "metadata": {},
     "output_type": "display_data"
    },
    {
     "name": "stdout",
     "output_type": "stream",
     "text": [
      "Instance 29\n",
      "[[10  6  0 14]\n",
      " [ 8  9  1  2]\n",
      " [13 15 12 11]\n",
      " [ 7  4  5  3]]\n",
      "fixed, 2.2: True, 164, 42929, time: 10.55 s\n",
      "fixed, 2.1: True, 120, 44173, time: 10.39 s\n",
      "fixed, 2.0: True, 118, 25742, time: 4.62 s\n",
      "fixed, 1.9000000000000001: True, 118, 13848, time: 3.84 s\n",
      "fixed, 1.8: True, 118, 7795, time: 2.30 s\n",
      "fixed, 1.7: True, 118, 21418, time: 5.33 s\n",
      "fixed, 1.6: True, 106, 45388, time: 10.95 s\n",
      "fixed, 1.5: True, 100, 18270, time: 4.37 s\n"
     ]
    },
    {
     "data": {
      "application/vnd.jupyter.widget-view+json": {
       "model_id": "bcc27a6d88cb48d0992c5f13a469b896",
       "version_major": 2,
       "version_minor": 0
      },
      "text/plain": [
       "Randomizing:   0%|          | 0/10000 [00:00<?, ?it/s]"
      ]
     },
     "metadata": {},
     "output_type": "display_data"
    },
    {
     "name": "stdout",
     "output_type": "stream",
     "text": [
      "Instance 0\n",
      "[[ 3  1  0  2]\n",
      " [14  7  4  5]\n",
      " [10  8 13 15]\n",
      " [ 9 12 11  6]]\n",
      "fixed, 2.2: True, 120, 5590, time: 1.26 s\n",
      "fixed, 2.1: True, 120, 5587, time: 1.23 s\n",
      "fixed, 2.0: True, 120, 5468, time: 1.38 s\n",
      "fixed, 1.9000000000000001: True, 120, 5305, time: 1.30 s\n",
      "fixed, 1.8: True, 122, 14801, time: 3.84 s\n",
      "fixed, 1.7: True, 122, 8967, time: 2.80 s\n",
      "fixed, 1.6: True, 96, 24841, time: 5.95 s\n",
      "fixed, 1.5: True, 78, 4825, time: 1.20 s\n"
     ]
    },
    {
     "data": {
      "application/vnd.jupyter.widget-view+json": {
       "model_id": "e32e4b9329bd4565a961994f2f2cd3f1",
       "version_major": 2,
       "version_minor": 0
      },
      "text/plain": [
       "Randomizing:   0%|          | 0/10000 [00:00<?, ?it/s]"
      ]
     },
     "metadata": {},
     "output_type": "display_data"
    },
    {
     "name": "stdout",
     "output_type": "stream",
     "text": [
      "Instance 1\n",
      "[[ 8 15  0 10]\n",
      " [14  7  3  4]\n",
      " [13 12  5  6]\n",
      " [ 1  9  2 11]]\n",
      "fixed, 2.2: True, 124, 42472, time: 9.82 s\n",
      "fixed, 2.1: True, 124, 35082, time: 7.37 s\n",
      "fixed, 2.0: True, 124, 27456, time: 5.97 s\n",
      "fixed, 1.9000000000000001: True, 124, 23839, time: 4.85 s\n",
      "fixed, 1.8: True, 124, 21497, time: 4.08 s\n",
      "fixed, 1.7: True, 116, 37366, time: 7.89 s\n",
      "fixed, 1.6: True, 114, 37418, time: 7.64 s\n",
      "fixed, 1.5: True, 114, 29347, time: 6.32 s\n"
     ]
    },
    {
     "data": {
      "application/vnd.jupyter.widget-view+json": {
       "model_id": "7607eab9f3344b93b73520984a72884f",
       "version_major": 2,
       "version_minor": 0
      },
      "text/plain": [
       "Randomizing:   0%|          | 0/10000 [00:00<?, ?it/s]"
      ]
     },
     "metadata": {},
     "output_type": "display_data"
    },
    {
     "name": "stdout",
     "output_type": "stream",
     "text": [
      "Instance 2\n",
      "[[ 5  1 11  9]\n",
      " [ 8 15  2  7]\n",
      " [ 3 10  0  4]\n",
      " [14 13 12  6]]\n",
      "fixed, 2.2: True, 122, 6022, time: 1.34 s\n",
      "fixed, 2.1: True, 122, 5794, time: 1.29 s\n",
      "fixed, 2.0: True, 122, 5508, time: 1.14 s\n",
      "fixed, 1.9000000000000001: True, 122, 5333, time: 1.15 s\n",
      "fixed, 1.8: True, 122, 4950, time: 1.03 s\n",
      "fixed, 1.7: True, 116, 4231, time: 1.06 s\n",
      "fixed, 1.6: True, 114, 5921, time: 1.28 s\n",
      "fixed, 1.5: True, 102, 6800, time: 1.50 s\n"
     ]
    },
    {
     "data": {
      "application/vnd.jupyter.widget-view+json": {
       "model_id": "2bd15e037cf84027aef385ad79a9a98d",
       "version_major": 2,
       "version_minor": 0
      },
      "text/plain": [
       "Randomizing:   0%|          | 0/10000 [00:00<?, ?it/s]"
      ]
     },
     "metadata": {},
     "output_type": "display_data"
    },
    {
     "name": "stdout",
     "output_type": "stream",
     "text": [
      "Instance 3\n",
      "[[ 4 14  1  6]\n",
      " [15 10  5  0]\n",
      " [ 9  8 12 11]\n",
      " [13  7  3  2]]\n",
      "fixed, 2.2: True, 160, 12387, time: 2.82 s\n",
      "fixed, 2.1: True, 160, 11582, time: 2.41 s\n",
      "fixed, 2.0: True, 158, 11040, time: 2.30 s\n",
      "fixed, 1.9000000000000001: True, 158, 10410, time: 2.23 s\n",
      "fixed, 1.8: True, 146, 17578, time: 3.81 s\n",
      "fixed, 1.7: True, 142, 19269, time: 4.21 s\n",
      "fixed, 1.6: True, 136, 48840, time: 10.02 s\n",
      "fixed, 1.5: True, 106, 40251, time: 8.61 s\n"
     ]
    },
    {
     "data": {
      "application/vnd.jupyter.widget-view+json": {
       "model_id": "341bfdaaaefc4452a09e327f5cda7489",
       "version_major": 2,
       "version_minor": 0
      },
      "text/plain": [
       "Randomizing:   0%|          | 0/10000 [00:00<?, ?it/s]"
      ]
     },
     "metadata": {},
     "output_type": "display_data"
    },
    {
     "name": "stdout",
     "output_type": "stream",
     "text": [
      "Instance 4\n",
      "[[11  6  9  2]\n",
      " [14  4 12 10]\n",
      " [ 7 15  5 13]\n",
      " [ 1  3  8  0]]\n",
      "fixed, 2.2: True, 134, 9153, time: 2.06 s\n",
      "fixed, 2.1: True, 134, 7846, time: 1.73 s\n",
      "fixed, 2.0: True, 134, 7226, time: 1.65 s\n",
      "fixed, 1.9000000000000001: True, 134, 7671, time: 1.81 s\n",
      "fixed, 1.8: True, 138, 12948, time: 2.84 s\n",
      "fixed, 1.7: True, 138, 20270, time: 4.27 s\n",
      "fixed, 1.6: True, 128, 61868, time: 12.80 s\n",
      "fixed, 1.5: True, 118, 27992, time: 5.95 s\n"
     ]
    },
    {
     "data": {
      "application/vnd.jupyter.widget-view+json": {
       "model_id": "aa45d8cad89f47ffbd7714d631f3c352",
       "version_major": 2,
       "version_minor": 0
      },
      "text/plain": [
       "Randomizing:   0%|          | 0/10000 [00:00<?, ?it/s]"
      ]
     },
     "metadata": {},
     "output_type": "display_data"
    },
    {
     "name": "stdout",
     "output_type": "stream",
     "text": [
      "Instance 5\n",
      "[[ 7 11  5  9]\n",
      " [10 14 13 15]\n",
      " [ 0  4  1  3]\n",
      " [ 6 12  8  2]]\n",
      "fixed, 2.2: True, 130, 2451, time: 0.57 s\n",
      "fixed, 2.1: True, 130, 2390, time: 0.57 s\n",
      "fixed, 2.0: True, 130, 2045, time: 0.51 s\n",
      "fixed, 1.9000000000000001: True, 130, 2012, time: 0.42 s\n",
      "fixed, 1.8: True, 130, 1975, time: 0.41 s\n",
      "fixed, 1.7: True, 130, 1851, time: 0.43 s\n",
      "fixed, 1.6: True, 130, 2360, time: 0.53 s\n",
      "fixed, 1.5: True, 120, 3474, time: 0.80 s\n"
     ]
    },
    {
     "data": {
      "application/vnd.jupyter.widget-view+json": {
       "model_id": "12300ac74366434c9face13b481a9b6b",
       "version_major": 2,
       "version_minor": 0
      },
      "text/plain": [
       "Randomizing:   0%|          | 0/10000 [00:00<?, ?it/s]"
      ]
     },
     "metadata": {},
     "output_type": "display_data"
    },
    {
     "name": "stdout",
     "output_type": "stream",
     "text": [
      "Instance 6\n",
      "[[14  8  7  2]\n",
      " [15  3 10  4]\n",
      " [ 0 11 12  1]\n",
      " [ 5 13  9  6]]\n",
      "fixed, 2.2: True, 170, 7933, time: 1.82 s\n",
      "fixed, 2.1: True, 148, 7745, time: 1.63 s\n",
      "fixed, 2.0: True, 148, 9498, time: 2.13 s\n",
      "fixed, 1.9000000000000001: True, 148, 9033, time: 1.97 s\n",
      "fixed, 1.8: True, 142, 7448, time: 1.54 s\n",
      "fixed, 1.7: True, 124, 11932, time: 2.31 s\n",
      "fixed, 1.6: True, 112, 25733, time: 4.61 s\n",
      "fixed, 1.5: True, 90, 19583, time: 3.25 s\n"
     ]
    },
    {
     "data": {
      "application/vnd.jupyter.widget-view+json": {
       "model_id": "9b99fade0cde4b4e8d5b275ab73dd3dc",
       "version_major": 2,
       "version_minor": 0
      },
      "text/plain": [
       "Randomizing:   0%|          | 0/10000 [00:00<?, ?it/s]"
      ]
     },
     "metadata": {},
     "output_type": "display_data"
    },
    {
     "name": "stdout",
     "output_type": "stream",
     "text": [
      "Instance 7\n",
      "[[15  5 13  9]\n",
      " [ 6  7  8 14]\n",
      " [ 4  1  0  3]\n",
      " [12  2 11 10]]\n",
      "fixed, 2.2: True, 112, 5433, time: 1.09 s\n",
      "fixed, 2.1: True, 112, 5149, time: 0.93 s\n",
      "fixed, 2.0: True, 112, 4774, time: 0.87 s\n",
      "fixed, 1.9000000000000001: True, 112, 4606, time: 0.84 s\n",
      "fixed, 1.8: True, 112, 4749, time: 0.87 s\n",
      "fixed, 1.7: True, 108, 7825, time: 1.37 s\n",
      "fixed, 1.6: True, 104, 3745, time: 0.77 s\n",
      "fixed, 1.5: True, 104, 2937, time: 0.52 s\n"
     ]
    },
    {
     "data": {
      "application/vnd.jupyter.widget-view+json": {
       "model_id": "3c891abb50ba4aed9c1a22098d3b75e3",
       "version_major": 2,
       "version_minor": 0
      },
      "text/plain": [
       "Randomizing:   0%|          | 0/10000 [00:00<?, ?it/s]"
      ]
     },
     "metadata": {},
     "output_type": "display_data"
    },
    {
     "name": "stdout",
     "output_type": "stream",
     "text": [
      "Instance 8\n",
      "[[11 10  9  8]\n",
      " [ 4 14 13 12]\n",
      " [ 6  2  0  3]\n",
      " [15  7  1  5]]\n",
      "fixed, 2.2: True, 194, 7747, time: 1.38 s\n",
      "fixed, 2.1: True, 194, 7750, time: 1.38 s\n",
      "fixed, 2.0: True, 166, 9614, time: 1.62 s\n",
      "fixed, 1.9000000000000001: True, 166, 9822, time: 1.75 s\n",
      "fixed, 1.8: True, 130, 7261, time: 1.30 s\n",
      "fixed, 1.7: True, 104, 1659, time: 0.28 s\n",
      "fixed, 1.6: True, 104, 1561, time: 0.29 s\n",
      "fixed, 1.5: True, 104, 1609, time: 0.30 s\n"
     ]
    },
    {
     "data": {
      "application/vnd.jupyter.widget-view+json": {
       "model_id": "2eb2962565224a2e9e1e8144974f957e",
       "version_major": 2,
       "version_minor": 0
      },
      "text/plain": [
       "Randomizing:   0%|          | 0/10000 [00:00<?, ?it/s]"
      ]
     },
     "metadata": {},
     "output_type": "display_data"
    },
    {
     "name": "stdout",
     "output_type": "stream",
     "text": [
      "Instance 9\n",
      "[[ 0  5  3 14]\n",
      " [ 1  7  4  6]\n",
      " [ 9  2  8 12]\n",
      " [13 10 15 11]]\n",
      "fixed, 2.2: True, 74, 20906, time: 3.96 s\n",
      "fixed, 2.1: True, 74, 25379, time: 4.31 s\n",
      "fixed, 2.0: True, 74, 30541, time: 5.05 s\n",
      "fixed, 1.9000000000000001: True, 74, 43512, time: 7.46 s\n",
      "fixed, 1.8: True, 62, 43685, time: 7.69 s\n",
      "fixed, 1.7: True, 58, 42125, time: 7.19 s\n",
      "fixed, 1.6: True, 58, 31716, time: 5.59 s\n",
      "fixed, 1.5: True, 62, 52640, time: 9.20 s\n"
     ]
    },
    {
     "data": {
      "application/vnd.jupyter.widget-view+json": {
       "model_id": "c827cec014354d15a02bb7be56b4902d",
       "version_major": 2,
       "version_minor": 0
      },
      "text/plain": [
       "Randomizing:   0%|          | 0/10000 [00:00<?, ?it/s]"
      ]
     },
     "metadata": {},
     "output_type": "display_data"
    },
    {
     "name": "stdout",
     "output_type": "stream",
     "text": [
      "Instance 10\n",
      "[[15  8  0  5]\n",
      " [12 11  7  4]\n",
      " [ 3 14 10  6]\n",
      " [ 9  1 13  2]]\n",
      "fixed, 2.2: True, 148, 6129, time: 1.18 s\n",
      "fixed, 2.1: True, 148, 5778, time: 1.01 s\n",
      "fixed, 2.0: True, 148, 5446, time: 0.93 s\n",
      "fixed, 1.9000000000000001: True, 134, 4814, time: 0.86 s\n",
      "fixed, 1.8: True, 134, 4467, time: 0.81 s\n",
      "fixed, 1.7: True, 134, 21158, time: 3.74 s\n",
      "fixed, 1.6: True, 126, 21900, time: 4.04 s\n",
      "fixed, 1.5: True, 112, 26927, time: 4.84 s\n"
     ]
    },
    {
     "data": {
      "application/vnd.jupyter.widget-view+json": {
       "model_id": "c464797ee5f04ba2bceef2969415e560",
       "version_major": 2,
       "version_minor": 0
      },
      "text/plain": [
       "Randomizing:   0%|          | 0/10000 [00:00<?, ?it/s]"
      ]
     },
     "metadata": {},
     "output_type": "display_data"
    },
    {
     "name": "stdout",
     "output_type": "stream",
     "text": [
      "Instance 11\n",
      "[[ 2  6  1  3]\n",
      " [12 14  4  8]\n",
      " [11  5  9 10]\n",
      " [13 15  7  0]]\n",
      "fixed, 2.2: True, 112, 10210, time: 2.07 s\n",
      "fixed, 2.1: True, 112, 9584, time: 1.79 s\n",
      "fixed, 2.0: True, 112, 8812, time: 1.64 s\n",
      "fixed, 1.9000000000000001: True, 116, 9333, time: 1.83 s\n",
      "fixed, 1.8: True, 116, 10467, time: 1.93 s\n",
      "fixed, 1.7: True, 112, 14563, time: 2.79 s\n",
      "fixed, 1.6: True, 102, 43692, time: 7.72 s\n",
      "fixed, 1.5: True, 76, 40959, time: 6.85 s\n"
     ]
    },
    {
     "data": {
      "application/vnd.jupyter.widget-view+json": {
       "model_id": "84c1d4f0a11c4c998a675670a5c0fa3c",
       "version_major": 2,
       "version_minor": 0
      },
      "text/plain": [
       "Randomizing:   0%|          | 0/10000 [00:00<?, ?it/s]"
      ]
     },
     "metadata": {},
     "output_type": "display_data"
    },
    {
     "name": "stdout",
     "output_type": "stream",
     "text": [
      "Instance 12\n",
      "[[ 5  7 10  3]\n",
      " [ 8 12 14  4]\n",
      " [13  1  0  9]\n",
      " [ 2 15 11  6]]\n",
      "fixed, 2.2: True, 126, 35161, time: 6.19 s\n",
      "fixed, 2.1: True, 126, 33707, time: 5.81 s\n",
      "fixed, 2.0: True, 126, 49248, time: 8.33 s\n",
      "fixed, 1.9000000000000001: True, 126, 47939, time: 7.54 s\n",
      "fixed, 1.8: True, 116, 37663, time: 6.18 s\n",
      "fixed, 1.7: True, 108, 36753, time: 6.24 s\n",
      "fixed, 1.6: True, 104, 12079, time: 2.03 s\n",
      "fixed, 1.5: True, 100, 16590, time: 3.17 s\n"
     ]
    },
    {
     "data": {
      "application/vnd.jupyter.widget-view+json": {
       "model_id": "2522e89b3f2d491785bdd34f66872a41",
       "version_major": 2,
       "version_minor": 0
      },
      "text/plain": [
       "Randomizing:   0%|          | 0/10000 [00:00<?, ?it/s]"
      ]
     },
     "metadata": {},
     "output_type": "display_data"
    },
    {
     "name": "stdout",
     "output_type": "stream",
     "text": [
      "Instance 13\n",
      "[[ 9 11  7  2]\n",
      " [ 8 10 12 14]\n",
      " [ 1 15  0  6]\n",
      " [ 3  5 13  4]]\n",
      "fixed, 2.2: True, 104, 1866, time: 0.43 s\n",
      "fixed, 2.1: True, 104, 1866, time: 0.40 s\n",
      "fixed, 2.0: True, 104, 1862, time: 0.40 s\n",
      "fixed, 1.9000000000000001: True, 104, 2427, time: 0.50 s\n",
      "fixed, 1.8: True, 96, 3351, time: 0.63 s\n",
      "fixed, 1.7: True, 96, 2327, time: 0.46 s\n",
      "fixed, 1.6: True, 84, 3883, time: 0.73 s\n",
      "fixed, 1.5: True, 80, 2684, time: 0.50 s\n"
     ]
    },
    {
     "data": {
      "application/vnd.jupyter.widget-view+json": {
       "model_id": "dc41fe34225149cc93e4fa27319eda30",
       "version_major": 2,
       "version_minor": 0
      },
      "text/plain": [
       "Randomizing:   0%|          | 0/10000 [00:00<?, ?it/s]"
      ]
     },
     "metadata": {},
     "output_type": "display_data"
    },
    {
     "name": "stdout",
     "output_type": "stream",
     "text": [
      "Instance 14\n",
      "[[12 14  1 10]\n",
      " [13  8  5  2]\n",
      " [ 7 11  0  9]\n",
      " [ 6 15  3  4]]\n",
      "fixed, 2.2: True, 144, 11504, time: 2.33 s\n",
      "fixed, 2.1: True, 144, 21946, time: 4.12 s\n",
      "fixed, 2.0: True, 144, 23921, time: 4.03 s\n",
      "fixed, 1.9000000000000001: True, 126, 20280, time: 3.34 s\n",
      "fixed, 1.8: True, 122, 19059, time: 3.37 s\n",
      "fixed, 1.7: True, 122, 17917, time: 2.95 s\n",
      "fixed, 1.6: True, 110, 26848, time: 5.22 s\n",
      "fixed, 1.5: True, 102, 23952, time: 5.05 s\n"
     ]
    },
    {
     "data": {
      "application/vnd.jupyter.widget-view+json": {
       "model_id": "bf1b851a9d7a4cca85f059110ec93102",
       "version_major": 2,
       "version_minor": 0
      },
      "text/plain": [
       "Randomizing:   0%|          | 0/10000 [00:00<?, ?it/s]"
      ]
     },
     "metadata": {},
     "output_type": "display_data"
    },
    {
     "name": "stdout",
     "output_type": "stream",
     "text": [
      "Instance 15\n",
      "[[ 1 13  6  4]\n",
      " [ 5  8  7 15]\n",
      " [ 0  3 12 11]\n",
      " [14  2 10  9]]\n",
      "fixed, 2.2: True, 144, 13056, time: 2.72 s\n",
      "fixed, 2.1: True, 144, 17656, time: 3.76 s\n",
      "fixed, 2.0: True, 128, 30750, time: 6.28 s\n",
      "fixed, 1.9000000000000001: True, 130, 33212, time: 5.70 s\n",
      "fixed, 1.8: True, 108, 3394, time: 0.62 s\n",
      "fixed, 1.7: True, 100, 6433, time: 1.14 s\n",
      "fixed, 1.6: True, 98, 9352, time: 1.47 s\n",
      "fixed, 1.5: True, 68, 1470, time: 0.25 s\n"
     ]
    },
    {
     "data": {
      "application/vnd.jupyter.widget-view+json": {
       "model_id": "348978c3e4b84809897c1e87b831ea4b",
       "version_major": 2,
       "version_minor": 0
      },
      "text/plain": [
       "Randomizing:   0%|          | 0/10000 [00:00<?, ?it/s]"
      ]
     },
     "metadata": {},
     "output_type": "display_data"
    },
    {
     "name": "stdout",
     "output_type": "stream",
     "text": [
      "Instance 16\n",
      "[[14  6 10 13]\n",
      " [ 5  0  9 11]\n",
      " [15  2  4 12]\n",
      " [ 1  7  8  3]]\n",
      "fixed, 2.2: True, 142, 18783, time: 3.79 s\n",
      "fixed, 2.1: True, 142, 19442, time: 3.64 s\n",
      "fixed, 2.0: True, 142, 23315, time: 4.16 s\n",
      "fixed, 1.9000000000000001: True, 142, 29304, time: 5.00 s\n",
      "fixed, 1.8: True, 138, 29045, time: 4.79 s\n",
      "fixed, 1.7: True, 130, 9164, time: 1.51 s\n",
      "fixed, 1.6: True, 106, 9314, time: 1.61 s\n",
      "fixed, 1.5: True, 108, 8555, time: 1.60 s\n"
     ]
    },
    {
     "data": {
      "application/vnd.jupyter.widget-view+json": {
       "model_id": "8e5ec56c3e2d48fd87ab0eefc2d2f7de",
       "version_major": 2,
       "version_minor": 0
      },
      "text/plain": [
       "Randomizing:   0%|          | 0/10000 [00:00<?, ?it/s]"
      ]
     },
     "metadata": {},
     "output_type": "display_data"
    },
    {
     "name": "stdout",
     "output_type": "stream",
     "text": [
      "Instance 17\n",
      "[[14 12  8  4]\n",
      " [13  0 10  1]\n",
      " [ 2  7  6 11]\n",
      " [15  9  5  3]]\n",
      "fixed, 2.2: True, 174, 7829, time: 1.34 s\n",
      "fixed, 2.1: True, 156, 8596, time: 1.57 s\n",
      "fixed, 2.0: True, 174, 38710, time: 6.09 s\n",
      "fixed, 1.9000000000000001: True, 138, 32652, time: 5.39 s\n",
      "fixed, 1.8: True, 138, 16849, time: 2.73 s\n",
      "fixed, 1.7: True, 138, 9693, time: 1.53 s\n",
      "fixed, 1.6: True, 118, 4260, time: 0.85 s\n",
      "fixed, 1.5: True, 104, 3748, time: 0.67 s\n"
     ]
    },
    {
     "data": {
      "application/vnd.jupyter.widget-view+json": {
       "model_id": "2bd427d0ed7a45d7958939323f5b529f",
       "version_major": 2,
       "version_minor": 0
      },
      "text/plain": [
       "Randomizing:   0%|          | 0/10000 [00:00<?, ?it/s]"
      ]
     },
     "metadata": {},
     "output_type": "display_data"
    },
    {
     "name": "stdout",
     "output_type": "stream",
     "text": [
      "Instance 18\n",
      "[[11  2  8  1]\n",
      " [14 10  6 12]\n",
      " [15  3  0  4]\n",
      " [13  7  9  5]]\n",
      "fixed, 2.2: True, 176, 5153, time: 1.00 s\n",
      "fixed, 2.1: True, 176, 5084, time: 1.03 s\n",
      "fixed, 2.0: True, 162, 4853, time: 0.87 s\n",
      "fixed, 1.9000000000000001: True, 162, 4624, time: 0.81 s\n",
      "fixed, 1.8: True, 140, 13740, time: 2.35 s\n",
      "fixed, 1.7: True, 140, 20038, time: 3.47 s\n",
      "fixed, 1.6: True, 120, 1870, time: 0.37 s\n",
      "fixed, 1.5: True, 112, 15582, time: 2.69 s\n"
     ]
    },
    {
     "data": {
      "application/vnd.jupyter.widget-view+json": {
       "model_id": "4e55a978af15463891ed759b4c34ae14",
       "version_major": 2,
       "version_minor": 0
      },
      "text/plain": [
       "Randomizing:   0%|          | 0/10000 [00:00<?, ?it/s]"
      ]
     },
     "metadata": {},
     "output_type": "display_data"
    },
    {
     "name": "stdout",
     "output_type": "stream",
     "text": [
      "Instance 19\n",
      "[[10  4  2 11]\n",
      " [15  1  5  8]\n",
      " [12 13  0  6]\n",
      " [ 9 14  3  7]]\n",
      "fixed, 2.2: True, 102, 3295, time: 0.76 s\n",
      "fixed, 2.1: True, 102, 3230, time: 0.60 s\n",
      "fixed, 2.0: True, 86, 3166, time: 0.58 s\n",
      "fixed, 1.9000000000000001: True, 76, 1458, time: 0.27 s\n",
      "fixed, 1.8: True, 76, 1331, time: 0.24 s\n",
      "fixed, 1.7: True, 76, 1127, time: 0.22 s\n",
      "fixed, 1.6: True, 76, 1373, time: 0.25 s\n",
      "fixed, 1.5: True, 72, 2575, time: 0.47 s\n"
     ]
    },
    {
     "data": {
      "application/vnd.jupyter.widget-view+json": {
       "model_id": "06264802f9cc49bb8d8e95eb14d79f83",
       "version_major": 2,
       "version_minor": 0
      },
      "text/plain": [
       "Randomizing:   0%|          | 0/10000 [00:00<?, ?it/s]"
      ]
     },
     "metadata": {},
     "output_type": "display_data"
    },
    {
     "name": "stdout",
     "output_type": "stream",
     "text": [
      "Instance 20\n",
      "[[11  9  4 13]\n",
      " [ 1  0  6 10]\n",
      " [ 2 14  7 15]\n",
      " [12  3  5  8]]\n",
      "fixed, 2.2: True, 196, 25450, time: 4.36 s\n",
      "fixed, 2.1: True, 196, 33834, time: 5.72 s\n",
      "fixed, 2.0: True, 176, 38937, time: 6.34 s\n",
      "fixed, 1.9000000000000001: True, 146, 23861, time: 3.67 s\n",
      "fixed, 1.8: True, 146, 13123, time: 2.13 s\n",
      "fixed, 1.7: True, 134, 5748, time: 0.93 s\n",
      "fixed, 1.6: True, 138, 18939, time: 2.90 s\n",
      "fixed, 1.5: True, 112, 6078, time: 0.99 s\n"
     ]
    },
    {
     "data": {
      "application/vnd.jupyter.widget-view+json": {
       "model_id": "a2279b07c2cd4a3e98e54b0df6973688",
       "version_major": 2,
       "version_minor": 0
      },
      "text/plain": [
       "Randomizing:   0%|          | 0/10000 [00:00<?, ?it/s]"
      ]
     },
     "metadata": {},
     "output_type": "display_data"
    },
    {
     "name": "stdout",
     "output_type": "stream",
     "text": [
      "Instance 21\n",
      "[[12 15 11  6]\n",
      " [ 2  0  3 14]\n",
      " [ 8  9  5 10]\n",
      " [ 4  7  1 13]]\n",
      "fixed, 2.2: True, 150, 19345, time: 3.17 s\n",
      "fixed, 2.1: True, 144, 29762, time: 4.55 s\n",
      "fixed, 2.0: True, 140, 36584, time: 5.33 s\n",
      "fixed, 1.9000000000000001: True, 140, 34498, time: 4.77 s\n",
      "fixed, 1.8: True, 132, 39824, time: 5.62 s\n",
      "fixed, 1.7: True, 122, 33307, time: 4.49 s\n",
      "fixed, 1.6: True, 122, 51889, time: 7.25 s\n",
      "fixed, 1.5: True, 112, 54067, time: 7.67 s\n"
     ]
    },
    {
     "data": {
      "application/vnd.jupyter.widget-view+json": {
       "model_id": "ab1e0020992341e9bd8f90e929f8eb0f",
       "version_major": 2,
       "version_minor": 0
      },
      "text/plain": [
       "Randomizing:   0%|          | 0/10000 [00:00<?, ?it/s]"
      ]
     },
     "metadata": {},
     "output_type": "display_data"
    },
    {
     "name": "stdout",
     "output_type": "stream",
     "text": [
      "Instance 22\n",
      "[[ 8  1 14 13]\n",
      " [ 7  0  5 10]\n",
      " [ 6  4 11 15]\n",
      " [ 3  9 12  2]]\n",
      "fixed, 2.2: True, 134, 3383, time: 0.58 s\n",
      "fixed, 2.1: True, 134, 3387, time: 0.48 s\n",
      "fixed, 2.0: True, 134, 4831, time: 0.74 s\n",
      "fixed, 1.9000000000000001: True, 134, 5123, time: 0.75 s\n",
      "fixed, 1.8: True, 134, 5182, time: 0.79 s\n",
      "fixed, 1.7: True, 130, 5321, time: 0.79 s\n",
      "fixed, 1.6: True, 130, 6271, time: 0.91 s\n",
      "fixed, 1.5: True, 122, 11356, time: 1.65 s\n"
     ]
    },
    {
     "data": {
      "application/vnd.jupyter.widget-view+json": {
       "model_id": "0f2b9ce22dd54b26b0f7e00a811e4b2a",
       "version_major": 2,
       "version_minor": 0
      },
      "text/plain": [
       "Randomizing:   0%|          | 0/10000 [00:00<?, ?it/s]"
      ]
     },
     "metadata": {},
     "output_type": "display_data"
    },
    {
     "name": "stdout",
     "output_type": "stream",
     "text": [
      "Instance 23\n",
      "[[ 5  8  2  7]\n",
      " [ 1  0 10 13]\n",
      " [15  3  9 11]\n",
      " [ 6 12  4 14]]\n",
      "fixed, 2.2: True, 154, 31099, time: 4.60 s\n",
      "fixed, 2.1: True, 154, 36856, time: 4.91 s\n",
      "fixed, 2.0: True, 162, 28993, time: 4.02 s\n",
      "fixed, 1.9000000000000001: True, 158, 26085, time: 3.55 s\n",
      "fixed, 1.8: True, 150, 35110, time: 5.21 s\n",
      "fixed, 1.7: True, 110, 27601, time: 3.98 s\n",
      "fixed, 1.6: True, 94, 17396, time: 2.53 s\n",
      "fixed, 1.5: True, 104, 35525, time: 5.05 s\n"
     ]
    },
    {
     "data": {
      "application/vnd.jupyter.widget-view+json": {
       "model_id": "032ef59fcd234411900ebcabcfce77c7",
       "version_major": 2,
       "version_minor": 0
      },
      "text/plain": [
       "Randomizing:   0%|          | 0/10000 [00:00<?, ?it/s]"
      ]
     },
     "metadata": {},
     "output_type": "display_data"
    },
    {
     "name": "stdout",
     "output_type": "stream",
     "text": [
      "Instance 24\n",
      "[[ 2  7 12  9]\n",
      " [ 1  0  3 13]\n",
      " [ 6 15 11  5]\n",
      " [10 14  4  8]]\n",
      "fixed, 2.2: True, 132, 7622, time: 1.12 s\n",
      "fixed, 2.1: True, 132, 7309, time: 1.05 s\n",
      "fixed, 2.0: True, 132, 6551, time: 1.08 s\n",
      "fixed, 1.9000000000000001: True, 132, 6767, time: 0.96 s\n",
      "fixed, 1.8: True, 128, 22735, time: 3.21 s\n",
      "fixed, 1.7: True, 116, 25946, time: 3.70 s\n",
      "fixed, 1.6: True, 98, 28352, time: 4.06 s\n",
      "fixed, 1.5: True, 82, 69497, time: 9.79 s\n"
     ]
    },
    {
     "data": {
      "application/vnd.jupyter.widget-view+json": {
       "model_id": "916018882e35431783cac1646fa7456a",
       "version_major": 2,
       "version_minor": 0
      },
      "text/plain": [
       "Randomizing:   0%|          | 0/10000 [00:00<?, ?it/s]"
      ]
     },
     "metadata": {},
     "output_type": "display_data"
    },
    {
     "name": "stdout",
     "output_type": "stream",
     "text": [
      "Instance 25\n",
      "[[14 12  9  5]\n",
      " [ 1 15  6  2]\n",
      " [13 10  3  4]\n",
      " [ 7  0  8 11]]\n",
      "fixed, 2.2: True, 160, 24598, time: 3.71 s\n",
      "fixed, 2.1: True, 160, 23680, time: 3.34 s\n",
      "fixed, 2.0: True, 160, 22464, time: 3.29 s\n",
      "fixed, 1.9000000000000001: True, 160, 25400, time: 3.54 s\n",
      "fixed, 1.8: True, 136, 18605, time: 2.59 s\n",
      "fixed, 1.7: True, 130, 35376, time: 5.11 s\n",
      "fixed, 1.6: True, 104, 20541, time: 2.86 s\n",
      "fixed, 1.5: True, 96, 6185, time: 0.86 s\n"
     ]
    },
    {
     "data": {
      "application/vnd.jupyter.widget-view+json": {
       "model_id": "29ec2758ee294f5ebec2e27d0aef139b",
       "version_major": 2,
       "version_minor": 0
      },
      "text/plain": [
       "Randomizing:   0%|          | 0/10000 [00:00<?, ?it/s]"
      ]
     },
     "metadata": {},
     "output_type": "display_data"
    },
    {
     "name": "stdout",
     "output_type": "stream",
     "text": [
      "Instance 26\n",
      "[[14  4  2  5]\n",
      " [ 1  8  3 13]\n",
      " [ 0  6 10 15]\n",
      " [12  9 11  7]]\n",
      "fixed, 2.2: True, 128, 3338, time: 0.50 s\n",
      "fixed, 2.1: True, 128, 3943, time: 0.66 s\n",
      "fixed, 2.0: True, 128, 4056, time: 0.66 s\n",
      "fixed, 1.9000000000000001: True, 128, 5345, time: 0.78 s\n",
      "fixed, 1.8: True, 112, 6823, time: 1.00 s\n",
      "fixed, 1.7: True, 100, 2560, time: 0.38 s\n",
      "fixed, 1.6: True, 90, 3627, time: 0.65 s\n",
      "fixed, 1.5: True, 90, 1843, time: 0.26 s\n"
     ]
    },
    {
     "data": {
      "application/vnd.jupyter.widget-view+json": {
       "model_id": "78770c2e5511486e972a4bcc390613dd",
       "version_major": 2,
       "version_minor": 0
      },
      "text/plain": [
       "Randomizing:   0%|          | 0/10000 [00:00<?, ?it/s]"
      ]
     },
     "metadata": {},
     "output_type": "display_data"
    },
    {
     "name": "stdout",
     "output_type": "stream",
     "text": [
      "Instance 27\n",
      "[[14  1  9  2]\n",
      " [ 3  4 12  7]\n",
      " [ 0  6  8 10]\n",
      " [ 5 11 13 15]]\n",
      "fixed, 2.2: True, 152, 36108, time: 5.10 s\n",
      "fixed, 2.1: True, 138, 30373, time: 4.39 s\n",
      "fixed, 2.0: True, 138, 25454, time: 3.54 s\n",
      "fixed, 1.9000000000000001: True, 124, 27157, time: 3.84 s\n",
      "fixed, 1.8: True, 120, 50702, time: 7.12 s\n",
      "fixed, 1.7: True, 98, 18900, time: 2.82 s\n",
      "fixed, 1.6: True, 98, 15197, time: 2.20 s\n",
      "fixed, 1.5: True, 88, 26173, time: 3.64 s\n"
     ]
    },
    {
     "data": {
      "application/vnd.jupyter.widget-view+json": {
       "model_id": "3d0d172060374ebb8a818a972600c349",
       "version_major": 2,
       "version_minor": 0
      },
      "text/plain": [
       "Randomizing:   0%|          | 0/10000 [00:00<?, ?it/s]"
      ]
     },
     "metadata": {},
     "output_type": "display_data"
    },
    {
     "name": "stdout",
     "output_type": "stream",
     "text": [
      "Instance 28\n",
      "[[10 12  7  2]\n",
      " [ 3 15 14  4]\n",
      " [ 8  6  9  5]\n",
      " [ 1  0 13 11]]\n",
      "fixed, 2.2: True, 116, 4167, time: 0.62 s\n",
      "fixed, 2.1: True, 116, 3991, time: 0.59 s\n",
      "fixed, 2.0: True, 116, 3865, time: 0.56 s\n",
      "fixed, 1.9000000000000001: True, 116, 3696, time: 0.56 s\n",
      "fixed, 1.8: True, 116, 3365, time: 0.50 s\n",
      "fixed, 1.7: True, 112, 6305, time: 0.89 s\n",
      "fixed, 1.6: True, 104, 15292, time: 2.30 s\n",
      "fixed, 1.5: True, 92, 3437, time: 0.50 s\n"
     ]
    },
    {
     "data": {
      "application/vnd.jupyter.widget-view+json": {
       "model_id": "9b26c199d1ad41a5b5121724a4173c6a",
       "version_major": 2,
       "version_minor": 0
      },
      "text/plain": [
       "Randomizing:   0%|          | 0/10000 [00:00<?, ?it/s]"
      ]
     },
     "metadata": {},
     "output_type": "display_data"
    },
    {
     "name": "stdout",
     "output_type": "stream",
     "text": [
      "Instance 29\n",
      "[[ 0  2 13  4]\n",
      " [ 9  6  1 14]\n",
      " [10  5 12  3]\n",
      " [15  7 11  8]]\n",
      "fixed, 2.2: True, 136, 21359, time: 3.00 s\n",
      "fixed, 2.1: True, 120, 17199, time: 2.36 s\n",
      "fixed, 2.0: True, 120, 17372, time: 2.55 s\n",
      "fixed, 1.9000000000000001: True, 120, 20178, time: 2.79 s\n",
      "fixed, 1.8: True, 112, 29233, time: 4.04 s\n",
      "fixed, 1.7: True, 104, 19830, time: 2.94 s\n",
      "fixed, 1.6: True, 92, 27883, time: 3.91 s\n",
      "fixed, 1.5: True, 80, 45860, time: 6.19 s\n"
     ]
    },
    {
     "data": {
      "application/vnd.jupyter.widget-view+json": {
       "model_id": "0adbfc99d9204779996406f65ab9eded",
       "version_major": 2,
       "version_minor": 0
      },
      "text/plain": [
       "Randomizing:   0%|          | 0/30000 [00:00<?, ?it/s]"
      ]
     },
     "metadata": {},
     "output_type": "display_data"
    },
    {
     "name": "stdout",
     "output_type": "stream",
     "text": [
      "Instance 0\n",
      "[[ 5  6 11  7]\n",
      " [14  0  2 13]\n",
      " [ 9  3  8 10]\n",
      " [15  1 12  4]]\n",
      "fixed, 2.2: True, 108, 5778, time: 0.85 s\n",
      "fixed, 2.1: True, 108, 5578, time: 0.79 s\n",
      "fixed, 2.0: True, 98, 4848, time: 0.68 s\n",
      "fixed, 1.9000000000000001: True, 98, 4177, time: 0.61 s\n",
      "fixed, 1.8: True, 98, 4031, time: 0.57 s\n",
      "fixed, 1.7: True, 84, 6509, time: 0.93 s\n",
      "fixed, 1.6: True, 84, 3057, time: 0.45 s\n",
      "fixed, 1.5: True, 84, 9723, time: 1.38 s\n"
     ]
    },
    {
     "data": {
      "application/vnd.jupyter.widget-view+json": {
       "model_id": "c7c896ecddd34aae96d48f9fa6239a85",
       "version_major": 2,
       "version_minor": 0
      },
      "text/plain": [
       "Randomizing:   0%|          | 0/30000 [00:00<?, ?it/s]"
      ]
     },
     "metadata": {},
     "output_type": "display_data"
    },
    {
     "name": "stdout",
     "output_type": "stream",
     "text": [
      "Instance 1\n",
      "[[ 3 11  7  2]\n",
      " [10  0 14  1]\n",
      " [13  8 15  9]\n",
      " [ 5  4 12  6]]\n",
      "fixed, 2.2: True, 130, 3886, time: 0.58 s\n",
      "fixed, 2.1: True, 130, 3886, time: 0.55 s\n",
      "fixed, 2.0: True, 130, 3827, time: 0.55 s\n",
      "fixed, 1.9000000000000001: True, 130, 3640, time: 0.52 s\n",
      "fixed, 1.8: True, 122, 3255, time: 0.45 s\n",
      "fixed, 1.7: True, 122, 3423, time: 0.50 s\n",
      "fixed, 1.6: True, 112, 2730, time: 0.39 s\n",
      "fixed, 1.5: True, 98, 12451, time: 1.88 s\n"
     ]
    },
    {
     "data": {
      "application/vnd.jupyter.widget-view+json": {
       "model_id": "a4b14210d47d4c46afe40bf5a759fcf8",
       "version_major": 2,
       "version_minor": 0
      },
      "text/plain": [
       "Randomizing:   0%|          | 0/30000 [00:00<?, ?it/s]"
      ]
     },
     "metadata": {},
     "output_type": "display_data"
    },
    {
     "name": "stdout",
     "output_type": "stream",
     "text": [
      "Instance 2\n",
      "[[10 15  3  5]\n",
      " [ 7 13  4  0]\n",
      " [ 2 14  6  9]\n",
      " [12  1  8 11]]\n",
      "fixed, 2.2: True, 124, 19449, time: 2.81 s\n",
      "fixed, 2.1: True, 124, 18530, time: 2.59 s\n",
      "fixed, 2.0: True, 124, 16493, time: 2.41 s\n",
      "fixed, 1.9000000000000001: True, 126, 21079, time: 2.97 s\n",
      "fixed, 1.8: True, 126, 14283, time: 1.98 s\n",
      "fixed, 1.7: True, 118, 15818, time: 2.19 s\n",
      "fixed, 1.6: True, 104, 18635, time: 2.73 s\n",
      "fixed, 1.5: True, 106, 18723, time: 2.65 s\n"
     ]
    },
    {
     "data": {
      "application/vnd.jupyter.widget-view+json": {
       "model_id": "8b42aeff7fc7426c934397afea24501b",
       "version_major": 2,
       "version_minor": 0
      },
      "text/plain": [
       "Randomizing:   0%|          | 0/30000 [00:00<?, ?it/s]"
      ]
     },
     "metadata": {},
     "output_type": "display_data"
    },
    {
     "name": "stdout",
     "output_type": "stream",
     "text": [
      "Instance 3\n",
      "[[ 9  3  6  1]\n",
      " [10  4  8 15]\n",
      " [11 13 14  5]\n",
      " [12  0  2  7]]\n",
      "fixed, 2.2: True, 176, 21951, time: 3.00 s\n",
      "fixed, 2.1: True, 176, 16003, time: 2.20 s\n",
      "fixed, 2.0: True, 160, 8435, time: 1.33 s\n",
      "fixed, 1.9000000000000001: True, 160, 7236, time: 1.11 s\n",
      "fixed, 1.8: True, 160, 6293, time: 0.95 s\n",
      "fixed, 1.7: True, 156, 8428, time: 1.22 s\n",
      "fixed, 1.6: True, 124, 28830, time: 3.80 s\n",
      "fixed, 1.5: True, 110, 19947, time: 2.95 s\n"
     ]
    },
    {
     "data": {
      "application/vnd.jupyter.widget-view+json": {
       "model_id": "8bed2d9d7dc44a7f8c89a850afe4c48c",
       "version_major": 2,
       "version_minor": 0
      },
      "text/plain": [
       "Randomizing:   0%|          | 0/30000 [00:00<?, ?it/s]"
      ]
     },
     "metadata": {},
     "output_type": "display_data"
    },
    {
     "name": "stdout",
     "output_type": "stream",
     "text": [
      "Instance 4\n",
      "[[ 3 10  7 13]\n",
      " [15  4 14 11]\n",
      " [ 6  1  8 12]\n",
      " [ 5  0  9  2]]\n",
      "fixed, 2.2: True, 106, 5600, time: 0.79 s\n",
      "fixed, 2.1: True, 106, 4881, time: 0.68 s\n",
      "fixed, 2.0: True, 106, 4214, time: 0.59 s\n",
      "fixed, 1.9000000000000001: True, 106, 3739, time: 0.51 s\n",
      "fixed, 1.8: True, 106, 3379, time: 0.46 s\n",
      "fixed, 1.7: True, 106, 5081, time: 0.72 s\n",
      "fixed, 1.6: True, 106, 5212, time: 0.74 s\n",
      "fixed, 1.5: True, 98, 22557, time: 3.24 s\n"
     ]
    },
    {
     "data": {
      "application/vnd.jupyter.widget-view+json": {
       "model_id": "5e42bfdf7b2649448ec48850c2a69c69",
       "version_major": 2,
       "version_minor": 0
      },
      "text/plain": [
       "Randomizing:   0%|          | 0/30000 [00:00<?, ?it/s]"
      ]
     },
     "metadata": {},
     "output_type": "display_data"
    },
    {
     "name": "stdout",
     "output_type": "stream",
     "text": [
      "Instance 5\n",
      "[[ 0 11 10  2]\n",
      " [ 3  5  7 12]\n",
      " [ 9 13 15  8]\n",
      " [ 4 14  6  1]]\n",
      "fixed, 2.2: True, 134, 19300, time: 2.77 s\n",
      "fixed, 2.1: True, 126, 21741, time: 2.99 s\n",
      "fixed, 2.0: True, 126, 24719, time: 3.27 s\n",
      "fixed, 1.9000000000000001: True, 118, 37767, time: 5.01 s\n",
      "fixed, 1.8: True, 118, 36559, time: 5.19 s\n",
      "fixed, 1.7: True, 92, 27131, time: 3.85 s\n",
      "fixed, 1.6: True, 92, 29284, time: 3.92 s\n",
      "fixed, 1.5: True, 86, 20599, time: 2.93 s\n"
     ]
    },
    {
     "data": {
      "application/vnd.jupyter.widget-view+json": {
       "model_id": "b41d04b911e7458580c5b3f4c98069a4",
       "version_major": 2,
       "version_minor": 0
      },
      "text/plain": [
       "Randomizing:   0%|          | 0/30000 [00:00<?, ?it/s]"
      ]
     },
     "metadata": {},
     "output_type": "display_data"
    },
    {
     "name": "stdout",
     "output_type": "stream",
     "text": [
      "Instance 6\n",
      "[[15  2  0  3]\n",
      " [ 9  8 14  5]\n",
      " [ 6  4  1 12]\n",
      " [11  7 13 10]]\n",
      "fixed, 2.2: True, 166, 10451, time: 1.59 s\n",
      "fixed, 2.1: True, 164, 10797, time: 1.56 s\n",
      "fixed, 2.0: True, 164, 10467, time: 1.46 s\n",
      "fixed, 1.9000000000000001: True, 164, 11685, time: 1.63 s\n",
      "fixed, 1.8: True, 162, 31513, time: 4.50 s\n",
      "fixed, 1.7: True, 140, 16445, time: 2.37 s\n",
      "fixed, 1.6: True, 132, 26309, time: 3.79 s\n",
      "fixed, 1.5: True, 112, 16040, time: 2.27 s\n"
     ]
    },
    {
     "data": {
      "application/vnd.jupyter.widget-view+json": {
       "model_id": "0299506007554143a88c092ed95c21d5",
       "version_major": 2,
       "version_minor": 0
      },
      "text/plain": [
       "Randomizing:   0%|          | 0/30000 [00:00<?, ?it/s]"
      ]
     },
     "metadata": {},
     "output_type": "display_data"
    },
    {
     "name": "stdout",
     "output_type": "stream",
     "text": [
      "Instance 7\n",
      "[[ 0  7  8 14]\n",
      " [10 12  6  4]\n",
      " [ 5  3 15  9]\n",
      " [ 2 13  1 11]]\n",
      "fixed, 2.2: True, 118, 15534, time: 2.28 s\n",
      "fixed, 2.1: True, 118, 14624, time: 2.12 s\n",
      "fixed, 2.0: True, 118, 13013, time: 1.80 s\n",
      "fixed, 1.9000000000000001: True, 118, 13001, time: 1.97 s\n",
      "fixed, 1.8: True, 116, 17929, time: 2.50 s\n",
      "fixed, 1.7: True, 114, 12303, time: 1.75 s\n",
      "fixed, 1.6: True, 108, 17557, time: 2.45 s\n",
      "fixed, 1.5: True, 90, 15572, time: 2.33 s\n"
     ]
    },
    {
     "data": {
      "application/vnd.jupyter.widget-view+json": {
       "model_id": "f44e4cce6b4b4896b4293ebf6c93f4aa",
       "version_major": 2,
       "version_minor": 0
      },
      "text/plain": [
       "Randomizing:   0%|          | 0/30000 [00:00<?, ?it/s]"
      ]
     },
     "metadata": {},
     "output_type": "display_data"
    },
    {
     "name": "stdout",
     "output_type": "stream",
     "text": [
      "Instance 8\n",
      "[[ 4  7  3  6]\n",
      " [ 8  1 12 15]\n",
      " [ 2  5  0  9]\n",
      " [10 14 13 11]]\n",
      "fixed, 2.2: True, 112, 3291, time: 0.49 s\n",
      "fixed, 2.1: True, 112, 3191, time: 0.46 s\n",
      "fixed, 2.0: True, 112, 3141, time: 0.46 s\n",
      "fixed, 1.9000000000000001: True, 112, 3143, time: 0.44 s\n",
      "fixed, 1.8: True, 112, 2793, time: 0.40 s\n",
      "fixed, 1.7: True, 112, 2934, time: 0.43 s\n",
      "fixed, 1.6: True, 106, 5036, time: 0.73 s\n",
      "fixed, 1.5: True, 108, 5658, time: 0.82 s\n"
     ]
    },
    {
     "data": {
      "application/vnd.jupyter.widget-view+json": {
       "model_id": "cf5fcf55ac8e4a10922097f6a4ff7021",
       "version_major": 2,
       "version_minor": 0
      },
      "text/plain": [
       "Randomizing:   0%|          | 0/30000 [00:00<?, ?it/s]"
      ]
     },
     "metadata": {},
     "output_type": "display_data"
    },
    {
     "name": "stdout",
     "output_type": "stream",
     "text": [
      "Instance 9\n",
      "[[ 5 12  4  8]\n",
      " [10  0 11 15]\n",
      " [13  1 14  7]\n",
      " [ 9  3  2  6]]\n",
      "fixed, 2.2: True, 116, 2537, time: 0.42 s\n",
      "fixed, 2.1: True, 116, 2537, time: 0.38 s\n",
      "fixed, 2.0: True, 116, 2945, time: 0.42 s\n",
      "fixed, 1.9000000000000001: True, 110, 2857, time: 0.42 s\n",
      "fixed, 1.8: True, 110, 2597, time: 0.37 s\n",
      "fixed, 1.7: True, 98, 3280, time: 0.48 s\n",
      "fixed, 1.6: True, 94, 4562, time: 0.66 s\n",
      "fixed, 1.5: True, 90, 21432, time: 2.93 s\n"
     ]
    },
    {
     "data": {
      "application/vnd.jupyter.widget-view+json": {
       "model_id": "6a2f5aa7b07544f2b48b7814f8e3d6dd",
       "version_major": 2,
       "version_minor": 0
      },
      "text/plain": [
       "Randomizing:   0%|          | 0/30000 [00:00<?, ?it/s]"
      ]
     },
     "metadata": {},
     "output_type": "display_data"
    },
    {
     "name": "stdout",
     "output_type": "stream",
     "text": [
      "Instance 10\n",
      "[[13  2  3 12]\n",
      " [11  5  7 15]\n",
      " [ 4 14  0  1]\n",
      " [ 9  6  8 10]]\n",
      "fixed, 2.2: True, 160, 37002, time: 5.27 s\n",
      "fixed, 2.1: True, 114, 28042, time: 3.74 s\n",
      "fixed, 2.0: True, 114, 20620, time: 2.87 s\n",
      "fixed, 1.9000000000000001: True, 120, 19521, time: 2.65 s\n",
      "fixed, 1.8: True, 118, 34357, time: 4.62 s\n",
      "fixed, 1.7: True, 108, 36495, time: 5.15 s\n",
      "fixed, 1.6: True, 100, 5602, time: 0.80 s\n",
      "fixed, 1.5: True, 84, 27455, time: 3.90 s\n"
     ]
    },
    {
     "data": {
      "application/vnd.jupyter.widget-view+json": {
       "model_id": "df6a1975e0354026a512b888a8ea666d",
       "version_major": 2,
       "version_minor": 0
      },
      "text/plain": [
       "Randomizing:   0%|          | 0/30000 [00:00<?, ?it/s]"
      ]
     },
     "metadata": {},
     "output_type": "display_data"
    },
    {
     "name": "stdout",
     "output_type": "stream",
     "text": [
      "Instance 11\n",
      "[[14 13  8 10]\n",
      " [ 7  0 12  3]\n",
      " [15  6  1 11]\n",
      " [ 4  9  2  5]]\n",
      "fixed, 2.2: True, 172, 25977, time: 3.56 s\n",
      "fixed, 2.1: True, 156, 57947, time: 7.97 s\n",
      "fixed, 2.0: True, 156, 29352, time: 3.99 s\n",
      "fixed, 1.9000000000000001: True, 156, 21260, time: 2.94 s\n",
      "fixed, 1.8: True, 150, 15495, time: 2.16 s\n",
      "fixed, 1.7: True, 144, 17984, time: 2.46 s\n",
      "fixed, 1.6: True, 128, 17350, time: 2.38 s\n",
      "fixed, 1.5: True, 126, 32006, time: 4.39 s\n"
     ]
    },
    {
     "data": {
      "application/vnd.jupyter.widget-view+json": {
       "model_id": "df3157f307d742e0ae9e99a1fc0e83c4",
       "version_major": 2,
       "version_minor": 0
      },
      "text/plain": [
       "Randomizing:   0%|          | 0/30000 [00:00<?, ?it/s]"
      ]
     },
     "metadata": {},
     "output_type": "display_data"
    },
    {
     "name": "stdout",
     "output_type": "stream",
     "text": [
      "Instance 12\n",
      "[[ 2 11  7  6]\n",
      " [ 3  8  5 14]\n",
      " [10  9 13  1]\n",
      " [ 4  0 15 12]]\n",
      "fixed, 2.2: True, 142, 35635, time: 4.98 s\n",
      "fixed, 2.1: True, 142, 34372, time: 4.52 s\n",
      "fixed, 2.0: True, 138, 50097, time: 6.84 s\n",
      "fixed, 1.9000000000000001: True, 100, 38420, time: 5.05 s\n",
      "fixed, 1.8: True, 100, 12288, time: 1.70 s\n",
      "fixed, 1.7: True, 100, 2691, time: 0.40 s\n",
      "fixed, 1.6: True, 100, 2762, time: 0.40 s\n",
      "fixed, 1.5: True, 98, 6507, time: 0.94 s\n"
     ]
    },
    {
     "data": {
      "application/vnd.jupyter.widget-view+json": {
       "model_id": "461ed6e4058e4e88b43ee3305006803e",
       "version_major": 2,
       "version_minor": 0
      },
      "text/plain": [
       "Randomizing:   0%|          | 0/30000 [00:00<?, ?it/s]"
      ]
     },
     "metadata": {},
     "output_type": "display_data"
    },
    {
     "name": "stdout",
     "output_type": "stream",
     "text": [
      "Instance 13\n",
      "[[14  9  2  8]\n",
      " [ 1  7  5  3]\n",
      " [ 4  6  0 10]\n",
      " [13 15 12 11]]\n",
      "fixed, 2.2: True, 88, 22494, time: 3.29 s\n",
      "fixed, 2.1: True, 88, 17205, time: 2.36 s\n",
      "fixed, 2.0: True, 88, 13214, time: 1.81 s\n",
      "fixed, 1.9000000000000001: True, 88, 12755, time: 1.78 s\n",
      "fixed, 1.8: True, 72, 6753, time: 1.09 s\n",
      "fixed, 1.7: True, 70, 15156, time: 2.10 s\n",
      "fixed, 1.6: True, 50, 3878, time: 0.56 s\n",
      "fixed, 1.5: True, 50, 2145, time: 0.31 s\n"
     ]
    },
    {
     "data": {
      "application/vnd.jupyter.widget-view+json": {
       "model_id": "78d900f9821c4004b46208f5cfc64f83",
       "version_major": 2,
       "version_minor": 0
      },
      "text/plain": [
       "Randomizing:   0%|          | 0/30000 [00:00<?, ?it/s]"
      ]
     },
     "metadata": {},
     "output_type": "display_data"
    },
    {
     "name": "stdout",
     "output_type": "stream",
     "text": [
      "Instance 14\n",
      "[[10  9  0  1]\n",
      " [ 4  2 14  6]\n",
      " [11  7 12 13]\n",
      " [15  5  3  8]]\n",
      "fixed, 2.2: True, 154, 35452, time: 4.75 s\n",
      "fixed, 2.1: True, 108, 26209, time: 3.65 s\n",
      "fixed, 2.0: True, 108, 18070, time: 2.41 s\n",
      "fixed, 1.9000000000000001: True, 104, 12013, time: 1.61 s\n",
      "fixed, 1.8: True, 104, 7342, time: 1.09 s\n",
      "fixed, 1.7: True, 104, 7089, time: 1.01 s\n",
      "fixed, 1.6: True, 98, 9576, time: 1.44 s\n",
      "fixed, 1.5: True, 98, 5712, time: 0.80 s\n"
     ]
    },
    {
     "data": {
      "application/vnd.jupyter.widget-view+json": {
       "model_id": "1c223c9093fd455aae34d6856dbd73c4",
       "version_major": 2,
       "version_minor": 0
      },
      "text/plain": [
       "Randomizing:   0%|          | 0/30000 [00:00<?, ?it/s]"
      ]
     },
     "metadata": {},
     "output_type": "display_data"
    },
    {
     "name": "stdout",
     "output_type": "stream",
     "text": [
      "Instance 15\n",
      "[[ 2 14 15  7]\n",
      " [12 11 10  0]\n",
      " [ 5 13  6  1]\n",
      " [ 9  8  4  3]]\n",
      "fixed, 2.2: True, 174, 45866, time: 6.30 s\n",
      "fixed, 2.1: True, 128, 36455, time: 5.25 s\n",
      "fixed, 2.0: True, 128, 27757, time: 3.77 s\n",
      "fixed, 1.9000000000000001: True, 124, 36738, time: 5.16 s\n",
      "fixed, 1.8: True, 124, 24499, time: 3.32 s\n",
      "fixed, 1.7: True, 116, 23177, time: 3.33 s\n",
      "fixed, 1.6: True, 100, 11487, time: 1.70 s\n",
      "fixed, 1.5: True, 86, 10566, time: 1.51 s\n"
     ]
    },
    {
     "data": {
      "application/vnd.jupyter.widget-view+json": {
       "model_id": "3764a43c3f5c4dc2a85dbe3753e70614",
       "version_major": 2,
       "version_minor": 0
      },
      "text/plain": [
       "Randomizing:   0%|          | 0/30000 [00:00<?, ?it/s]"
      ]
     },
     "metadata": {},
     "output_type": "display_data"
    },
    {
     "name": "stdout",
     "output_type": "stream",
     "text": [
      "Instance 16\n",
      "[[ 7 14 10  2]\n",
      " [11  3 12  5]\n",
      " [ 0 13  6  8]\n",
      " [ 4 15  1  9]]\n",
      "fixed, 2.2: True, 112, 4213, time: 0.63 s\n",
      "fixed, 2.1: True, 112, 4056, time: 0.59 s\n",
      "fixed, 2.0: True, 112, 3848, time: 0.56 s\n",
      "fixed, 1.9000000000000001: True, 112, 3533, time: 0.51 s\n",
      "fixed, 1.8: True, 112, 3277, time: 0.47 s\n",
      "fixed, 1.7: True, 106, 2745, time: 0.40 s\n",
      "fixed, 1.6: True, 102, 2740, time: 0.40 s\n",
      "fixed, 1.5: True, 94, 2161, time: 0.33 s\n"
     ]
    },
    {
     "data": {
      "application/vnd.jupyter.widget-view+json": {
       "model_id": "70a48ae53d134e58b5349d61c727e109",
       "version_major": 2,
       "version_minor": 0
      },
      "text/plain": [
       "Randomizing:   0%|          | 0/30000 [00:00<?, ?it/s]"
      ]
     },
     "metadata": {},
     "output_type": "display_data"
    },
    {
     "name": "stdout",
     "output_type": "stream",
     "text": [
      "Instance 17\n",
      "[[ 2 10  1 13]\n",
      " [ 8 15 14  4]\n",
      " [12  9  3  7]\n",
      " [11  0  6  5]]\n",
      "fixed, 2.2: True, 136, 21197, time: 3.10 s\n",
      "fixed, 2.1: True, 136, 19668, time: 2.73 s\n",
      "fixed, 2.0: True, 136, 18255, time: 2.62 s\n",
      "fixed, 1.9000000000000001: True, 136, 20719, time: 3.03 s\n",
      "fixed, 1.8: True, 134, 30038, time: 4.14 s\n",
      "fixed, 1.7: True, 122, 23547, time: 3.23 s\n",
      "fixed, 1.6: True, 122, 9859, time: 1.54 s\n",
      "fixed, 1.5: True, 112, 40169, time: 5.43 s\n"
     ]
    },
    {
     "data": {
      "application/vnd.jupyter.widget-view+json": {
       "model_id": "54acae77ae7f4a67b5455b940691837c",
       "version_major": 2,
       "version_minor": 0
      },
      "text/plain": [
       "Randomizing:   0%|          | 0/30000 [00:00<?, ?it/s]"
      ]
     },
     "metadata": {},
     "output_type": "display_data"
    },
    {
     "name": "stdout",
     "output_type": "stream",
     "text": [
      "Instance 18\n",
      "[[ 9  2  3  6]\n",
      " [ 4 13  8  0]\n",
      " [12 15 14  7]\n",
      " [ 5  1 11 10]]\n",
      "fixed, 2.2: True, 122, 13842, time: 2.04 s\n",
      "fixed, 2.1: True, 122, 12877, time: 1.95 s\n",
      "fixed, 2.0: True, 122, 11021, time: 1.58 s\n",
      "fixed, 1.9000000000000001: True, 126, 10116, time: 1.56 s\n",
      "fixed, 1.8: True, 126, 7943, time: 1.12 s\n",
      "fixed, 1.7: True, 126, 11364, time: 1.69 s\n",
      "fixed, 1.6: True, 108, 23878, time: 3.57 s\n",
      "fixed, 1.5: True, 82, 93323, time: 12.59 s\n"
     ]
    },
    {
     "data": {
      "application/vnd.jupyter.widget-view+json": {
       "model_id": "0f69a3987a9a47c7a06fa244fca9d94e",
       "version_major": 2,
       "version_minor": 0
      },
      "text/plain": [
       "Randomizing:   0%|          | 0/30000 [00:00<?, ?it/s]"
      ]
     },
     "metadata": {},
     "output_type": "display_data"
    },
    {
     "name": "stdout",
     "output_type": "stream",
     "text": [
      "Instance 19\n",
      "[[ 0  7 14  4]\n",
      " [ 2 10 12 13]\n",
      " [ 6 11 15  8]\n",
      " [ 5  9  3  1]]\n",
      "fixed, 2.2: True, 152, 13969, time: 1.94 s\n",
      "fixed, 2.1: True, 152, 15815, time: 2.22 s\n",
      "fixed, 2.0: True, 136, 25150, time: 3.59 s\n",
      "fixed, 1.9000000000000001: True, 138, 21958, time: 3.02 s\n",
      "fixed, 1.8: True, 134, 7324, time: 1.12 s\n",
      "fixed, 1.7: True, 134, 10069, time: 1.49 s\n",
      "fixed, 1.6: True, 110, 14639, time: 2.18 s\n",
      "fixed, 1.5: True, 96, 20895, time: 2.95 s\n"
     ]
    },
    {
     "data": {
      "application/vnd.jupyter.widget-view+json": {
       "model_id": "7191a12425a4452f86d0618d0c19dfca",
       "version_major": 2,
       "version_minor": 0
      },
      "text/plain": [
       "Randomizing:   0%|          | 0/30000 [00:00<?, ?it/s]"
      ]
     },
     "metadata": {},
     "output_type": "display_data"
    },
    {
     "name": "stdout",
     "output_type": "stream",
     "text": [
      "Instance 20\n",
      "[[ 1  6  9  5]\n",
      " [15  0 13 10]\n",
      " [ 3  8  4 14]\n",
      " [ 2 11  7 12]]\n",
      "fixed, 2.2: True, 144, 27792, time: 3.83 s\n",
      "fixed, 2.1: True, 144, 22797, time: 3.28 s\n",
      "fixed, 2.0: True, 144, 18086, time: 2.55 s\n",
      "fixed, 1.9000000000000001: True, 132, 11247, time: 1.58 s\n",
      "fixed, 1.8: True, 132, 7675, time: 1.09 s\n",
      "fixed, 1.7: True, 132, 7204, time: 1.04 s\n",
      "fixed, 1.6: True, 130, 6233, time: 0.89 s\n",
      "fixed, 1.5: True, 116, 4683, time: 0.67 s\n"
     ]
    },
    {
     "data": {
      "application/vnd.jupyter.widget-view+json": {
       "model_id": "2c71b460ba8c40ca843884c2fedc2c14",
       "version_major": 2,
       "version_minor": 0
      },
      "text/plain": [
       "Randomizing:   0%|          | 0/30000 [00:00<?, ?it/s]"
      ]
     },
     "metadata": {},
     "output_type": "display_data"
    },
    {
     "name": "stdout",
     "output_type": "stream",
     "text": [
      "Instance 21\n",
      "[[ 2  5  3  6]\n",
      " [10  0  1 12]\n",
      " [14  8 13  7]\n",
      " [ 9 11  4 15]]\n",
      "fixed, 2.2: True, 116, 11603, time: 1.78 s\n",
      "fixed, 2.1: True, 116, 15469, time: 2.18 s\n",
      "fixed, 2.0: True, 100, 26407, time: 3.74 s\n",
      "fixed, 1.9000000000000001: True, 88, 24369, time: 3.49 s\n",
      "fixed, 1.8: True, 88, 12750, time: 1.75 s\n",
      "fixed, 1.7: True, 88, 11763, time: 1.69 s\n",
      "fixed, 1.6: True, 84, 16498, time: 2.37 s\n",
      "fixed, 1.5: True, 68, 22542, time: 3.21 s\n"
     ]
    },
    {
     "data": {
      "application/vnd.jupyter.widget-view+json": {
       "model_id": "ac0fe247f4a54537ba844ef9d3d2972a",
       "version_major": 2,
       "version_minor": 0
      },
      "text/plain": [
       "Randomizing:   0%|          | 0/30000 [00:00<?, ?it/s]"
      ]
     },
     "metadata": {},
     "output_type": "display_data"
    },
    {
     "name": "stdout",
     "output_type": "stream",
     "text": [
      "Instance 22\n",
      "[[ 2  7  0 11]\n",
      " [ 8  4  5  9]\n",
      " [14 12 10  1]\n",
      " [ 3 13 15  6]]\n",
      "fixed, 2.2: True, 146, 32376, time: 4.63 s\n",
      "fixed, 2.1: True, 146, 27732, time: 4.11 s\n",
      "fixed, 2.0: True, 146, 24654, time: 3.50 s\n",
      "fixed, 1.9000000000000001: True, 146, 18098, time: 2.52 s\n",
      "fixed, 1.8: True, 146, 18689, time: 2.73 s\n",
      "fixed, 1.7: True, 124, 26259, time: 3.94 s\n",
      "fixed, 1.6: True, 120, 15972, time: 2.31 s\n",
      "fixed, 1.5: True, 106, 5831, time: 0.81 s\n"
     ]
    },
    {
     "data": {
      "application/vnd.jupyter.widget-view+json": {
       "model_id": "caa8394498fa43eebd15eb13614d13fc",
       "version_major": 2,
       "version_minor": 0
      },
      "text/plain": [
       "Randomizing:   0%|          | 0/30000 [00:00<?, ?it/s]"
      ]
     },
     "metadata": {},
     "output_type": "display_data"
    },
    {
     "name": "stdout",
     "output_type": "stream",
     "text": [
      "Instance 23\n",
      "[[ 3  6  4 11]\n",
      " [ 5  0 10 14]\n",
      " [ 7 13  9 15]\n",
      " [ 1 12  8  2]]\n",
      "fixed, 2.2: True, 114, 20945, time: 3.04 s\n",
      "fixed, 2.1: True, 112, 27912, time: 3.92 s\n",
      "fixed, 2.0: True, 112, 30819, time: 4.09 s\n",
      "fixed, 1.9000000000000001: True, 112, 35433, time: 4.93 s\n",
      "fixed, 1.8: True, 96, 23717, time: 3.29 s\n",
      "fixed, 1.7: True, 96, 9471, time: 1.48 s\n",
      "fixed, 1.6: True, 80, 7329, time: 1.08 s\n",
      "fixed, 1.5: True, 80, 2338, time: 0.37 s\n"
     ]
    },
    {
     "data": {
      "application/vnd.jupyter.widget-view+json": {
       "model_id": "9deb88c0b69c4a91b89bd878ae81464f",
       "version_major": 2,
       "version_minor": 0
      },
      "text/plain": [
       "Randomizing:   0%|          | 0/30000 [00:00<?, ?it/s]"
      ]
     },
     "metadata": {},
     "output_type": "display_data"
    },
    {
     "name": "stdout",
     "output_type": "stream",
     "text": [
      "Instance 24\n",
      "[[ 8  5  3  9]\n",
      " [ 2 11 15  0]\n",
      " [10  6 13 12]\n",
      " [ 4 14  1  7]]\n",
      "fixed, 2.2: True, 140, 21447, time: 3.06 s\n",
      "fixed, 2.1: True, 140, 25963, time: 3.49 s\n",
      "fixed, 2.0: True, 140, 29964, time: 4.17 s\n",
      "fixed, 1.9000000000000001: True, 140, 33362, time: 4.56 s\n",
      "fixed, 1.8: True, 140, 20013, time: 2.85 s\n",
      "fixed, 1.7: True, 134, 71479, time: 9.48 s\n",
      "fixed, 1.6: True, 120, 82951, time: 11.05 s\n",
      "fixed, 1.5: True, 100, 44344, time: 6.16 s\n"
     ]
    },
    {
     "data": {
      "application/vnd.jupyter.widget-view+json": {
       "model_id": "35a2118080db4ebb86b1b31cb61abc9f",
       "version_major": 2,
       "version_minor": 0
      },
      "text/plain": [
       "Randomizing:   0%|          | 0/30000 [00:00<?, ?it/s]"
      ]
     },
     "metadata": {},
     "output_type": "display_data"
    },
    {
     "name": "stdout",
     "output_type": "stream",
     "text": [
      "Instance 25\n",
      "[[ 5 13  8 14]\n",
      " [12  0  1  9]\n",
      " [15  2 11  3]\n",
      " [ 6  4  7 10]]\n",
      "fixed, 2.2: True, 116, 14784, time: 2.23 s\n",
      "fixed, 2.1: True, 116, 13225, time: 1.92 s\n",
      "fixed, 2.0: True, 116, 10892, time: 1.61 s\n",
      "fixed, 1.9000000000000001: True, 116, 8848, time: 1.29 s\n",
      "fixed, 1.8: True, 116, 6680, time: 0.94 s\n",
      "fixed, 1.7: True, 116, 7301, time: 1.03 s\n",
      "fixed, 1.6: True, 100, 8483, time: 1.14 s\n",
      "fixed, 1.5: True, 96, 5501, time: 0.94 s\n"
     ]
    },
    {
     "data": {
      "application/vnd.jupyter.widget-view+json": {
       "model_id": "f45343b1ca484cfca4aba3e1167c96d8",
       "version_major": 2,
       "version_minor": 0
      },
      "text/plain": [
       "Randomizing:   0%|          | 0/30000 [00:00<?, ?it/s]"
      ]
     },
     "metadata": {},
     "output_type": "display_data"
    },
    {
     "name": "stdout",
     "output_type": "stream",
     "text": [
      "Instance 26\n",
      "[[14  7  6 10]\n",
      " [ 4 11  1 12]\n",
      " [ 2 15  9  5]\n",
      " [ 8 13  3  0]]\n",
      "fixed, 2.2: True, 188, 40826, time: 5.68 s\n",
      "fixed, 2.1: True, 168, 37432, time: 5.14 s\n",
      "fixed, 2.0: True, 168, 30480, time: 4.20 s\n",
      "fixed, 1.9000000000000001: True, 168, 36394, time: 5.05 s\n",
      "fixed, 1.8: True, 144, 18092, time: 2.53 s\n",
      "fixed, 1.7: True, 144, 10974, time: 1.55 s\n",
      "fixed, 1.6: True, 124, 31505, time: 4.50 s\n",
      "fixed, 1.5: True, 116, 23213, time: 3.22 s\n"
     ]
    },
    {
     "data": {
      "application/vnd.jupyter.widget-view+json": {
       "model_id": "c33e762f64fe4eabbd5104d20b96849a",
       "version_major": 2,
       "version_minor": 0
      },
      "text/plain": [
       "Randomizing:   0%|          | 0/30000 [00:00<?, ?it/s]"
      ]
     },
     "metadata": {},
     "output_type": "display_data"
    },
    {
     "name": "stdout",
     "output_type": "stream",
     "text": [
      "Instance 27\n",
      "[[ 2  5  3  6]\n",
      " [11  0  8 10]\n",
      " [15 13  1  7]\n",
      " [ 4 14 12  9]]\n",
      "fixed, 2.2: True, 168, 27986, time: 3.99 s\n",
      "fixed, 2.1: True, 152, 21975, time: 3.01 s\n",
      "fixed, 2.0: True, 152, 20637, time: 2.82 s\n",
      "fixed, 1.9000000000000001: True, 116, 37922, time: 5.13 s\n",
      "fixed, 1.8: True, 116, 10436, time: 1.48 s\n",
      "fixed, 1.7: True, 116, 8624, time: 1.21 s\n",
      "fixed, 1.6: True, 128, 28127, time: 3.88 s\n",
      "fixed, 1.5: True, 106, 34264, time: 4.88 s\n"
     ]
    },
    {
     "data": {
      "application/vnd.jupyter.widget-view+json": {
       "model_id": "3ed8fec6f36f493dbabcfb5ca895799d",
       "version_major": 2,
       "version_minor": 0
      },
      "text/plain": [
       "Randomizing:   0%|          | 0/30000 [00:00<?, ?it/s]"
      ]
     },
     "metadata": {},
     "output_type": "display_data"
    },
    {
     "name": "stdout",
     "output_type": "stream",
     "text": [
      "Instance 28\n",
      "[[10  3  9  2]\n",
      " [ 4 14  5  8]\n",
      " [13  1 12  7]\n",
      " [ 6  0 15 11]]\n",
      "fixed, 2.2: True, 114, 7239, time: 1.05 s\n",
      "fixed, 2.1: True, 114, 6852, time: 0.98 s\n",
      "fixed, 2.0: True, 114, 6157, time: 0.87 s\n",
      "fixed, 1.9000000000000001: True, 114, 5795, time: 0.84 s\n",
      "fixed, 1.8: True, 110, 8803, time: 1.27 s\n",
      "fixed, 1.7: True, 100, 13913, time: 2.19 s\n",
      "fixed, 1.6: True, 92, 13255, time: 1.87 s\n",
      "fixed, 1.5: True, 70, 2070, time: 0.31 s\n"
     ]
    },
    {
     "data": {
      "application/vnd.jupyter.widget-view+json": {
       "model_id": "ef6b747cb7c14619965414caffde17e3",
       "version_major": 2,
       "version_minor": 0
      },
      "text/plain": [
       "Randomizing:   0%|          | 0/30000 [00:00<?, ?it/s]"
      ]
     },
     "metadata": {},
     "output_type": "display_data"
    },
    {
     "name": "stdout",
     "output_type": "stream",
     "text": [
      "Instance 29\n",
      "[[ 0  1 14  5]\n",
      " [ 8  6 13  9]\n",
      " [15  2  3  7]\n",
      " [10 12 11  4]]\n",
      "fixed, 2.2: True, 126, 3443, time: 0.51 s\n",
      "fixed, 2.1: True, 126, 3436, time: 0.52 s\n",
      "fixed, 2.0: True, 126, 3418, time: 0.49 s\n",
      "fixed, 1.9000000000000001: True, 124, 3013, time: 0.44 s\n",
      "fixed, 1.8: True, 124, 2703, time: 0.41 s\n",
      "fixed, 1.7: True, 124, 2902, time: 0.43 s\n",
      "fixed, 1.6: True, 124, 3023, time: 0.44 s\n",
      "fixed, 1.5: True, 122, 3782, time: 0.55 s\n"
     ]
    },
    {
     "data": {
      "application/vnd.jupyter.widget-view+json": {
       "model_id": "25a9145133f94ec6ac41067bcab5246f",
       "version_major": 2,
       "version_minor": 0
      },
      "text/plain": [
       "Randomizing:   0%|          | 0/100000 [00:00<?, ?it/s]"
      ]
     },
     "metadata": {},
     "output_type": "display_data"
    },
    {
     "name": "stdout",
     "output_type": "stream",
     "text": [
      "Instance 0\n",
      "[[11  7  3 13]\n",
      " [10  2  9  4]\n",
      " [ 8 12  0  1]\n",
      " [15  5 14  6]]\n",
      "fixed, 2.2: True, 174, 34897, time: 5.01 s\n",
      "fixed, 2.1: True, 160, 28987, time: 4.02 s\n",
      "fixed, 2.0: True, 160, 22982, time: 3.22 s\n",
      "fixed, 1.9000000000000001: True, 146, 25363, time: 3.70 s\n",
      "fixed, 1.8: True, 134, 45102, time: 6.29 s\n",
      "fixed, 1.7: True, 120, 18883, time: 2.74 s\n",
      "fixed, 1.6: True, 114, 13323, time: 1.90 s\n",
      "fixed, 1.5: True, 112, 22899, time: 3.22 s\n"
     ]
    },
    {
     "data": {
      "application/vnd.jupyter.widget-view+json": {
       "model_id": "ad26037cd91345ce9c8884925efb931a",
       "version_major": 2,
       "version_minor": 0
      },
      "text/plain": [
       "Randomizing:   0%|          | 0/100000 [00:00<?, ?it/s]"
      ]
     },
     "metadata": {},
     "output_type": "display_data"
    },
    {
     "name": "stdout",
     "output_type": "stream",
     "text": [
      "Instance 1\n",
      "[[ 6  7  2 13]\n",
      " [ 8 15  3 10]\n",
      " [14  5  4  9]\n",
      " [12  0  1 11]]\n",
      "fixed, 2.2: True, 140, 29174, time: 4.22 s\n",
      "fixed, 2.1: True, 140, 35427, time: 4.67 s\n",
      "fixed, 2.0: True, 142, 42178, time: 5.70 s\n",
      "fixed, 1.9000000000000001: True, 142, 27497, time: 3.67 s\n",
      "fixed, 1.8: True, 138, 57898, time: 7.95 s\n",
      "fixed, 1.7: True, 128, 65789, time: 8.53 s\n",
      "fixed, 1.6: True, 118, 71269, time: 9.88 s\n",
      "fixed, 1.5: True, 116, 85215, time: 12.04 s\n"
     ]
    },
    {
     "data": {
      "application/vnd.jupyter.widget-view+json": {
       "model_id": "2d4388d3c169495eaf11bf8117a6da5c",
       "version_major": 2,
       "version_minor": 0
      },
      "text/plain": [
       "Randomizing:   0%|          | 0/100000 [00:00<?, ?it/s]"
      ]
     },
     "metadata": {},
     "output_type": "display_data"
    },
    {
     "name": "stdout",
     "output_type": "stream",
     "text": [
      "Instance 2\n",
      "[[ 2 15  5 11]\n",
      " [10  8  6 12]\n",
      " [ 3  7 14 13]\n",
      " [ 1  9  4  0]]\n",
      "fixed, 2.2: True, 108, 3546, time: 0.54 s\n",
      "fixed, 2.1: True, 108, 3546, time: 0.49 s\n",
      "fixed, 2.0: True, 108, 3495, time: 0.47 s\n",
      "fixed, 1.9000000000000001: True, 108, 2864, time: 0.40 s\n",
      "fixed, 1.8: True, 108, 2111, time: 0.30 s\n",
      "fixed, 1.7: True, 108, 1719, time: 0.24 s\n",
      "fixed, 1.6: True, 108, 1482, time: 0.22 s\n",
      "fixed, 1.5: True, 110, 15407, time: 2.19 s\n"
     ]
    },
    {
     "data": {
      "application/vnd.jupyter.widget-view+json": {
       "model_id": "81475bbcd95b4c0ea62efaa3e76648d1",
       "version_major": 2,
       "version_minor": 0
      },
      "text/plain": [
       "Randomizing:   0%|          | 0/100000 [00:00<?, ?it/s]"
      ]
     },
     "metadata": {},
     "output_type": "display_data"
    },
    {
     "name": "stdout",
     "output_type": "stream",
     "text": [
      "Instance 3\n",
      "[[ 3 12  4  6]\n",
      " [ 5  8 10 13]\n",
      " [ 9 14  0 15]\n",
      " [ 1  7  2 11]]\n",
      "fixed, 2.2: True, 166, 35740, time: 5.12 s\n",
      "fixed, 2.1: True, 144, 29367, time: 4.24 s\n",
      "fixed, 2.0: True, 144, 26791, time: 3.74 s\n",
      "fixed, 1.9000000000000001: True, 144, 27493, time: 4.09 s\n",
      "fixed, 1.8: True, 106, 15069, time: 2.23 s\n",
      "fixed, 1.7: True, 94, 10213, time: 1.42 s\n",
      "fixed, 1.6: True, 94, 8068, time: 1.13 s\n",
      "fixed, 1.5: True, 86, 9537, time: 1.32 s\n"
     ]
    },
    {
     "data": {
      "application/vnd.jupyter.widget-view+json": {
       "model_id": "9aa205eda1a74260a19c44f60eb92f38",
       "version_major": 2,
       "version_minor": 0
      },
      "text/plain": [
       "Randomizing:   0%|          | 0/100000 [00:00<?, ?it/s]"
      ]
     },
     "metadata": {},
     "output_type": "display_data"
    },
    {
     "name": "stdout",
     "output_type": "stream",
     "text": [
      "Instance 4\n",
      "[[ 3  5  7 13]\n",
      " [ 4 14 12  8]\n",
      " [15  9  2  1]\n",
      " [11  0  6 10]]\n",
      "fixed, 2.2: True, 168, 4940, time: 0.92 s\n",
      "fixed, 2.1: True, 168, 5841, time: 0.84 s\n",
      "fixed, 2.0: True, 168, 6797, time: 0.95 s\n",
      "fixed, 1.9000000000000001: True, 168, 9259, time: 1.31 s\n",
      "fixed, 1.8: True, 160, 7415, time: 1.04 s\n",
      "fixed, 1.7: True, 160, 7202, time: 1.00 s\n",
      "fixed, 1.6: True, 118, 2091, time: 0.29 s\n",
      "fixed, 1.5: True, 106, 67387, time: 9.33 s\n"
     ]
    },
    {
     "data": {
      "application/vnd.jupyter.widget-view+json": {
       "model_id": "69b9c63102af4a4b85b181c54f05117b",
       "version_major": 2,
       "version_minor": 0
      },
      "text/plain": [
       "Randomizing:   0%|          | 0/100000 [00:00<?, ?it/s]"
      ]
     },
     "metadata": {},
     "output_type": "display_data"
    },
    {
     "name": "stdout",
     "output_type": "stream",
     "text": [
      "Instance 5\n",
      "[[12  1  0 15]\n",
      " [ 3  9  4  2]\n",
      " [ 5 13  8  6]\n",
      " [10 11 14  7]]\n",
      "fixed, 2.2: True, 150, 12826, time: 1.95 s\n",
      "fixed, 2.1: True, 150, 12717, time: 1.79 s\n",
      "fixed, 2.0: True, 150, 13408, time: 2.04 s\n",
      "fixed, 1.9000000000000001: True, 122, 20815, time: 2.99 s\n",
      "fixed, 1.8: True, 122, 20889, time: 2.94 s\n",
      "fixed, 1.7: True, 118, 19884, time: 2.98 s\n",
      "fixed, 1.6: True, 98, 38927, time: 5.38 s\n",
      "fixed, 1.5: True, 98, 25662, time: 3.65 s\n"
     ]
    },
    {
     "data": {
      "application/vnd.jupyter.widget-view+json": {
       "model_id": "0baba9fe99e049609a5c8a39fc6c8d4b",
       "version_major": 2,
       "version_minor": 0
      },
      "text/plain": [
       "Randomizing:   0%|          | 0/100000 [00:00<?, ?it/s]"
      ]
     },
     "metadata": {},
     "output_type": "display_data"
    },
    {
     "name": "stdout",
     "output_type": "stream",
     "text": [
      "Instance 6\n",
      "[[11  4 12 10]\n",
      " [ 1 15  3  2]\n",
      " [ 0 14  9  6]\n",
      " [ 8 13  5  7]]\n",
      "fixed, 2.2: True, 132, 9959, time: 1.51 s\n",
      "fixed, 2.1: True, 132, 9356, time: 1.34 s\n",
      "fixed, 2.0: True, 132, 8598, time: 1.21 s\n",
      "fixed, 1.9000000000000001: True, 136, 10143, time: 1.47 s\n",
      "fixed, 1.8: True, 136, 11315, time: 1.63 s\n",
      "fixed, 1.7: True, 130, 14032, time: 2.18 s\n",
      "fixed, 1.6: True, 118, 10275, time: 1.48 s\n",
      "fixed, 1.5: True, 102, 20833, time: 2.90 s\n"
     ]
    },
    {
     "data": {
      "application/vnd.jupyter.widget-view+json": {
       "model_id": "a8ba16f34326407fb02727ac99a10ac0",
       "version_major": 2,
       "version_minor": 0
      },
      "text/plain": [
       "Randomizing:   0%|          | 0/100000 [00:00<?, ?it/s]"
      ]
     },
     "metadata": {},
     "output_type": "display_data"
    },
    {
     "name": "stdout",
     "output_type": "stream",
     "text": [
      "Instance 7\n",
      "[[13 10  7  8]\n",
      " [ 5  2 14 11]\n",
      " [ 9  1  3 15]\n",
      " [ 6  0  4 12]]\n",
      "fixed, 2.2: True, 156, 16846, time: 2.42 s\n",
      "fixed, 2.1: True, 156, 28170, time: 3.96 s\n",
      "fixed, 2.0: True, 136, 31178, time: 4.28 s\n",
      "fixed, 1.9000000000000001: True, 112, 14621, time: 2.15 s\n",
      "fixed, 1.8: True, 112, 5099, time: 0.73 s\n",
      "fixed, 1.7: True, 94, 2249, time: 0.33 s\n",
      "fixed, 1.6: True, 94, 1369, time: 0.19 s\n",
      "fixed, 1.5: True, 80, 1046, time: 0.16 s\n"
     ]
    },
    {
     "data": {
      "application/vnd.jupyter.widget-view+json": {
       "model_id": "5b1c6d92accc463498777f00e998850f",
       "version_major": 2,
       "version_minor": 0
      },
      "text/plain": [
       "Randomizing:   0%|          | 0/100000 [00:00<?, ?it/s]"
      ]
     },
     "metadata": {},
     "output_type": "display_data"
    },
    {
     "name": "stdout",
     "output_type": "stream",
     "text": [
      "Instance 8\n",
      "[[ 7 15 12  3]\n",
      " [ 2  5 14 10]\n",
      " [ 1 13  6 11]\n",
      " [ 8  9  4  0]]\n",
      "fixed, 2.2: True, 106, 6511, time: 1.07 s\n",
      "fixed, 2.1: True, 106, 6478, time: 0.90 s\n",
      "fixed, 2.0: True, 106, 6287, time: 0.88 s\n",
      "fixed, 1.9000000000000001: True, 106, 5455, time: 0.77 s\n",
      "fixed, 1.8: True, 104, 6511, time: 0.92 s\n",
      "fixed, 1.7: True, 100, 3389, time: 0.47 s\n",
      "fixed, 1.6: True, 104, 99947, time: 13.06 s\n",
      "fixed, 1.5: True, 94, 141795, time: 19.50 s\n"
     ]
    },
    {
     "data": {
      "application/vnd.jupyter.widget-view+json": {
       "model_id": "729b86e707c54dfabe4349330d5e72a8",
       "version_major": 2,
       "version_minor": 0
      },
      "text/plain": [
       "Randomizing:   0%|          | 0/100000 [00:00<?, ?it/s]"
      ]
     },
     "metadata": {},
     "output_type": "display_data"
    },
    {
     "name": "stdout",
     "output_type": "stream",
     "text": [
      "Instance 9\n",
      "[[ 8  6  3  5]\n",
      " [ 4  9 13  1]\n",
      " [15  2  7 11]\n",
      " [14  0 12 10]]\n",
      "fixed, 2.2: True, 118, 8670, time: 1.32 s\n",
      "fixed, 2.1: True, 118, 7683, time: 1.11 s\n",
      "fixed, 2.0: True, 118, 6766, time: 0.98 s\n",
      "fixed, 1.9000000000000001: True, 118, 6147, time: 0.87 s\n",
      "fixed, 1.8: True, 108, 5836, time: 0.84 s\n",
      "fixed, 1.7: True, 108, 6008, time: 0.85 s\n",
      "fixed, 1.6: True, 98, 9614, time: 1.43 s\n",
      "fixed, 1.5: True, 100, 15258, time: 2.17 s\n"
     ]
    },
    {
     "data": {
      "application/vnd.jupyter.widget-view+json": {
       "model_id": "fdb747b856fe4992811c2d22efe25b19",
       "version_major": 2,
       "version_minor": 0
      },
      "text/plain": [
       "Randomizing:   0%|          | 0/100000 [00:00<?, ?it/s]"
      ]
     },
     "metadata": {},
     "output_type": "display_data"
    },
    {
     "name": "stdout",
     "output_type": "stream",
     "text": [
      "Instance 10\n",
      "[[ 8  5  9  3]\n",
      " [ 2  7  4 15]\n",
      " [14 10  0  6]\n",
      " [11 12 13  1]]\n",
      "fixed, 2.2: True, 142, 21902, time: 3.06 s\n",
      "fixed, 2.1: True, 142, 19084, time: 2.79 s\n",
      "fixed, 2.0: True, 126, 14596, time: 2.08 s\n",
      "fixed, 1.9000000000000001: True, 126, 13591, time: 1.85 s\n",
      "fixed, 1.8: True, 128, 13027, time: 1.86 s\n",
      "fixed, 1.7: True, 126, 13907, time: 1.99 s\n",
      "fixed, 1.6: True, 104, 7994, time: 1.14 s\n",
      "fixed, 1.5: True, 98, 13483, time: 2.08 s\n"
     ]
    },
    {
     "data": {
      "application/vnd.jupyter.widget-view+json": {
       "model_id": "aaec8b8791e7495487f61f0cff26c597",
       "version_major": 2,
       "version_minor": 0
      },
      "text/plain": [
       "Randomizing:   0%|          | 0/100000 [00:00<?, ?it/s]"
      ]
     },
     "metadata": {},
     "output_type": "display_data"
    },
    {
     "name": "stdout",
     "output_type": "stream",
     "text": [
      "Instance 11\n",
      "[[10  3  0  2]\n",
      " [ 9  6  1 15]\n",
      " [12  5  4 11]\n",
      " [ 8  7 14 13]]\n",
      "fixed, 2.2: True, 134, 16980, time: 2.47 s\n",
      "fixed, 2.1: True, 134, 15196, time: 2.14 s\n",
      "fixed, 2.0: True, 118, 13299, time: 2.04 s\n",
      "fixed, 1.9000000000000001: True, 118, 10363, time: 1.54 s\n",
      "fixed, 1.8: True, 118, 10788, time: 1.60 s\n",
      "fixed, 1.7: True, 94, 4180, time: 0.59 s\n",
      "fixed, 1.6: True, 94, 3786, time: 0.54 s\n",
      "fixed, 1.5: True, 88, 7545, time: 1.09 s\n"
     ]
    },
    {
     "data": {
      "application/vnd.jupyter.widget-view+json": {
       "model_id": "a3ccb49d209042208e96faeeedb537cb",
       "version_major": 2,
       "version_minor": 0
      },
      "text/plain": [
       "Randomizing:   0%|          | 0/100000 [00:00<?, ?it/s]"
      ]
     },
     "metadata": {},
     "output_type": "display_data"
    },
    {
     "name": "stdout",
     "output_type": "stream",
     "text": [
      "Instance 12\n",
      "[[15  1  6  5]\n",
      " [11  0 12  7]\n",
      " [10  4  9 13]\n",
      " [ 2  3 14  8]]\n",
      "fixed, 2.2: True, 216, 19057, time: 2.71 s\n",
      "fixed, 2.1: True, 216, 33138, time: 4.65 s\n",
      "fixed, 2.0: True, 180, 27275, time: 3.78 s\n",
      "fixed, 1.9000000000000001: True, 184, 14738, time: 2.17 s\n",
      "fixed, 1.8: True, 160, 13284, time: 1.85 s\n",
      "fixed, 1.7: True, 122, 2835, time: 0.41 s\n",
      "fixed, 1.6: True, 118, 2581, time: 0.37 s\n",
      "fixed, 1.5: True, 126, 12526, time: 1.85 s\n"
     ]
    },
    {
     "data": {
      "application/vnd.jupyter.widget-view+json": {
       "model_id": "870b9b9d724f4034a9d8c0bc3f770817",
       "version_major": 2,
       "version_minor": 0
      },
      "text/plain": [
       "Randomizing:   0%|          | 0/100000 [00:00<?, ?it/s]"
      ]
     },
     "metadata": {},
     "output_type": "display_data"
    },
    {
     "name": "stdout",
     "output_type": "stream",
     "text": [
      "Instance 13\n",
      "[[ 1  2  7 11]\n",
      " [ 3 15  9  4]\n",
      " [14  6 10 12]\n",
      " [ 5  0 13  8]]\n",
      "fixed, 2.2: True, 118, 13649, time: 1.99 s\n",
      "fixed, 2.1: True, 118, 16240, time: 2.18 s\n",
      "fixed, 2.0: True, 104, 17327, time: 2.55 s\n",
      "fixed, 1.9000000000000001: True, 104, 13968, time: 2.03 s\n",
      "fixed, 1.8: True, 100, 22642, time: 3.22 s\n",
      "fixed, 1.7: True, 64, 17699, time: 2.68 s\n",
      "fixed, 1.6: True, 64, 2950, time: 0.45 s\n",
      "fixed, 1.5: True, 56, 3756, time: 0.52 s\n"
     ]
    },
    {
     "data": {
      "application/vnd.jupyter.widget-view+json": {
       "model_id": "2242867001344670af74bf26425a4663",
       "version_major": 2,
       "version_minor": 0
      },
      "text/plain": [
       "Randomizing:   0%|          | 0/100000 [00:00<?, ?it/s]"
      ]
     },
     "metadata": {},
     "output_type": "display_data"
    },
    {
     "name": "stdout",
     "output_type": "stream",
     "text": [
      "Instance 14\n",
      "[[ 8 10 14 15]\n",
      " [ 7 11  3 13]\n",
      " [ 4  1  5  9]\n",
      " [ 2  6 12  0]]\n",
      "fixed, 2.2: True, 114, 3364, time: 0.48 s\n",
      "fixed, 2.1: True, 114, 3271, time: 0.53 s\n",
      "fixed, 2.0: True, 114, 3017, time: 0.43 s\n",
      "fixed, 1.9000000000000001: True, 114, 2888, time: 0.44 s\n",
      "fixed, 1.8: True, 114, 3381, time: 0.48 s\n",
      "fixed, 1.7: True, 108, 3257, time: 0.47 s\n",
      "fixed, 1.6: True, 108, 2658, time: 0.39 s\n",
      "fixed, 1.5: True, 108, 2372, time: 0.36 s\n"
     ]
    },
    {
     "data": {
      "application/vnd.jupyter.widget-view+json": {
       "model_id": "7613bfadb6744ce69de428b0ad7fac29",
       "version_major": 2,
       "version_minor": 0
      },
      "text/plain": [
       "Randomizing:   0%|          | 0/100000 [00:00<?, ?it/s]"
      ]
     },
     "metadata": {},
     "output_type": "display_data"
    },
    {
     "name": "stdout",
     "output_type": "stream",
     "text": [
      "Instance 15\n",
      "[[ 6 12 13 15]\n",
      " [ 9  8 11  1]\n",
      " [ 2 14  4  5]\n",
      " [10  7  3  0]]\n",
      "fixed, 2.2: True, 138, 24047, time: 3.41 s\n",
      "fixed, 2.1: True, 138, 18767, time: 2.64 s\n",
      "fixed, 2.0: True, 138, 15356, time: 2.29 s\n",
      "fixed, 1.9000000000000001: True, 142, 11129, time: 1.65 s\n",
      "fixed, 1.8: True, 142, 7536, time: 1.08 s\n",
      "fixed, 1.7: True, 124, 3673, time: 0.53 s\n",
      "fixed, 1.6: True, 126, 79580, time: 10.75 s\n",
      "fixed, 1.5: True, 114, 73293, time: 9.99 s\n"
     ]
    },
    {
     "data": {
      "application/vnd.jupyter.widget-view+json": {
       "model_id": "1473c5b690964d379b311a060012b7a8",
       "version_major": 2,
       "version_minor": 0
      },
      "text/plain": [
       "Randomizing:   0%|          | 0/100000 [00:00<?, ?it/s]"
      ]
     },
     "metadata": {},
     "output_type": "display_data"
    },
    {
     "name": "stdout",
     "output_type": "stream",
     "text": [
      "Instance 16\n",
      "[[ 8 15 13 12]\n",
      " [10  0  1  3]\n",
      " [ 4  5  7 11]\n",
      " [14  6  9  2]]\n",
      "fixed, 2.2: True, 174, 12765, time: 2.00 s\n",
      "fixed, 2.1: True, 174, 17315, time: 2.38 s\n",
      "fixed, 2.0: True, 156, 36619, time: 5.08 s\n",
      "fixed, 1.9000000000000001: True, 156, 24305, time: 3.47 s\n",
      "fixed, 1.8: True, 126, 12588, time: 1.78 s\n",
      "fixed, 1.7: True, 126, 6245, time: 0.97 s\n",
      "fixed, 1.6: True, 122, 9647, time: 1.41 s\n",
      "fixed, 1.5: True, 114, 15028, time: 2.09 s\n"
     ]
    },
    {
     "data": {
      "application/vnd.jupyter.widget-view+json": {
       "model_id": "38f76710c19449a695f3ef69a2c72b57",
       "version_major": 2,
       "version_minor": 0
      },
      "text/plain": [
       "Randomizing:   0%|          | 0/100000 [00:00<?, ?it/s]"
      ]
     },
     "metadata": {},
     "output_type": "display_data"
    },
    {
     "name": "stdout",
     "output_type": "stream",
     "text": [
      "Instance 17\n",
      "[[10  6 11  8]\n",
      " [ 4  5 15 14]\n",
      " [ 0  2  1  3]\n",
      " [12 13  9  7]]\n",
      "fixed, 2.2: True, 164, 7614, time: 1.28 s\n",
      "fixed, 2.1: True, 146, 7565, time: 1.07 s\n",
      "fixed, 2.0: True, 152, 36291, time: 4.87 s\n",
      "fixed, 1.9000000000000001: True, 148, 23260, time: 3.33 s\n",
      "fixed, 1.8: True, 138, 14826, time: 2.02 s\n",
      "fixed, 1.7: True, 138, 24303, time: 3.39 s\n",
      "fixed, 1.6: True, 122, 37756, time: 5.19 s\n",
      "fixed, 1.5: True, 100, 16054, time: 2.27 s\n"
     ]
    },
    {
     "data": {
      "application/vnd.jupyter.widget-view+json": {
       "model_id": "0004719588744ab78b4c0357f5cc58d7",
       "version_major": 2,
       "version_minor": 0
      },
      "text/plain": [
       "Randomizing:   0%|          | 0/100000 [00:00<?, ?it/s]"
      ]
     },
     "metadata": {},
     "output_type": "display_data"
    },
    {
     "name": "stdout",
     "output_type": "stream",
     "text": [
      "Instance 18\n",
      "[[ 3  8  5  2]\n",
      " [ 6  1 10 12]\n",
      " [13  7  0 15]\n",
      " [14 11  4  9]]\n",
      "fixed, 2.2: True, 96, 1569, time: 0.23 s\n",
      "fixed, 2.1: True, 96, 1569, time: 0.23 s\n",
      "fixed, 2.0: True, 96, 1565, time: 0.32 s\n",
      "fixed, 1.9000000000000001: True, 92, 2032, time: 0.31 s\n",
      "fixed, 1.8: True, 92, 1809, time: 0.26 s\n",
      "fixed, 1.7: True, 82, 1467, time: 0.22 s\n",
      "fixed, 1.6: True, 82, 1455, time: 0.20 s\n",
      "fixed, 1.5: True, 76, 3040, time: 0.44 s\n"
     ]
    },
    {
     "data": {
      "application/vnd.jupyter.widget-view+json": {
       "model_id": "e1a05343255b44408a125c1cf5eaeb90",
       "version_major": 2,
       "version_minor": 0
      },
      "text/plain": [
       "Randomizing:   0%|          | 0/100000 [00:00<?, ?it/s]"
      ]
     },
     "metadata": {},
     "output_type": "display_data"
    },
    {
     "name": "stdout",
     "output_type": "stream",
     "text": [
      "Instance 19\n",
      "[[ 9 11 10  4]\n",
      " [ 1  0  5  6]\n",
      " [12 13  2  8]\n",
      " [14  3  7 15]]\n",
      "fixed, 2.2: True, 152, 18438, time: 2.67 s\n",
      "fixed, 2.1: True, 152, 17558, time: 2.56 s\n",
      "fixed, 2.0: True, 132, 22384, time: 3.16 s\n",
      "fixed, 1.9000000000000001: True, 126, 21615, time: 3.05 s\n",
      "fixed, 1.8: True, 110, 12958, time: 1.94 s\n",
      "fixed, 1.7: True, 82, 4741, time: 0.82 s\n",
      "fixed, 1.6: True, 82, 13624, time: 1.98 s\n",
      "fixed, 1.5: True, 76, 46681, time: 7.00 s\n"
     ]
    },
    {
     "data": {
      "application/vnd.jupyter.widget-view+json": {
       "model_id": "714edcb44c224aec9b58a177de6d9553",
       "version_major": 2,
       "version_minor": 0
      },
      "text/plain": [
       "Randomizing:   0%|          | 0/100000 [00:00<?, ?it/s]"
      ]
     },
     "metadata": {},
     "output_type": "display_data"
    },
    {
     "name": "stdout",
     "output_type": "stream",
     "text": [
      "Instance 20\n",
      "[[14  4  9  5]\n",
      " [ 1 13  3 10]\n",
      " [ 0  8  2  6]\n",
      " [11 15  7 12]]\n",
      "fixed, 2.2: True, 182, 13170, time: 2.11 s\n",
      "fixed, 2.1: True, 182, 13277, time: 2.00 s\n",
      "fixed, 2.0: True, 156, 16296, time: 2.43 s\n",
      "fixed, 1.9000000000000001: True, 154, 14475, time: 2.09 s\n",
      "fixed, 1.8: True, 152, 14473, time: 2.12 s\n",
      "fixed, 1.7: True, 146, 23579, time: 3.49 s\n",
      "fixed, 1.6: True, 114, 9190, time: 1.33 s\n",
      "fixed, 1.5: True, 120, 9053, time: 1.37 s\n"
     ]
    },
    {
     "data": {
      "application/vnd.jupyter.widget-view+json": {
       "model_id": "e928687f9ddf46dbb9db0f708d1f558a",
       "version_major": 2,
       "version_minor": 0
      },
      "text/plain": [
       "Randomizing:   0%|          | 0/100000 [00:00<?, ?it/s]"
      ]
     },
     "metadata": {},
     "output_type": "display_data"
    },
    {
     "name": "stdout",
     "output_type": "stream",
     "text": [
      "Instance 21\n",
      "[[13 12  0  7]\n",
      " [ 1 11  2 10]\n",
      " [ 9  6  5  3]\n",
      " [14  4  8 15]]\n",
      "fixed, 2.2: True, 124, 10877, time: 1.58 s\n",
      "fixed, 2.1: True, 124, 10658, time: 1.51 s\n",
      "fixed, 2.0: True, 124, 10301, time: 1.64 s\n",
      "fixed, 1.9000000000000001: True, 122, 66641, time: 9.44 s\n",
      "fixed, 1.8: True, 122, 26132, time: 3.70 s\n",
      "fixed, 1.7: True, 110, 33786, time: 4.73 s\n",
      "fixed, 1.6: True, 102, 14915, time: 2.33 s\n",
      "fixed, 1.5: True, 94, 11291, time: 1.62 s\n"
     ]
    },
    {
     "data": {
      "application/vnd.jupyter.widget-view+json": {
       "model_id": "4c4d6d50c6dc4450aba9c28b43acd637",
       "version_major": 2,
       "version_minor": 0
      },
      "text/plain": [
       "Randomizing:   0%|          | 0/100000 [00:00<?, ?it/s]"
      ]
     },
     "metadata": {},
     "output_type": "display_data"
    },
    {
     "name": "stdout",
     "output_type": "stream",
     "text": [
      "Instance 22\n",
      "[[12 15  8  5]\n",
      " [ 3  0 10  6]\n",
      " [ 2  1  4 13]\n",
      " [11  9 14  7]]\n",
      "fixed, 2.2: True, 158, 11256, time: 1.66 s\n",
      "fixed, 2.1: True, 158, 17920, time: 2.46 s\n",
      "fixed, 2.0: True, 146, 21289, time: 3.05 s\n",
      "fixed, 1.9000000000000001: True, 146, 10906, time: 1.51 s\n",
      "fixed, 1.8: True, 134, 13507, time: 2.04 s\n",
      "fixed, 1.7: True, 134, 18441, time: 2.65 s\n",
      "fixed, 1.6: True, 114, 16006, time: 2.31 s\n",
      "fixed, 1.5: True, 112, 4971, time: 0.84 s\n"
     ]
    },
    {
     "data": {
      "application/vnd.jupyter.widget-view+json": {
       "model_id": "a3818c2905ec4ac59b667b7e822ada66",
       "version_major": 2,
       "version_minor": 0
      },
      "text/plain": [
       "Randomizing:   0%|          | 0/100000 [00:00<?, ?it/s]"
      ]
     },
     "metadata": {},
     "output_type": "display_data"
    },
    {
     "name": "stdout",
     "output_type": "stream",
     "text": [
      "Instance 23\n",
      "[[13  3  5  4]\n",
      " [10 15  8  1]\n",
      " [ 9 14  0  7]\n",
      " [12  2  6 11]]\n",
      "fixed, 2.2: True, 112, 3175, time: 0.49 s\n",
      "fixed, 2.1: True, 112, 3099, time: 0.53 s\n",
      "fixed, 2.0: True, 112, 3011, time: 0.44 s\n",
      "fixed, 1.9000000000000001: True, 112, 2999, time: 0.45 s\n",
      "fixed, 1.8: True, 106, 3014, time: 0.46 s\n",
      "fixed, 1.7: True, 92, 3604, time: 0.59 s\n",
      "fixed, 1.6: True, 92, 19048, time: 2.74 s\n",
      "fixed, 1.5: True, 80, 11802, time: 1.71 s\n"
     ]
    },
    {
     "data": {
      "application/vnd.jupyter.widget-view+json": {
       "model_id": "800a48f1cf6e4da9bd524b596262b028",
       "version_major": 2,
       "version_minor": 0
      },
      "text/plain": [
       "Randomizing:   0%|          | 0/100000 [00:00<?, ?it/s]"
      ]
     },
     "metadata": {},
     "output_type": "display_data"
    },
    {
     "name": "stdout",
     "output_type": "stream",
     "text": [
      "Instance 24\n",
      "[[ 7  5 15  2]\n",
      " [ 8 11 13 10]\n",
      " [ 0  6 12  9]\n",
      " [ 4  3 14  1]]\n",
      "fixed, 2.2: True, 140, 23178, time: 3.42 s\n",
      "fixed, 2.1: True, 132, 25971, time: 3.61 s\n",
      "fixed, 2.0: True, 132, 21290, time: 3.00 s\n",
      "fixed, 1.9000000000000001: True, 132, 21904, time: 3.15 s\n",
      "fixed, 1.8: True, 126, 33870, time: 4.57 s\n",
      "fixed, 1.7: True, 118, 18405, time: 2.55 s\n",
      "fixed, 1.6: True, 106, 12837, time: 1.97 s\n",
      "fixed, 1.5: True, 106, 20847, time: 2.97 s\n"
     ]
    },
    {
     "data": {
      "application/vnd.jupyter.widget-view+json": {
       "model_id": "0b40cdaa9b764a18a443a036efe4c9ab",
       "version_major": 2,
       "version_minor": 0
      },
      "text/plain": [
       "Randomizing:   0%|          | 0/100000 [00:00<?, ?it/s]"
      ]
     },
     "metadata": {},
     "output_type": "display_data"
    },
    {
     "name": "stdout",
     "output_type": "stream",
     "text": [
      "Instance 25\n",
      "[[14  3  6 15]\n",
      " [11  5 10 13]\n",
      " [ 0  7  9  4]\n",
      " [12  1  8  2]]\n",
      "fixed, 2.2: True, 158, 10614, time: 1.57 s\n",
      "fixed, 2.1: True, 158, 9996, time: 1.59 s\n",
      "fixed, 2.0: True, 158, 10391, time: 1.44 s\n",
      "fixed, 1.9000000000000001: True, 158, 10207, time: 1.60 s\n",
      "fixed, 1.8: True, 116, 6071, time: 0.88 s\n",
      "fixed, 1.7: True, 116, 5206, time: 0.75 s\n",
      "fixed, 1.6: True, 116, 5444, time: 0.78 s\n",
      "fixed, 1.5: True, 116, 5340, time: 0.77 s\n"
     ]
    },
    {
     "data": {
      "application/vnd.jupyter.widget-view+json": {
       "model_id": "d6adb4e676b14f31b4da7306e2407819",
       "version_major": 2,
       "version_minor": 0
      },
      "text/plain": [
       "Randomizing:   0%|          | 0/100000 [00:00<?, ?it/s]"
      ]
     },
     "metadata": {},
     "output_type": "display_data"
    },
    {
     "name": "stdout",
     "output_type": "stream",
     "text": [
      "Instance 26\n",
      "[[ 0  6 13  5]\n",
      " [ 7  8  4  3]\n",
      " [11  1 15 14]\n",
      " [ 9 10 12  2]]\n",
      "fixed, 2.2: True, 100, 2547, time: 0.38 s\n",
      "fixed, 2.1: True, 100, 2547, time: 0.43 s\n",
      "fixed, 2.0: True, 100, 2547, time: 0.38 s\n",
      "fixed, 1.9000000000000001: True, 100, 2547, time: 0.38 s\n",
      "fixed, 1.8: True, 100, 2481, time: 0.37 s\n",
      "fixed, 1.7: True, 100, 2367, time: 0.35 s\n",
      "fixed, 1.6: True, 104, 7547, time: 1.11 s\n",
      "fixed, 1.5: True, 94, 10615, time: 1.58 s\n"
     ]
    },
    {
     "data": {
      "application/vnd.jupyter.widget-view+json": {
       "model_id": "bf256e972838401c9888b4f89299099a",
       "version_major": 2,
       "version_minor": 0
      },
      "text/plain": [
       "Randomizing:   0%|          | 0/100000 [00:00<?, ?it/s]"
      ]
     },
     "metadata": {},
     "output_type": "display_data"
    },
    {
     "name": "stdout",
     "output_type": "stream",
     "text": [
      "Instance 27\n",
      "[[15 10  5 11]\n",
      " [ 7 13  6  0]\n",
      " [ 8  1  3  4]\n",
      " [ 9 12  2 14]]\n",
      "fixed, 2.2: True, 108, 3125, time: 0.57 s\n",
      "fixed, 2.1: True, 108, 2842, time: 0.41 s\n",
      "fixed, 2.0: True, 108, 2555, time: 0.39 s\n",
      "fixed, 1.9000000000000001: True, 108, 2420, time: 0.35 s\n",
      "fixed, 1.8: True, 108, 2321, time: 0.34 s\n",
      "fixed, 1.7: True, 108, 2228, time: 0.34 s\n",
      "fixed, 1.6: True, 108, 2259, time: 0.34 s\n",
      "fixed, 1.5: True, 116, 47013, time: 6.71 s\n"
     ]
    },
    {
     "data": {
      "application/vnd.jupyter.widget-view+json": {
       "model_id": "15b3c7ee85a94078af12e75e9db20780",
       "version_major": 2,
       "version_minor": 0
      },
      "text/plain": [
       "Randomizing:   0%|          | 0/100000 [00:00<?, ?it/s]"
      ]
     },
     "metadata": {},
     "output_type": "display_data"
    },
    {
     "name": "stdout",
     "output_type": "stream",
     "text": [
      "Instance 28\n",
      "[[15  5  4  9]\n",
      " [ 3  1 12 10]\n",
      " [ 7 11  2  6]\n",
      " [ 8 13 14  0]]\n",
      "fixed, 2.2: True, 158, 16346, time: 2.41 s\n",
      "fixed, 2.1: True, 136, 14213, time: 2.32 s\n",
      "fixed, 2.0: True, 136, 13711, time: 1.97 s\n",
      "fixed, 1.9000000000000001: True, 126, 12418, time: 1.78 s\n",
      "fixed, 1.8: True, 126, 9205, time: 1.35 s\n",
      "fixed, 1.7: True, 126, 10616, time: 1.56 s\n",
      "fixed, 1.6: True, 110, 5287, time: 0.78 s\n",
      "fixed, 1.5: True, 100, 17746, time: 2.61 s\n"
     ]
    },
    {
     "data": {
      "application/vnd.jupyter.widget-view+json": {
       "model_id": "aa0673f84c2547a7b8aeab8ebdec8cdd",
       "version_major": 2,
       "version_minor": 0
      },
      "text/plain": [
       "Randomizing:   0%|          | 0/100000 [00:00<?, ?it/s]"
      ]
     },
     "metadata": {},
     "output_type": "display_data"
    },
    {
     "name": "stdout",
     "output_type": "stream",
     "text": [
      "Instance 29\n",
      "[[13  9 12  3]\n",
      " [ 7  8 11  2]\n",
      " [ 5  1 15 14]\n",
      " [ 4  6 10  0]]\n",
      "fixed, 2.2: True, 104, 21180, time: 2.98 s\n",
      "fixed, 2.1: True, 104, 16141, time: 2.39 s\n",
      "fixed, 2.0: True, 104, 12810, time: 1.86 s\n",
      "fixed, 1.9000000000000001: True, 104, 10699, time: 1.59 s\n",
      "fixed, 1.8: True, 94, 11188, time: 1.78 s\n",
      "fixed, 1.7: True, 94, 16241, time: 2.30 s\n",
      "fixed, 1.6: True, 96, 12197, time: 1.65 s\n",
      "fixed, 1.5: True, 86, 5253, time: 0.75 s\n"
     ]
    },
    {
     "data": {
      "text/plain": [
       "{1000: {('fixed', 2.2): [(164, 42929, 10.551998376846313)],\n",
       "  ('fixed', 2.1): [(120, 44173, 10.39001989364624)],\n",
       "  ('fixed', 2.0): [(118, 25742, 4.617973566055298)],\n",
       "  ('fixed', 1.9000000000000001): [(118, 13848, 3.840998411178589)],\n",
       "  ('fixed', 1.8): [(118, 7795, 2.3029980659484863)],\n",
       "  ('fixed', 1.7): [(118, 21418, 5.326996088027954)],\n",
       "  ('fixed', 1.6): [(106, 45388, 10.946002960205078)],\n",
       "  ('fixed', 1.5): [(100, 18270, 4.371994733810425)]},\n",
       " 10000: {('fixed', 2.2): [(136, 21359, 2.9950010776519775)],\n",
       "  ('fixed', 2.1): [(120, 17199, 2.358999729156494)],\n",
       "  ('fixed', 2.0): [(120, 17372, 2.554049015045166)],\n",
       "  ('fixed', 1.9000000000000001): [(120, 20178, 2.7929558753967285)],\n",
       "  ('fixed', 1.8): [(112, 29233, 4.04105019569397)],\n",
       "  ('fixed', 1.7): [(104, 19830, 2.9359891414642334)],\n",
       "  ('fixed', 1.6): [(92, 27883, 3.9059507846832275)],\n",
       "  ('fixed', 1.5): [(80, 45860, 6.187575578689575)]},\n",
       " 30000: {('fixed', 2.2): [(126, 3443, 0.5120184421539307)],\n",
       "  ('fixed', 2.1): [(126, 3436, 0.518913984298706)],\n",
       "  ('fixed', 2.0): [(126, 3418, 0.4900522232055664)],\n",
       "  ('fixed', 1.9000000000000001): [(124, 3013, 0.4430069923400879)],\n",
       "  ('fixed', 1.8): [(124, 2703, 0.40500807762145996)],\n",
       "  ('fixed', 1.7): [(124, 2902, 0.4251866340637207)],\n",
       "  ('fixed', 1.6): [(124, 3023, 0.4430105686187744)],\n",
       "  ('fixed', 1.5): [(122, 3782, 0.5539765357971191)]},\n",
       " 100000: {('fixed', 2.2): [(104, 21180, 2.984053373336792)],\n",
       "  ('fixed', 2.1): [(104, 16141, 2.393014430999756)],\n",
       "  ('fixed', 2.0): [(104, 12810, 1.8639750480651855)],\n",
       "  ('fixed', 1.9000000000000001): [(104, 10699, 1.594007968902588)],\n",
       "  ('fixed', 1.8): [(94, 11188, 1.7769861221313477)],\n",
       "  ('fixed', 1.7): [(94, 16241, 2.3001482486724854)],\n",
       "  ('fixed', 1.6): [(96, 12197, 1.649038553237915)],\n",
       "  ('fixed', 1.5): [(86, 5253, 0.749539852142334)]}}"
      ]
     },
     "execution_count": 121,
     "metadata": {},
     "output_type": "execute_result"
    }
   ],
   "source": [
    "results = dict()\n",
    "\n",
    "fixed_heur = dict(zip([strategies[0]], [functions[0]]))\n",
    "exp_values = np.linspace(1.5, 2.2, num=8).tolist()[::-1]      # 0.1 step, starting from fastest\n",
    "\n",
    "rand_steps_values = [1000, 10_000, 30_000, 100_000]         # 1000 original value, others are minimums in the cost plot\n",
    "for rand_steps in rand_steps_values:\n",
    "    TRIES = 30\n",
    "    for i in range(TRIES):\n",
    "        goal = np.array([n for n in range(1, PUZZLE_DIM**2)] + [0]).reshape((PUZZLE_DIM, PUZZLE_DIM))\n",
    "        content = init_state(goal, randomize_steps=rand_steps)\n",
    "        print(f\"Instance {i}\")\n",
    "        print(content)\n",
    "        results[rand_steps] = dict()\n",
    "        solve_instance(content, goal, results[rand_steps], heuristics=fixed_heur, exp_values=exp_values)\n",
    "\n",
    "results\n"
   ]
  },
  {
   "cell_type": "code",
   "execution_count": 122,
   "metadata": {},
   "outputs": [
    {
     "data": {
      "text/plain": [
       "{1000: {2.2: {'quality': 164.0,\n",
       "   'cost': 42929.0,\n",
       "   'elapsed': 10.551998376846313},\n",
       "  2.1: {'quality': 120.0, 'cost': 44173.0, 'elapsed': 10.39001989364624},\n",
       "  2.0: {'quality': 118.0, 'cost': 25742.0, 'elapsed': 4.617973566055298},\n",
       "  1.9000000000000001: {'quality': 118.0,\n",
       "   'cost': 13848.0,\n",
       "   'elapsed': 3.840998411178589},\n",
       "  1.8: {'quality': 118.0, 'cost': 7795.0, 'elapsed': 2.3029980659484863},\n",
       "  1.7: {'quality': 118.0, 'cost': 21418.0, 'elapsed': 5.326996088027954},\n",
       "  1.6: {'quality': 106.0, 'cost': 45388.0, 'elapsed': 10.946002960205078},\n",
       "  1.5: {'quality': 100.0, 'cost': 18270.0, 'elapsed': 4.371994733810425}},\n",
       " 10000: {2.2: {'quality': 136.0,\n",
       "   'cost': 21359.0,\n",
       "   'elapsed': 2.9950010776519775},\n",
       "  2.1: {'quality': 120.0, 'cost': 17199.0, 'elapsed': 2.358999729156494},\n",
       "  2.0: {'quality': 120.0, 'cost': 17372.0, 'elapsed': 2.554049015045166},\n",
       "  1.9000000000000001: {'quality': 120.0,\n",
       "   'cost': 20178.0,\n",
       "   'elapsed': 2.7929558753967285},\n",
       "  1.8: {'quality': 112.0, 'cost': 29233.0, 'elapsed': 4.04105019569397},\n",
       "  1.7: {'quality': 104.0, 'cost': 19830.0, 'elapsed': 2.9359891414642334},\n",
       "  1.6: {'quality': 92.0, 'cost': 27883.0, 'elapsed': 3.9059507846832275},\n",
       "  1.5: {'quality': 80.0, 'cost': 45860.0, 'elapsed': 6.187575578689575}},\n",
       " 30000: {2.2: {'quality': 126.0,\n",
       "   'cost': 3443.0,\n",
       "   'elapsed': 0.5120184421539307},\n",
       "  2.1: {'quality': 126.0, 'cost': 3436.0, 'elapsed': 0.518913984298706},\n",
       "  2.0: {'quality': 126.0, 'cost': 3418.0, 'elapsed': 0.4900522232055664},\n",
       "  1.9000000000000001: {'quality': 124.0,\n",
       "   'cost': 3013.0,\n",
       "   'elapsed': 0.4430069923400879},\n",
       "  1.8: {'quality': 124.0, 'cost': 2703.0, 'elapsed': 0.40500807762145996},\n",
       "  1.7: {'quality': 124.0, 'cost': 2902.0, 'elapsed': 0.4251866340637207},\n",
       "  1.6: {'quality': 124.0, 'cost': 3023.0, 'elapsed': 0.4430105686187744},\n",
       "  1.5: {'quality': 122.0, 'cost': 3782.0, 'elapsed': 0.5539765357971191}},\n",
       " 100000: {2.2: {'quality': 104.0,\n",
       "   'cost': 21180.0,\n",
       "   'elapsed': 2.984053373336792},\n",
       "  2.1: {'quality': 104.0, 'cost': 16141.0, 'elapsed': 2.393014430999756},\n",
       "  2.0: {'quality': 104.0, 'cost': 12810.0, 'elapsed': 1.8639750480651855},\n",
       "  1.9000000000000001: {'quality': 104.0,\n",
       "   'cost': 10699.0,\n",
       "   'elapsed': 1.594007968902588},\n",
       "  1.8: {'quality': 94.0, 'cost': 11188.0, 'elapsed': 1.7769861221313477},\n",
       "  1.7: {'quality': 94.0, 'cost': 16241.0, 'elapsed': 2.3001482486724854},\n",
       "  1.6: {'quality': 96.0, 'cost': 12197.0, 'elapsed': 1.649038553237915},\n",
       "  1.5: {'quality': 86.0, 'cost': 5253.0, 'elapsed': 0.749539852142334}}}"
      ]
     },
     "execution_count": 122,
     "metadata": {},
     "output_type": "execute_result"
    }
   ],
   "source": [
    "avg_results = dict()\n",
    "keys = [\"quality\", \"cost\", \"elapsed\"]\n",
    "\n",
    "for (rand_steps, results_rand_steps) in results.items():\n",
    "    avg_results[rand_steps] = dict()\n",
    "    for ((_, exp), result) in results_rand_steps.items():\n",
    "        avg_result = statistics(result)\n",
    "        values = list(map(float, avg_result))\n",
    "        avg_results[rand_steps][exp] = dict(zip(keys, values))\n",
    "\n",
    "avg_results"
   ]
  },
  {
   "cell_type": "code",
   "execution_count": 123,
   "metadata": {},
   "outputs": [
    {
     "data": {
      "text/plain": [
       "{1000: [1.4203827192829455,\n",
       "  1.8865219327039897,\n",
       "  3.292120375723114,\n",
       "  6.119711345455258,\n",
       "  10.871810482599667,\n",
       "  3.9567542586546085,\n",
       "  2.0785146435513666,\n",
       "  5.473453749315818],\n",
       " 10000: [3.4425493592727134,\n",
       "  4.845242940481036,\n",
       "  4.796991327039681,\n",
       "  4.12991046354115,\n",
       "  3.0542781885442576,\n",
       "  4.848908025912564,\n",
       "  3.898276805720799,\n",
       "  2.725686873092019],\n",
       " 30000: [23.05114126200388,\n",
       "  23.098102259918324,\n",
       "  23.219742353738845,\n",
       "  26.765735575945097,\n",
       "  29.835427780363514,\n",
       "  27.789511126920257,\n",
       "  26.67719526639847,\n",
       "  21.672980728385536],\n",
       " 100000: [4.539841650323237,\n",
       "  5.9571182797748685,\n",
       "  7.506155047138654,\n",
       "  8.987180685470245,\n",
       "  9.50866810184164,\n",
       "  6.5502726878519955,\n",
       "  8.540351452542975,\n",
       "  22.135745244135133]}"
      ]
     },
     "execution_count": 123,
     "metadata": {},
     "output_type": "execute_result"
    }
   ],
   "source": [
    "efficiencies = {rand_steps: [1e7/(val[\"quality\"]*val[\"cost\"]) for val in avg_results_steps.values()] for (rand_steps, avg_results_steps) in avg_results.items()}\n",
    "efficiencies"
   ]
  },
  {
   "cell_type": "code",
   "execution_count": 125,
   "metadata": {},
   "outputs": [
    {
     "data": {
      "image/png": "[encoded data removed]",
      "text/plain": [
       "<Figure size 1400x800 with 1 Axes>"
      ]
     },
     "metadata": {},
     "output_type": "display_data"
    }
   ],
   "source": [
    "plt.figure(\"quality vs. exp\", figsize=(14,8))\n",
    "#plt.plot(list(avg_results.keys()), [val[\"quality\"] for val in avg_results.values()])\n",
    "for (rand_steps, efficiencies_steps) in efficiencies.items():\n",
    "    plt.plot(exp_values, efficiencies_steps, label=rand_steps)\n",
    "plt.legend(title=\"Rand. steps\")\n",
    "plt.title(\"Efficiency vs Exponent\")\n",
    "plt.xlabel(\"Exponent\")\n",
    "plt.ylabel(\"Efficiency\")\n",
    "\n",
    "plt.show()"
   ]
  }
 ],
 "metadata": {
  "kernelspec": {
   "display_name": "venv",
   "language": "python",
   "name": "python3"
  },
  "language_info": {
   "codemirror_mode": {
    "name": "ipython",
    "version": 3
   },
   "file_extension": ".py",
   "mimetype": "text/x-python",
   "name": "python",
   "nbconvert_exporter": "python",
   "pygments_lexer": "ipython3",
   "version": "3.11.8"
  }
 },
 "nbformat": 4,
 "nbformat_minor": 2
}
